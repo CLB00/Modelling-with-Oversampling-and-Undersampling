{
  "cells": [
    {
      "attachments": {},
      "cell_type": "markdown",
      "metadata": {},
      "source": [
        "## This is my final project for the Data Science bootcamp.\n",
        "\n",
        "## The dataset was provided to me to explore, clean, model and analyse."
      ]
    },
    {
      "attachments": {},
      "cell_type": "markdown",
      "metadata": {
        "id": "L07N_aLTYxDI"
      },
      "source": [
        "# Dataset information and issue to solve\n",
        "\n",
        "* Business type: Call center\n",
        "* Optimice call agents times by try to predict which clients are more likely to adquire credit\n",
        "* Dataset: 179,823 leads\n",
        "* Reach: 40%-60% of dataset\n",
        "* Sales / Conversion Ratio: 0.1%\n",
        "\n"
      ]
    },
    {
      "attachments": {},
      "cell_type": "markdown",
      "metadata": {
        "id": "HylAd1JhIfxZ"
      },
      "source": [
        "#Importar Libraries + data upload"
      ]
    },
    {
      "cell_type": "code",
      "execution_count": 1,
      "metadata": {
        "id": "j6MADiZeHcgh"
      },
      "outputs": [],
      "source": [
        "# Import lib\n",
        "import numpy as np\n",
        "import matplotlib.pyplot as plt\n",
        "import pandas as pd\n",
        "from sklearn.cluster import KMeans\n",
        "import scipy.cluster.hierarchy as sch\n",
        "from sklearn.cluster import AgglomerativeClustering\n",
        "\n",
        "import warnings\n",
        "warnings.filterwarnings('ignore')\n",
        "\n",
        "# Main libs\n",
        "\n",
        "from sklearn.decomposition import PCA\n",
        "from sklearn.preprocessing import StandardScaler\n",
        "from sklearn.ensemble import RandomForestClassifier,GradientBoostingClassifier\n",
        "\n",
        "# For visualizations\n",
        "import seaborn as sns"
      ]
    },
    {
      "cell_type": "code",
      "execution_count": 2,
      "metadata": {
        "id": "pMq8M_JgIuVR"
      },
      "outputs": [],
      "source": [
        "df = pd.read_excel('/content/drive/MyDrive/Machine Learning/BD_PPL_DEMO.xlsx')"
      ]
    },
    {
      "cell_type": "code",
      "execution_count": 3,
      "metadata": {
        "colab": {
          "base_uri": "https://localhost:8080/",
          "height": 386
        },
        "id": "gJJ03rtyJMXv",
        "outputId": "4d059068-b96f-44be-aaeb-f9d413715ff7"
      },
      "outputs": [
        {
          "data": {
            "text/html": [
              "\n",
              "  <div id=\"df-c4ca9e82-fa5f-4580-839b-73797528798c\">\n",
              "    <div class=\"colab-df-container\">\n",
              "      <div>\n",
              "<style scoped>\n",
              "    .dataframe tbody tr th:only-of-type {\n",
              "        vertical-align: middle;\n",
              "    }\n",
              "\n",
              "    .dataframe tbody tr th {\n",
              "        vertical-align: top;\n",
              "    }\n",
              "\n",
              "    .dataframe thead th {\n",
              "        text-align: right;\n",
              "    }\n",
              "</style>\n",
              "<table border=\"1\" class=\"dataframe\">\n",
              "  <thead>\n",
              "    <tr style=\"text-align: right;\">\n",
              "      <th></th>\n",
              "      <th>producto</th>\n",
              "      <th>CantidadGestiones</th>\n",
              "      <th>CantidadGestiones_Dis</th>\n",
              "      <th>LINEA</th>\n",
              "      <th>RNG_LINEA_PLD</th>\n",
              "      <th>ZONA</th>\n",
              "      <th>SCORE_AZTECA</th>\n",
              "      <th>PROP_AZTECA</th>\n",
              "      <th>SCORE_Q_MIL</th>\n",
              "      <th>GRUPO_RIESGO</th>\n",
              "      <th>...</th>\n",
              "      <th>Color_gestion</th>\n",
              "      <th>Campaña</th>\n",
              "      <th>PEER</th>\n",
              "      <th>GEST_ANT_STOCK</th>\n",
              "      <th>Tasa_7</th>\n",
              "      <th>Tasa_12M</th>\n",
              "      <th>Tasa_18M</th>\n",
              "      <th>Tasa_24M</th>\n",
              "      <th>Tasa_36M</th>\n",
              "      <th>VTA</th>\n",
              "    </tr>\n",
              "  </thead>\n",
              "  <tbody>\n",
              "    <tr>\n",
              "      <th>0</th>\n",
              "      <td>EXC</td>\n",
              "      <td>0</td>\n",
              "      <td>3</td>\n",
              "      <td>4300</td>\n",
              "      <td>b.2500 a 5000</td>\n",
              "      <td>PROV</td>\n",
              "      <td>355</td>\n",
              "      <td>1</td>\n",
              "      <td>229596</td>\n",
              "      <td>G1</td>\n",
              "      <td>...</td>\n",
              "      <td>Verde</td>\n",
              "      <td>SOLODNI</td>\n",
              "      <td>SIN DEUDA</td>\n",
              "      <td>NEW</td>\n",
              "      <td>999</td>\n",
              "      <td>83.7</td>\n",
              "      <td>83.7</td>\n",
              "      <td>83.7</td>\n",
              "      <td>84</td>\n",
              "      <td>NO</td>\n",
              "    </tr>\n",
              "    <tr>\n",
              "      <th>1</th>\n",
              "      <td>EXC</td>\n",
              "      <td>0</td>\n",
              "      <td>14</td>\n",
              "      <td>6200</td>\n",
              "      <td>c.5001 a 7500</td>\n",
              "      <td>LIMA</td>\n",
              "      <td>323</td>\n",
              "      <td>4</td>\n",
              "      <td>127119</td>\n",
              "      <td>G1</td>\n",
              "      <td>...</td>\n",
              "      <td>Verde</td>\n",
              "      <td>SOLODNI</td>\n",
              "      <td>SIN DEUDA</td>\n",
              "      <td>6M</td>\n",
              "      <td>999</td>\n",
              "      <td>83.7</td>\n",
              "      <td>83.7</td>\n",
              "      <td>75.0</td>\n",
              "      <td>75</td>\n",
              "      <td>NO</td>\n",
              "    </tr>\n",
              "    <tr>\n",
              "      <th>2</th>\n",
              "      <td>EXC</td>\n",
              "      <td>3</td>\n",
              "      <td>13</td>\n",
              "      <td>11900</td>\n",
              "      <td>e.10001 a 20000</td>\n",
              "      <td>PROV</td>\n",
              "      <td>361</td>\n",
              "      <td>2</td>\n",
              "      <td>627525</td>\n",
              "      <td>G1</td>\n",
              "      <td>...</td>\n",
              "      <td>Verde</td>\n",
              "      <td>SOLODNI</td>\n",
              "      <td>SIN DEUDA</td>\n",
              "      <td>6M</td>\n",
              "      <td>999</td>\n",
              "      <td>75.0</td>\n",
              "      <td>71.0</td>\n",
              "      <td>67.0</td>\n",
              "      <td>67</td>\n",
              "      <td>NO</td>\n",
              "    </tr>\n",
              "    <tr>\n",
              "      <th>3</th>\n",
              "      <td>EXC</td>\n",
              "      <td>1</td>\n",
              "      <td>27</td>\n",
              "      <td>8900</td>\n",
              "      <td>d.7501 a 10000</td>\n",
              "      <td>LIMA</td>\n",
              "      <td>338</td>\n",
              "      <td>4</td>\n",
              "      <td>228109</td>\n",
              "      <td>G1</td>\n",
              "      <td>...</td>\n",
              "      <td>Verde</td>\n",
              "      <td>SD FCP</td>\n",
              "      <td>SIN DEUDA</td>\n",
              "      <td>6M</td>\n",
              "      <td>999</td>\n",
              "      <td>83.7</td>\n",
              "      <td>72.0</td>\n",
              "      <td>68.0</td>\n",
              "      <td>68</td>\n",
              "      <td>NO</td>\n",
              "    </tr>\n",
              "    <tr>\n",
              "      <th>4</th>\n",
              "      <td>EXC</td>\n",
              "      <td>0</td>\n",
              "      <td>20</td>\n",
              "      <td>4000</td>\n",
              "      <td>b.2500 a 5000</td>\n",
              "      <td>PROV</td>\n",
              "      <td>361</td>\n",
              "      <td>4</td>\n",
              "      <td>396977</td>\n",
              "      <td>G1</td>\n",
              "      <td>...</td>\n",
              "      <td>Verde</td>\n",
              "      <td>SOLODNI</td>\n",
              "      <td>SIN DEUDA</td>\n",
              "      <td>NEW</td>\n",
              "      <td>999</td>\n",
              "      <td>83.7</td>\n",
              "      <td>83.7</td>\n",
              "      <td>83.7</td>\n",
              "      <td>84</td>\n",
              "      <td>NO</td>\n",
              "    </tr>\n",
              "  </tbody>\n",
              "</table>\n",
              "<p>5 rows × 35 columns</p>\n",
              "</div>\n",
              "      <button class=\"colab-df-convert\" onclick=\"convertToInteractive('df-c4ca9e82-fa5f-4580-839b-73797528798c')\"\n",
              "              title=\"Convert this dataframe to an interactive table.\"\n",
              "              style=\"display:none;\">\n",
              "        \n",
              "  <svg xmlns=\"http://www.w3.org/2000/svg\" height=\"24px\"viewBox=\"0 0 24 24\"\n",
              "       width=\"24px\">\n",
              "    <path d=\"M0 0h24v24H0V0z\" fill=\"none\"/>\n",
              "    <path d=\"M18.56 5.44l.94 2.06.94-2.06 2.06-.94-2.06-.94-.94-2.06-.94 2.06-2.06.94zm-11 1L8.5 8.5l.94-2.06 2.06-.94-2.06-.94L8.5 2.5l-.94 2.06-2.06.94zm10 10l.94 2.06.94-2.06 2.06-.94-2.06-.94-.94-2.06-.94 2.06-2.06.94z\"/><path d=\"M17.41 7.96l-1.37-1.37c-.4-.4-.92-.59-1.43-.59-.52 0-1.04.2-1.43.59L10.3 9.45l-7.72 7.72c-.78.78-.78 2.05 0 2.83L4 21.41c.39.39.9.59 1.41.59.51 0 1.02-.2 1.41-.59l7.78-7.78 2.81-2.81c.8-.78.8-2.07 0-2.86zM5.41 20L4 18.59l7.72-7.72 1.47 1.35L5.41 20z\"/>\n",
              "  </svg>\n",
              "      </button>\n",
              "      \n",
              "  <style>\n",
              "    .colab-df-container {\n",
              "      display:flex;\n",
              "      flex-wrap:wrap;\n",
              "      gap: 12px;\n",
              "    }\n",
              "\n",
              "    .colab-df-convert {\n",
              "      background-color: #E8F0FE;\n",
              "      border: none;\n",
              "      border-radius: 50%;\n",
              "      cursor: pointer;\n",
              "      display: none;\n",
              "      fill: #1967D2;\n",
              "      height: 32px;\n",
              "      padding: 0 0 0 0;\n",
              "      width: 32px;\n",
              "    }\n",
              "\n",
              "    .colab-df-convert:hover {\n",
              "      background-color: #E2EBFA;\n",
              "      box-shadow: 0px 1px 2px rgba(60, 64, 67, 0.3), 0px 1px 3px 1px rgba(60, 64, 67, 0.15);\n",
              "      fill: #174EA6;\n",
              "    }\n",
              "\n",
              "    [theme=dark] .colab-df-convert {\n",
              "      background-color: #3B4455;\n",
              "      fill: #D2E3FC;\n",
              "    }\n",
              "\n",
              "    [theme=dark] .colab-df-convert:hover {\n",
              "      background-color: #434B5C;\n",
              "      box-shadow: 0px 1px 3px 1px rgba(0, 0, 0, 0.15);\n",
              "      filter: drop-shadow(0px 1px 2px rgba(0, 0, 0, 0.3));\n",
              "      fill: #FFFFFF;\n",
              "    }\n",
              "  </style>\n",
              "\n",
              "      <script>\n",
              "        const buttonEl =\n",
              "          document.querySelector('#df-c4ca9e82-fa5f-4580-839b-73797528798c button.colab-df-convert');\n",
              "        buttonEl.style.display =\n",
              "          google.colab.kernel.accessAllowed ? 'block' : 'none';\n",
              "\n",
              "        async function convertToInteractive(key) {\n",
              "          const element = document.querySelector('#df-c4ca9e82-fa5f-4580-839b-73797528798c');\n",
              "          const dataTable =\n",
              "            await google.colab.kernel.invokeFunction('convertToInteractive',\n",
              "                                                     [key], {});\n",
              "          if (!dataTable) return;\n",
              "\n",
              "          const docLinkHtml = 'Like what you see? Visit the ' +\n",
              "            '<a target=\"_blank\" href=https://colab.research.google.com/notebooks/data_table.ipynb>data table notebook</a>'\n",
              "            + ' to learn more about interactive tables.';\n",
              "          element.innerHTML = '';\n",
              "          dataTable['output_type'] = 'display_data';\n",
              "          await google.colab.output.renderOutput(dataTable, element);\n",
              "          const docLink = document.createElement('div');\n",
              "          docLink.innerHTML = docLinkHtml;\n",
              "          element.appendChild(docLink);\n",
              "        }\n",
              "      </script>\n",
              "    </div>\n",
              "  </div>\n",
              "  "
            ],
            "text/plain": [
              "  producto  CantidadGestiones  CantidadGestiones_Dis  LINEA    RNG_LINEA_PLD  \\\n",
              "0      EXC                  0                      3   4300    b.2500 a 5000   \n",
              "1      EXC                  0                     14   6200    c.5001 a 7500   \n",
              "2      EXC                  3                     13  11900  e.10001 a 20000   \n",
              "3      EXC                  1                     27   8900   d.7501 a 10000   \n",
              "4      EXC                  0                     20   4000    b.2500 a 5000   \n",
              "\n",
              "   ZONA  SCORE_AZTECA  PROP_AZTECA  SCORE_Q_MIL GRUPO_RIESGO  ...  \\\n",
              "0  PROV           355            1       229596           G1  ...   \n",
              "1  LIMA           323            4       127119           G1  ...   \n",
              "2  PROV           361            2       627525           G1  ...   \n",
              "3  LIMA           338            4       228109           G1  ...   \n",
              "4  PROV           361            4       396977           G1  ...   \n",
              "\n",
              "   Color_gestion  Campaña       PEER GEST_ANT_STOCK Tasa_7 Tasa_12M Tasa_18M  \\\n",
              "0          Verde  SOLODNI  SIN DEUDA            NEW    999     83.7     83.7   \n",
              "1          Verde  SOLODNI  SIN DEUDA             6M    999     83.7     83.7   \n",
              "2          Verde  SOLODNI  SIN DEUDA             6M    999     75.0     71.0   \n",
              "3          Verde   SD FCP  SIN DEUDA             6M    999     83.7     72.0   \n",
              "4          Verde  SOLODNI  SIN DEUDA            NEW    999     83.7     83.7   \n",
              "\n",
              "  Tasa_24M Tasa_36M VTA  \n",
              "0     83.7       84  NO  \n",
              "1     75.0       75  NO  \n",
              "2     67.0       67  NO  \n",
              "3     68.0       68  NO  \n",
              "4     83.7       84  NO  \n",
              "\n",
              "[5 rows x 35 columns]"
            ]
          },
          "execution_count": 3,
          "metadata": {},
          "output_type": "execute_result"
        }
      ],
      "source": [
        "df.head()"
      ]
    },
    {
      "attachments": {},
      "cell_type": "markdown",
      "metadata": {
        "id": "8JGQSfDPJRLs"
      },
      "source": [
        "## Exploratory Data Analysis"
      ]
    },
    {
      "cell_type": "code",
      "execution_count": 5,
      "metadata": {
        "colab": {
          "base_uri": "https://localhost:8080/",
          "height": 364
        },
        "id": "6ML46zM72Dlf",
        "outputId": "98f69116-eab5-49e1-c6bd-6bbba62ab9db"
      },
      "outputs": [
        {
          "data": {
            "text/html": [
              "\n",
              "  <div id=\"df-f1254b01-8f67-4289-bcaa-deb8646c9a35\">\n",
              "    <div class=\"colab-df-container\">\n",
              "      <div>\n",
              "<style scoped>\n",
              "    .dataframe tbody tr th:only-of-type {\n",
              "        vertical-align: middle;\n",
              "    }\n",
              "\n",
              "    .dataframe tbody tr th {\n",
              "        vertical-align: top;\n",
              "    }\n",
              "\n",
              "    .dataframe thead th {\n",
              "        text-align: right;\n",
              "    }\n",
              "</style>\n",
              "<table border=\"1\" class=\"dataframe\">\n",
              "  <thead>\n",
              "    <tr style=\"text-align: right;\">\n",
              "      <th></th>\n",
              "      <th>CantidadGestiones</th>\n",
              "      <th>CantidadGestiones_Dis</th>\n",
              "      <th>LINEA</th>\n",
              "      <th>SCORE_AZTECA</th>\n",
              "      <th>PROP_AZTECA</th>\n",
              "      <th>SCORE_Q_MIL</th>\n",
              "      <th>FECHA_CARGA</th>\n",
              "      <th>EDAD_ID</th>\n",
              "      <th>NUM_TC</th>\n",
              "      <th>Tasa_7</th>\n",
              "      <th>Tasa_12M</th>\n",
              "      <th>Tasa_18M</th>\n",
              "      <th>Tasa_24M</th>\n",
              "      <th>Tasa_36M</th>\n",
              "    </tr>\n",
              "  </thead>\n",
              "  <tbody>\n",
              "    <tr>\n",
              "      <th>count</th>\n",
              "      <td>179823.000000</td>\n",
              "      <td>179823.000000</td>\n",
              "      <td>179823.000000</td>\n",
              "      <td>179823.000000</td>\n",
              "      <td>179823.000000</td>\n",
              "      <td>1.798230e+05</td>\n",
              "      <td>1.798230e+05</td>\n",
              "      <td>179823.000000</td>\n",
              "      <td>146839.000000</td>\n",
              "      <td>179823.000000</td>\n",
              "      <td>179823.000000</td>\n",
              "      <td>179823.000000</td>\n",
              "      <td>179823.000000</td>\n",
              "      <td>179823.000000</td>\n",
              "    </tr>\n",
              "    <tr>\n",
              "      <th>mean</th>\n",
              "      <td>0.443125</td>\n",
              "      <td>9.187529</td>\n",
              "      <td>12476.058563</td>\n",
              "      <td>249.984746</td>\n",
              "      <td>3.340073</td>\n",
              "      <td>1.022900e+06</td>\n",
              "      <td>2.022111e+07</td>\n",
              "      <td>45.468995</td>\n",
              "      <td>1.831741</td>\n",
              "      <td>862.565167</td>\n",
              "      <td>74.854491</td>\n",
              "      <td>72.781444</td>\n",
              "      <td>71.525761</td>\n",
              "      <td>69.706367</td>\n",
              "    </tr>\n",
              "    <tr>\n",
              "      <th>std</th>\n",
              "      <td>0.945778</td>\n",
              "      <td>11.817560</td>\n",
              "      <td>9394.619997</td>\n",
              "      <td>167.566817</td>\n",
              "      <td>1.141871</td>\n",
              "      <td>2.560338e+06</td>\n",
              "      <td>7.803822e+00</td>\n",
              "      <td>12.617613</td>\n",
              "      <td>1.637370</td>\n",
              "      <td>331.481321</td>\n",
              "      <td>12.232506</td>\n",
              "      <td>12.707872</td>\n",
              "      <td>12.800681</td>\n",
              "      <td>12.603193</td>\n",
              "    </tr>\n",
              "    <tr>\n",
              "      <th>min</th>\n",
              "      <td>0.000000</td>\n",
              "      <td>0.000000</td>\n",
              "      <td>1500.000000</td>\n",
              "      <td>0.000000</td>\n",
              "      <td>1.000000</td>\n",
              "      <td>7.108700e+04</td>\n",
              "      <td>2.022110e+07</td>\n",
              "      <td>0.000000</td>\n",
              "      <td>0.000000</td>\n",
              "      <td>53.000000</td>\n",
              "      <td>0.000000</td>\n",
              "      <td>0.000000</td>\n",
              "      <td>0.000000</td>\n",
              "      <td>0.000000</td>\n",
              "    </tr>\n",
              "    <tr>\n",
              "      <th>25%</th>\n",
              "      <td>0.000000</td>\n",
              "      <td>2.000000</td>\n",
              "      <td>5300.000000</td>\n",
              "      <td>129.000000</td>\n",
              "      <td>2.000000</td>\n",
              "      <td>2.254790e+05</td>\n",
              "      <td>2.022110e+07</td>\n",
              "      <td>35.000000</td>\n",
              "      <td>1.000000</td>\n",
              "      <td>999.000000</td>\n",
              "      <td>67.000000</td>\n",
              "      <td>64.000000</td>\n",
              "      <td>60.000000</td>\n",
              "      <td>58.000000</td>\n",
              "    </tr>\n",
              "    <tr>\n",
              "      <th>50%</th>\n",
              "      <td>0.000000</td>\n",
              "      <td>5.000000</td>\n",
              "      <td>8800.000000</td>\n",
              "      <td>281.000000</td>\n",
              "      <td>4.000000</td>\n",
              "      <td>2.663980e+05</td>\n",
              "      <td>2.022111e+07</td>\n",
              "      <td>44.000000</td>\n",
              "      <td>1.000000</td>\n",
              "      <td>999.000000</td>\n",
              "      <td>83.700000</td>\n",
              "      <td>75.000000</td>\n",
              "      <td>72.000000</td>\n",
              "      <td>71.000000</td>\n",
              "    </tr>\n",
              "    <tr>\n",
              "      <th>75%</th>\n",
              "      <td>1.000000</td>\n",
              "      <td>11.000000</td>\n",
              "      <td>15400.000000</td>\n",
              "      <td>361.000000</td>\n",
              "      <td>4.000000</td>\n",
              "      <td>3.969770e+05</td>\n",
              "      <td>2.022112e+07</td>\n",
              "      <td>55.000000</td>\n",
              "      <td>3.000000</td>\n",
              "      <td>999.000000</td>\n",
              "      <td>83.700000</td>\n",
              "      <td>83.700000</td>\n",
              "      <td>83.700000</td>\n",
              "      <td>84.000000</td>\n",
              "    </tr>\n",
              "    <tr>\n",
              "      <th>max</th>\n",
              "      <td>30.000000</td>\n",
              "      <td>223.000000</td>\n",
              "      <td>40000.000000</td>\n",
              "      <td>697.000000</td>\n",
              "      <td>4.000000</td>\n",
              "      <td>9.999999e+06</td>\n",
              "      <td>2.022112e+07</td>\n",
              "      <td>105.000000</td>\n",
              "      <td>10.000000</td>\n",
              "      <td>999.000000</td>\n",
              "      <td>83.700000</td>\n",
              "      <td>83.700000</td>\n",
              "      <td>83.700000</td>\n",
              "      <td>84.000000</td>\n",
              "    </tr>\n",
              "  </tbody>\n",
              "</table>\n",
              "</div>\n",
              "      <button class=\"colab-df-convert\" onclick=\"convertToInteractive('df-f1254b01-8f67-4289-bcaa-deb8646c9a35')\"\n",
              "              title=\"Convert this dataframe to an interactive table.\"\n",
              "              style=\"display:none;\">\n",
              "        \n",
              "  <svg xmlns=\"http://www.w3.org/2000/svg\" height=\"24px\"viewBox=\"0 0 24 24\"\n",
              "       width=\"24px\">\n",
              "    <path d=\"M0 0h24v24H0V0z\" fill=\"none\"/>\n",
              "    <path d=\"M18.56 5.44l.94 2.06.94-2.06 2.06-.94-2.06-.94-.94-2.06-.94 2.06-2.06.94zm-11 1L8.5 8.5l.94-2.06 2.06-.94-2.06-.94L8.5 2.5l-.94 2.06-2.06.94zm10 10l.94 2.06.94-2.06 2.06-.94-2.06-.94-.94-2.06-.94 2.06-2.06.94z\"/><path d=\"M17.41 7.96l-1.37-1.37c-.4-.4-.92-.59-1.43-.59-.52 0-1.04.2-1.43.59L10.3 9.45l-7.72 7.72c-.78.78-.78 2.05 0 2.83L4 21.41c.39.39.9.59 1.41.59.51 0 1.02-.2 1.41-.59l7.78-7.78 2.81-2.81c.8-.78.8-2.07 0-2.86zM5.41 20L4 18.59l7.72-7.72 1.47 1.35L5.41 20z\"/>\n",
              "  </svg>\n",
              "      </button>\n",
              "      \n",
              "  <style>\n",
              "    .colab-df-container {\n",
              "      display:flex;\n",
              "      flex-wrap:wrap;\n",
              "      gap: 12px;\n",
              "    }\n",
              "\n",
              "    .colab-df-convert {\n",
              "      background-color: #E8F0FE;\n",
              "      border: none;\n",
              "      border-radius: 50%;\n",
              "      cursor: pointer;\n",
              "      display: none;\n",
              "      fill: #1967D2;\n",
              "      height: 32px;\n",
              "      padding: 0 0 0 0;\n",
              "      width: 32px;\n",
              "    }\n",
              "\n",
              "    .colab-df-convert:hover {\n",
              "      background-color: #E2EBFA;\n",
              "      box-shadow: 0px 1px 2px rgba(60, 64, 67, 0.3), 0px 1px 3px 1px rgba(60, 64, 67, 0.15);\n",
              "      fill: #174EA6;\n",
              "    }\n",
              "\n",
              "    [theme=dark] .colab-df-convert {\n",
              "      background-color: #3B4455;\n",
              "      fill: #D2E3FC;\n",
              "    }\n",
              "\n",
              "    [theme=dark] .colab-df-convert:hover {\n",
              "      background-color: #434B5C;\n",
              "      box-shadow: 0px 1px 3px 1px rgba(0, 0, 0, 0.15);\n",
              "      filter: drop-shadow(0px 1px 2px rgba(0, 0, 0, 0.3));\n",
              "      fill: #FFFFFF;\n",
              "    }\n",
              "  </style>\n",
              "\n",
              "      <script>\n",
              "        const buttonEl =\n",
              "          document.querySelector('#df-f1254b01-8f67-4289-bcaa-deb8646c9a35 button.colab-df-convert');\n",
              "        buttonEl.style.display =\n",
              "          google.colab.kernel.accessAllowed ? 'block' : 'none';\n",
              "\n",
              "        async function convertToInteractive(key) {\n",
              "          const element = document.querySelector('#df-f1254b01-8f67-4289-bcaa-deb8646c9a35');\n",
              "          const dataTable =\n",
              "            await google.colab.kernel.invokeFunction('convertToInteractive',\n",
              "                                                     [key], {});\n",
              "          if (!dataTable) return;\n",
              "\n",
              "          const docLinkHtml = 'Like what you see? Visit the ' +\n",
              "            '<a target=\"_blank\" href=https://colab.research.google.com/notebooks/data_table.ipynb>data table notebook</a>'\n",
              "            + ' to learn more about interactive tables.';\n",
              "          element.innerHTML = '';\n",
              "          dataTable['output_type'] = 'display_data';\n",
              "          await google.colab.output.renderOutput(dataTable, element);\n",
              "          const docLink = document.createElement('div');\n",
              "          docLink.innerHTML = docLinkHtml;\n",
              "          element.appendChild(docLink);\n",
              "        }\n",
              "      </script>\n",
              "    </div>\n",
              "  </div>\n",
              "  "
            ],
            "text/plain": [
              "       CantidadGestiones  CantidadGestiones_Dis          LINEA   SCORE_AZTECA  \\\n",
              "count      179823.000000          179823.000000  179823.000000  179823.000000   \n",
              "mean            0.443125               9.187529   12476.058563     249.984746   \n",
              "std             0.945778              11.817560    9394.619997     167.566817   \n",
              "min             0.000000               0.000000    1500.000000       0.000000   \n",
              "25%             0.000000               2.000000    5300.000000     129.000000   \n",
              "50%             0.000000               5.000000    8800.000000     281.000000   \n",
              "75%             1.000000              11.000000   15400.000000     361.000000   \n",
              "max            30.000000             223.000000   40000.000000     697.000000   \n",
              "\n",
              "         PROP_AZTECA   SCORE_Q_MIL   FECHA_CARGA        EDAD_ID  \\\n",
              "count  179823.000000  1.798230e+05  1.798230e+05  179823.000000   \n",
              "mean        3.340073  1.022900e+06  2.022111e+07      45.468995   \n",
              "std         1.141871  2.560338e+06  7.803822e+00      12.617613   \n",
              "min         1.000000  7.108700e+04  2.022110e+07       0.000000   \n",
              "25%         2.000000  2.254790e+05  2.022110e+07      35.000000   \n",
              "50%         4.000000  2.663980e+05  2.022111e+07      44.000000   \n",
              "75%         4.000000  3.969770e+05  2.022112e+07      55.000000   \n",
              "max         4.000000  9.999999e+06  2.022112e+07     105.000000   \n",
              "\n",
              "              NUM_TC         Tasa_7       Tasa_12M       Tasa_18M  \\\n",
              "count  146839.000000  179823.000000  179823.000000  179823.000000   \n",
              "mean        1.831741     862.565167      74.854491      72.781444   \n",
              "std         1.637370     331.481321      12.232506      12.707872   \n",
              "min         0.000000      53.000000       0.000000       0.000000   \n",
              "25%         1.000000     999.000000      67.000000      64.000000   \n",
              "50%         1.000000     999.000000      83.700000      75.000000   \n",
              "75%         3.000000     999.000000      83.700000      83.700000   \n",
              "max        10.000000     999.000000      83.700000      83.700000   \n",
              "\n",
              "            Tasa_24M       Tasa_36M  \n",
              "count  179823.000000  179823.000000  \n",
              "mean       71.525761      69.706367  \n",
              "std        12.800681      12.603193  \n",
              "min         0.000000       0.000000  \n",
              "25%        60.000000      58.000000  \n",
              "50%        72.000000      71.000000  \n",
              "75%        83.700000      84.000000  \n",
              "max        83.700000      84.000000  "
            ]
          },
          "execution_count": 5,
          "metadata": {},
          "output_type": "execute_result"
        }
      ],
      "source": [
        "df.describe()"
      ]
    },
    {
      "cell_type": "code",
      "execution_count": 6,
      "metadata": {
        "colab": {
          "base_uri": "https://localhost:8080/",
          "height": 1000
        },
        "id": "HJb-tThG2I_r",
        "outputId": "3b58195f-609a-4f48-bae2-05a6fea4f7e5"
      },
      "outputs": [
        {
          "data": {
            "text/html": [
              "\n",
              "  <div id=\"df-beb0f9af-3240-48b1-bfbe-68e114bc694e\">\n",
              "    <div class=\"colab-df-container\">\n",
              "      <div>\n",
              "<style scoped>\n",
              "    .dataframe tbody tr th:only-of-type {\n",
              "        vertical-align: middle;\n",
              "    }\n",
              "\n",
              "    .dataframe tbody tr th {\n",
              "        vertical-align: top;\n",
              "    }\n",
              "\n",
              "    .dataframe thead th {\n",
              "        text-align: right;\n",
              "    }\n",
              "</style>\n",
              "<table border=\"1\" class=\"dataframe\">\n",
              "  <thead>\n",
              "    <tr style=\"text-align: right;\">\n",
              "      <th></th>\n",
              "      <th>col</th>\n",
              "    </tr>\n",
              "  </thead>\n",
              "  <tbody>\n",
              "    <tr>\n",
              "      <th>NUM_TC</th>\n",
              "      <td>32984</td>\n",
              "    </tr>\n",
              "    <tr>\n",
              "      <th>DISTRITO_ID</th>\n",
              "      <td>7802</td>\n",
              "    </tr>\n",
              "    <tr>\n",
              "      <th>PROVINCIA_ID</th>\n",
              "      <td>7802</td>\n",
              "    </tr>\n",
              "    <tr>\n",
              "      <th>DEPARTAMENTO_ID</th>\n",
              "      <td>7802</td>\n",
              "    </tr>\n",
              "    <tr>\n",
              "      <th>producto</th>\n",
              "      <td>0</td>\n",
              "    </tr>\n",
              "    <tr>\n",
              "      <th>Color_gestion</th>\n",
              "      <td>0</td>\n",
              "    </tr>\n",
              "    <tr>\n",
              "      <th>RNG_EDAD</th>\n",
              "      <td>0</td>\n",
              "    </tr>\n",
              "    <tr>\n",
              "      <th>RNG_CANTIDADTC</th>\n",
              "      <td>0</td>\n",
              "    </tr>\n",
              "    <tr>\n",
              "      <th>RNG_APALANCAMIENTO</th>\n",
              "      <td>0</td>\n",
              "    </tr>\n",
              "    <tr>\n",
              "      <th>Campaña</th>\n",
              "      <td>0</td>\n",
              "    </tr>\n",
              "    <tr>\n",
              "      <th>RNG_SALDO_TC</th>\n",
              "      <td>0</td>\n",
              "    </tr>\n",
              "    <tr>\n",
              "      <th>PEER</th>\n",
              "      <td>0</td>\n",
              "    </tr>\n",
              "    <tr>\n",
              "      <th>GEST_ANT_STOCK</th>\n",
              "      <td>0</td>\n",
              "    </tr>\n",
              "    <tr>\n",
              "      <th>Tasa_7</th>\n",
              "      <td>0</td>\n",
              "    </tr>\n",
              "    <tr>\n",
              "      <th>Tasa_12M</th>\n",
              "      <td>0</td>\n",
              "    </tr>\n",
              "    <tr>\n",
              "      <th>Tasa_18M</th>\n",
              "      <td>0</td>\n",
              "    </tr>\n",
              "    <tr>\n",
              "      <th>Tasa_24M</th>\n",
              "      <td>0</td>\n",
              "    </tr>\n",
              "    <tr>\n",
              "      <th>Tasa_36M</th>\n",
              "      <td>0</td>\n",
              "    </tr>\n",
              "    <tr>\n",
              "      <th>EDAD_ID</th>\n",
              "      <td>0</td>\n",
              "    </tr>\n",
              "    <tr>\n",
              "      <th>RNG_SALDO_CONSUMO</th>\n",
              "      <td>0</td>\n",
              "    </tr>\n",
              "    <tr>\n",
              "      <th>RNG_LIN_CENCO_ENTRE_LIN_MAX</th>\n",
              "      <td>0</td>\n",
              "    </tr>\n",
              "    <tr>\n",
              "      <th>CantidadGestiones</th>\n",
              "      <td>0</td>\n",
              "    </tr>\n",
              "    <tr>\n",
              "      <th>RNG_INGRESO</th>\n",
              "      <td>0</td>\n",
              "    </tr>\n",
              "    <tr>\n",
              "      <th>RNG_SALDO_TC_ENTRE_INGRESO</th>\n",
              "      <td>0</td>\n",
              "    </tr>\n",
              "    <tr>\n",
              "      <th>REGIMEN_LABORAL</th>\n",
              "      <td>0</td>\n",
              "    </tr>\n",
              "    <tr>\n",
              "      <th>FECHA_CARGA</th>\n",
              "      <td>0</td>\n",
              "    </tr>\n",
              "    <tr>\n",
              "      <th>GRUPO_RIESGO</th>\n",
              "      <td>0</td>\n",
              "    </tr>\n",
              "    <tr>\n",
              "      <th>SCORE_Q_MIL</th>\n",
              "      <td>0</td>\n",
              "    </tr>\n",
              "    <tr>\n",
              "      <th>PROP_AZTECA</th>\n",
              "      <td>0</td>\n",
              "    </tr>\n",
              "    <tr>\n",
              "      <th>SCORE_AZTECA</th>\n",
              "      <td>0</td>\n",
              "    </tr>\n",
              "    <tr>\n",
              "      <th>ZONA</th>\n",
              "      <td>0</td>\n",
              "    </tr>\n",
              "    <tr>\n",
              "      <th>RNG_LINEA_PLD</th>\n",
              "      <td>0</td>\n",
              "    </tr>\n",
              "    <tr>\n",
              "      <th>LINEA</th>\n",
              "      <td>0</td>\n",
              "    </tr>\n",
              "    <tr>\n",
              "      <th>CantidadGestiones_Dis</th>\n",
              "      <td>0</td>\n",
              "    </tr>\n",
              "    <tr>\n",
              "      <th>VTA</th>\n",
              "      <td>0</td>\n",
              "    </tr>\n",
              "  </tbody>\n",
              "</table>\n",
              "</div>\n",
              "      <button class=\"colab-df-convert\" onclick=\"convertToInteractive('df-beb0f9af-3240-48b1-bfbe-68e114bc694e')\"\n",
              "              title=\"Convert this dataframe to an interactive table.\"\n",
              "              style=\"display:none;\">\n",
              "        \n",
              "  <svg xmlns=\"http://www.w3.org/2000/svg\" height=\"24px\"viewBox=\"0 0 24 24\"\n",
              "       width=\"24px\">\n",
              "    <path d=\"M0 0h24v24H0V0z\" fill=\"none\"/>\n",
              "    <path d=\"M18.56 5.44l.94 2.06.94-2.06 2.06-.94-2.06-.94-.94-2.06-.94 2.06-2.06.94zm-11 1L8.5 8.5l.94-2.06 2.06-.94-2.06-.94L8.5 2.5l-.94 2.06-2.06.94zm10 10l.94 2.06.94-2.06 2.06-.94-2.06-.94-.94-2.06-.94 2.06-2.06.94z\"/><path d=\"M17.41 7.96l-1.37-1.37c-.4-.4-.92-.59-1.43-.59-.52 0-1.04.2-1.43.59L10.3 9.45l-7.72 7.72c-.78.78-.78 2.05 0 2.83L4 21.41c.39.39.9.59 1.41.59.51 0 1.02-.2 1.41-.59l7.78-7.78 2.81-2.81c.8-.78.8-2.07 0-2.86zM5.41 20L4 18.59l7.72-7.72 1.47 1.35L5.41 20z\"/>\n",
              "  </svg>\n",
              "      </button>\n",
              "      \n",
              "  <style>\n",
              "    .colab-df-container {\n",
              "      display:flex;\n",
              "      flex-wrap:wrap;\n",
              "      gap: 12px;\n",
              "    }\n",
              "\n",
              "    .colab-df-convert {\n",
              "      background-color: #E8F0FE;\n",
              "      border: none;\n",
              "      border-radius: 50%;\n",
              "      cursor: pointer;\n",
              "      display: none;\n",
              "      fill: #1967D2;\n",
              "      height: 32px;\n",
              "      padding: 0 0 0 0;\n",
              "      width: 32px;\n",
              "    }\n",
              "\n",
              "    .colab-df-convert:hover {\n",
              "      background-color: #E2EBFA;\n",
              "      box-shadow: 0px 1px 2px rgba(60, 64, 67, 0.3), 0px 1px 3px 1px rgba(60, 64, 67, 0.15);\n",
              "      fill: #174EA6;\n",
              "    }\n",
              "\n",
              "    [theme=dark] .colab-df-convert {\n",
              "      background-color: #3B4455;\n",
              "      fill: #D2E3FC;\n",
              "    }\n",
              "\n",
              "    [theme=dark] .colab-df-convert:hover {\n",
              "      background-color: #434B5C;\n",
              "      box-shadow: 0px 1px 3px 1px rgba(0, 0, 0, 0.15);\n",
              "      filter: drop-shadow(0px 1px 2px rgba(0, 0, 0, 0.3));\n",
              "      fill: #FFFFFF;\n",
              "    }\n",
              "  </style>\n",
              "\n",
              "      <script>\n",
              "        const buttonEl =\n",
              "          document.querySelector('#df-beb0f9af-3240-48b1-bfbe-68e114bc694e button.colab-df-convert');\n",
              "        buttonEl.style.display =\n",
              "          google.colab.kernel.accessAllowed ? 'block' : 'none';\n",
              "\n",
              "        async function convertToInteractive(key) {\n",
              "          const element = document.querySelector('#df-beb0f9af-3240-48b1-bfbe-68e114bc694e');\n",
              "          const dataTable =\n",
              "            await google.colab.kernel.invokeFunction('convertToInteractive',\n",
              "                                                     [key], {});\n",
              "          if (!dataTable) return;\n",
              "\n",
              "          const docLinkHtml = 'Like what you see? Visit the ' +\n",
              "            '<a target=\"_blank\" href=https://colab.research.google.com/notebooks/data_table.ipynb>data table notebook</a>'\n",
              "            + ' to learn more about interactive tables.';\n",
              "          element.innerHTML = '';\n",
              "          dataTable['output_type'] = 'display_data';\n",
              "          await google.colab.output.renderOutput(dataTable, element);\n",
              "          const docLink = document.createElement('div');\n",
              "          docLink.innerHTML = docLinkHtml;\n",
              "          element.appendChild(docLink);\n",
              "        }\n",
              "      </script>\n",
              "    </div>\n",
              "  </div>\n",
              "  "
            ],
            "text/plain": [
              "                               col\n",
              "NUM_TC                       32984\n",
              "DISTRITO_ID                   7802\n",
              "PROVINCIA_ID                  7802\n",
              "DEPARTAMENTO_ID               7802\n",
              "producto                         0\n",
              "Color_gestion                    0\n",
              "RNG_EDAD                         0\n",
              "RNG_CANTIDADTC                   0\n",
              "RNG_APALANCAMIENTO               0\n",
              "Campaña                          0\n",
              "RNG_SALDO_TC                     0\n",
              "PEER                             0\n",
              "GEST_ANT_STOCK                   0\n",
              "Tasa_7                           0\n",
              "Tasa_12M                         0\n",
              "Tasa_18M                         0\n",
              "Tasa_24M                         0\n",
              "Tasa_36M                         0\n",
              "EDAD_ID                          0\n",
              "RNG_SALDO_CONSUMO                0\n",
              "RNG_LIN_CENCO_ENTRE_LIN_MAX      0\n",
              "CantidadGestiones                0\n",
              "RNG_INGRESO                      0\n",
              "RNG_SALDO_TC_ENTRE_INGRESO       0\n",
              "REGIMEN_LABORAL                  0\n",
              "FECHA_CARGA                      0\n",
              "GRUPO_RIESGO                     0\n",
              "SCORE_Q_MIL                      0\n",
              "PROP_AZTECA                      0\n",
              "SCORE_AZTECA                     0\n",
              "ZONA                             0\n",
              "RNG_LINEA_PLD                    0\n",
              "LINEA                            0\n",
              "CantidadGestiones_Dis            0\n",
              "VTA                              0"
            ]
          },
          "execution_count": 6,
          "metadata": {},
          "output_type": "execute_result"
        }
      ],
      "source": [
        "df0 = pd.DataFrame(df.isna().sum(), columns=['col'])\n",
        "df0.sort_values(by='col', ascending=False, na_position='first')"
      ]
    },
    {
      "cell_type": "code",
      "execution_count": 7,
      "metadata": {
        "colab": {
          "base_uri": "https://localhost:8080/"
        },
        "id": "DKK2i-5sJTBv",
        "outputId": "e095093d-5783-4934-e679-58bb342a64f0"
      },
      "outputs": [
        {
          "data": {
            "text/plain": [
              "Index(['producto', 'CantidadGestiones', 'CantidadGestiones_Dis', 'LINEA',\n",
              "       'RNG_LINEA_PLD', 'ZONA', 'SCORE_AZTECA', 'PROP_AZTECA', 'SCORE_Q_MIL',\n",
              "       'GRUPO_RIESGO', 'FECHA_CARGA', 'DEPARTAMENTO_ID', 'PROVINCIA_ID',\n",
              "       'DISTRITO_ID', 'REGIMEN_LABORAL', 'RNG_SALDO_TC_ENTRE_INGRESO',\n",
              "       'RNG_INGRESO', 'RNG_SALDO_CONSUMO', 'RNG_LIN_CENCO_ENTRE_LIN_MAX',\n",
              "       'RNG_SALDO_TC', 'EDAD_ID', 'RNG_EDAD', 'NUM_TC', 'RNG_CANTIDADTC',\n",
              "       'RNG_APALANCAMIENTO', 'Color_gestion', 'Campaña', 'PEER',\n",
              "       'GEST_ANT_STOCK', 'Tasa_7', 'Tasa_12M', 'Tasa_18M', 'Tasa_24M',\n",
              "       'Tasa_36M', 'VTA'],\n",
              "      dtype='object')"
            ]
          },
          "execution_count": 7,
          "metadata": {},
          "output_type": "execute_result"
        }
      ],
      "source": [
        "df.columns"
      ]
    },
    {
      "cell_type": "code",
      "execution_count": 8,
      "metadata": {
        "colab": {
          "base_uri": "https://localhost:8080/"
        },
        "id": "XZTnK9_DMUif",
        "outputId": "cb18d4a3-c816-443f-9886-63b492153698"
      },
      "outputs": [
        {
          "name": "stdout",
          "output_type": "stream",
          "text": [
            "<class 'pandas.core.frame.DataFrame'>\n",
            "RangeIndex: 179823 entries, 0 to 179822\n",
            "Data columns (total 35 columns):\n",
            " #   Column                       Non-Null Count   Dtype  \n",
            "---  ------                       --------------   -----  \n",
            " 0   producto                     179823 non-null  object \n",
            " 1   CantidadGestiones            179823 non-null  int64  \n",
            " 2   CantidadGestiones_Dis        179823 non-null  int64  \n",
            " 3   LINEA                        179823 non-null  int64  \n",
            " 4   RNG_LINEA_PLD                179823 non-null  object \n",
            " 5   ZONA                         179823 non-null  object \n",
            " 6   SCORE_AZTECA                 179823 non-null  int64  \n",
            " 7   PROP_AZTECA                  179823 non-null  int64  \n",
            " 8   SCORE_Q_MIL                  179823 non-null  int64  \n",
            " 9   GRUPO_RIESGO                 179823 non-null  object \n",
            " 10  FECHA_CARGA                  179823 non-null  int64  \n",
            " 11  DEPARTAMENTO_ID              172021 non-null  object \n",
            " 12  PROVINCIA_ID                 172021 non-null  object \n",
            " 13  DISTRITO_ID                  172021 non-null  object \n",
            " 14  REGIMEN_LABORAL              179823 non-null  object \n",
            " 15  RNG_SALDO_TC_ENTRE_INGRESO   179823 non-null  object \n",
            " 16  RNG_INGRESO                  179823 non-null  object \n",
            " 17  RNG_SALDO_CONSUMO            179823 non-null  object \n",
            " 18  RNG_LIN_CENCO_ENTRE_LIN_MAX  179823 non-null  object \n",
            " 19  RNG_SALDO_TC                 179823 non-null  object \n",
            " 20  EDAD_ID                      179823 non-null  int64  \n",
            " 21  RNG_EDAD                     179823 non-null  object \n",
            " 22  NUM_TC                       146839 non-null  float64\n",
            " 23  RNG_CANTIDADTC               179823 non-null  object \n",
            " 24  RNG_APALANCAMIENTO           179823 non-null  object \n",
            " 25  Color_gestion                179823 non-null  object \n",
            " 26  Campaña                      179823 non-null  object \n",
            " 27  PEER                         179823 non-null  object \n",
            " 28  GEST_ANT_STOCK               179823 non-null  object \n",
            " 29  Tasa_7                       179823 non-null  int64  \n",
            " 30  Tasa_12M                     179823 non-null  float64\n",
            " 31  Tasa_18M                     179823 non-null  float64\n",
            " 32  Tasa_24M                     179823 non-null  float64\n",
            " 33  Tasa_36M                     179823 non-null  int64  \n",
            " 34  VTA                          179823 non-null  object \n",
            "dtypes: float64(4), int64(10), object(21)\n",
            "memory usage: 48.0+ MB\n"
          ]
        }
      ],
      "source": [
        "df.info()"
      ]
    },
    {
      "cell_type": "code",
      "execution_count": 9,
      "metadata": {
        "colab": {
          "base_uri": "https://localhost:8080/"
        },
        "id": "qVUTZ7af3ZzX",
        "outputId": "452d6cda-cdb7-48be-8580-20ff91fd9774"
      },
      "outputs": [
        {
          "data": {
            "text/plain": [
              "(179823, 35)"
            ]
          },
          "execution_count": 9,
          "metadata": {},
          "output_type": "execute_result"
        }
      ],
      "source": [
        "df.shape"
      ]
    },
    {
      "cell_type": "code",
      "execution_count": 10,
      "metadata": {
        "id": "cOQ4CGUlKWHu"
      },
      "outputs": [],
      "source": [
        "## For cualitative variables\n",
        "def plot_cat(feature):\n",
        "  sns.countplot(data=df,x=feature)\n",
        "  ax=sns.countplot(data=df,x=feature)\n",
        "\n",
        "## For cuantitative variables\n",
        "def plot_num(feature):\n",
        "    fig,axes=plt.subplots(1,2)\n",
        "    sns.boxplot(data=df,x=feature,ax=axes[0])\n",
        "    sns.distplot(a=df[feature],ax=axes[1],color='#ff4125')\n",
        "    fig.set_size_inches(15,5)"
      ]
    },
    {
      "cell_type": "code",
      "execution_count": 11,
      "metadata": {
        "colab": {
          "base_uri": "https://localhost:8080/",
          "height": 281
        },
        "id": "Z3C94OkYxj9Q",
        "outputId": "8944b2e8-dea6-412d-ed85-daafc59a342a"
      },
      "outputs": [
        {
          "data": {
            "image/png": "[encoded data removed]",
            "text/plain": [
              "<Figure size 432x288 with 1 Axes>"
            ]
          },
          "metadata": {
            "needs_background": "light"
          },
          "output_type": "display_data"
        }
      ],
      "source": [
        "plot_cat('producto')"
      ]
    },
    {
      "cell_type": "code",
      "execution_count": 12,
      "metadata": {
        "colab": {
          "base_uri": "https://localhost:8080/",
          "height": 334
        },
        "id": "CTWSxmvGzuVH",
        "outputId": "7fba589d-8efe-4844-b090-149c99513518"
      },
      "outputs": [
        {
          "data": {
            "image/png": "[encoded data removed]",
            "text/plain": [
              "<Figure size 1080x360 with 2 Axes>"
            ]
          },
          "metadata": {
            "needs_background": "light"
          },
          "output_type": "display_data"
        }
      ],
      "source": [
        "plot_num('CantidadGestiones')"
      ]
    },
    {
      "cell_type": "code",
      "execution_count": 89,
      "metadata": {
        "colab": {
          "base_uri": "https://localhost:8080/",
          "height": 335
        },
        "id": "wC11MEQxe7Z9",
        "outputId": "b8200ab6-2cbb-4610-96e2-e4940fa64c06"
      },
      "outputs": [
        {
          "data": {
            "image/png": "[encoded data removed]",
            "text/plain": [
              "<Figure size 1080x360 with 2 Axes>"
            ]
          },
          "metadata": {
            "needs_background": "light"
          },
          "output_type": "display_data"
        }
      ],
      "source": [
        "df['CantidadGestiones_cub'] = np.power((df['CantidadGestiones']),1/3)\n",
        "plot_num('CantidadGestiones_cub')"
      ]
    },
    {
      "cell_type": "code",
      "execution_count": 13,
      "metadata": {
        "colab": {
          "base_uri": "https://localhost:8080/",
          "height": 335
        },
        "id": "1S8KKocHz2cl",
        "outputId": "03cafcd9-3795-491f-baa7-21493d058b01"
      },
      "outputs": [
        {
          "data": {
            "image/png": "[encoded data removed]",
            "text/plain": [
              "<Figure size 1080x360 with 2 Axes>"
            ]
          },
          "metadata": {
            "needs_background": "light"
          },
          "output_type": "display_data"
        }
      ],
      "source": [
        "plot_num('CantidadGestiones_Dis')"
      ]
    },
    {
      "cell_type": "code",
      "execution_count": 92,
      "metadata": {
        "colab": {
          "base_uri": "https://localhost:8080/",
          "height": 335
        },
        "id": "X693x-G8fQwB",
        "outputId": "1170fe85-08a3-4bae-da1e-cc1a64369848"
      },
      "outputs": [
        {
          "data": {
            "image/png": "[encoded data removed]",
            "text/plain": [
              "<Figure size 1080x360 with 2 Axes>"
            ]
          },
          "metadata": {
            "needs_background": "light"
          },
          "output_type": "display_data"
        }
      ],
      "source": [
        "df['CantidadGestiones_Dis_cub'] = np.power((df['CantidadGestiones_Dis']),1/3)\n",
        "plot_num('CantidadGestiones_Dis_cub')"
      ]
    },
    {
      "cell_type": "code",
      "execution_count": 14,
      "metadata": {
        "colab": {
          "base_uri": "https://localhost:8080/",
          "height": 334
        },
        "id": "t9J50bOP0JUJ",
        "outputId": "068ed936-14c1-4ca0-806c-46ec1bdd66b5"
      },
      "outputs": [
        {
          "data": {
            "image/png": "[encoded data removed]",
            "text/plain": [
              "<Figure size 1080x360 with 2 Axes>"
            ]
          },
          "metadata": {
            "needs_background": "light"
          },
          "output_type": "display_data"
        }
      ],
      "source": [
        "plot_num('LINEA')"
      ]
    },
    {
      "cell_type": "code",
      "execution_count": 15,
      "metadata": {
        "colab": {
          "base_uri": "https://localhost:8080/",
          "height": 280
        },
        "id": "s33uPY3N0Moi",
        "outputId": "1600a45e-81d3-49f1-8d11-1fd227cb93f1"
      },
      "outputs": [
        {
          "data": {
            "image/png": "[encoded data removed]",
            "text/plain": [
              "<Figure size 432x288 with 1 Axes>"
            ]
          },
          "metadata": {
            "needs_background": "light"
          },
          "output_type": "display_data"
        }
      ],
      "source": [
        "plot_cat('RNG_LINEA_PLD')"
      ]
    },
    {
      "cell_type": "code",
      "execution_count": 16,
      "metadata": {
        "colab": {
          "base_uri": "https://localhost:8080/",
          "height": 279
        },
        "id": "16DAXQOl0QIO",
        "outputId": "6c38f994-7421-4b17-b6c5-f399203c9a15"
      },
      "outputs": [
        {
          "data": {
            "image/png": "[encoded data removed]",
            "text/plain": [
              "<Figure size 432x288 with 1 Axes>"
            ]
          },
          "metadata": {
            "needs_background": "light"
          },
          "output_type": "display_data"
        }
      ],
      "source": [
        "plot_cat('ZONA')"
      ]
    },
    {
      "cell_type": "code",
      "execution_count": 17,
      "metadata": {
        "colab": {
          "base_uri": "https://localhost:8080/",
          "height": 335
        },
        "id": "0kKNgH8X0Tof",
        "outputId": "d26d3f66-aca3-4040-a412-8fb5331f302c"
      },
      "outputs": [
        {
          "data": {
            "image/png": "[encoded data removed]",
            "text/plain": [
              "<Figure size 1080x360 with 2 Axes>"
            ]
          },
          "metadata": {
            "needs_background": "light"
          },
          "output_type": "display_data"
        }
      ],
      "source": [
        "plot_num('SCORE_AZTECA')"
      ]
    },
    {
      "cell_type": "code",
      "execution_count": 18,
      "metadata": {
        "colab": {
          "base_uri": "https://localhost:8080/",
          "height": 335
        },
        "id": "W_mYOypt0Xcv",
        "outputId": "7c8d2e17-c8a7-4273-8ca4-aa44aed41790"
      },
      "outputs": [
        {
          "data": {
            "image/png": "[encoded data removed]",
            "text/plain": [
              "<Figure size 1080x360 with 2 Axes>"
            ]
          },
          "metadata": {
            "needs_background": "light"
          },
          "output_type": "display_data"
        }
      ],
      "source": [
        "plot_num('PROP_AZTECA')"
      ]
    },
    {
      "cell_type": "code",
      "execution_count": 19,
      "metadata": {
        "colab": {
          "base_uri": "https://localhost:8080/",
          "height": 346
        },
        "id": "oSiaza0H0cuB",
        "outputId": "9c6eb31f-3ac2-4172-f910-c05b4dc8ddd2"
      },
      "outputs": [
        {
          "data": {
            "image/png": "[encoded data removed]",
            "text/plain": [
              "<Figure size 1080x360 with 2 Axes>"
            ]
          },
          "metadata": {
            "needs_background": "light"
          },
          "output_type": "display_data"
        }
      ],
      "source": [
        "plot_num('SCORE_Q_MIL')"
      ]
    },
    {
      "cell_type": "code",
      "execution_count": 20,
      "metadata": {
        "colab": {
          "base_uri": "https://localhost:8080/",
          "height": 280
        },
        "id": "Bq9l2Mgb0gXu",
        "outputId": "23a5b273-b62a-4440-9100-96e3afbd21a3"
      },
      "outputs": [
        {
          "data": {
            "image/png": "[encoded data removed]",
            "text/plain": [
              "<Figure size 432x288 with 1 Axes>"
            ]
          },
          "metadata": {
            "needs_background": "light"
          },
          "output_type": "display_data"
        }
      ],
      "source": [
        "plot_cat('GRUPO_RIESGO')"
      ]
    },
    {
      "cell_type": "code",
      "execution_count": 21,
      "metadata": {
        "colab": {
          "base_uri": "https://localhost:8080/",
          "height": 280
        },
        "id": "95npPBdO0joG",
        "outputId": "7f8f69d9-c39d-4437-a68f-df5a4296b37f"
      },
      "outputs": [
        {
          "data": {
            "image/png": "[encoded data removed]",
            "text/plain": [
              "<Figure size 432x288 with 1 Axes>"
            ]
          },
          "metadata": {
            "needs_background": "light"
          },
          "output_type": "display_data"
        }
      ],
      "source": [
        "plot_cat('FECHA_CARGA')"
      ]
    },
    {
      "cell_type": "code",
      "execution_count": 22,
      "metadata": {
        "colab": {
          "base_uri": "https://localhost:8080/",
          "height": 280
        },
        "id": "qztSW0Lb0rvT",
        "outputId": "899339fd-811b-4fdb-81da-f9a3b5407037"
      },
      "outputs": [
        {
          "data": {
            "image/png": "[encoded data removed]",
            "text/plain": [
              "<Figure size 432x288 with 1 Axes>"
            ]
          },
          "metadata": {
            "needs_background": "light"
          },
          "output_type": "display_data"
        }
      ],
      "source": [
        "plot_cat('DEPARTAMENTO_ID')"
      ]
    },
    {
      "cell_type": "code",
      "execution_count": 23,
      "metadata": {
        "colab": {
          "base_uri": "https://localhost:8080/",
          "height": 280
        },
        "id": "el-kSNYB06lU",
        "outputId": "a5c06070-ca95-4622-f052-90a39ef805b5"
      },
      "outputs": [
        {
          "data": {
            "image/png": "[encoded data removed]",
            "text/plain": [
              "<Figure size 432x288 with 1 Axes>"
            ]
          },
          "metadata": {
            "needs_background": "light"
          },
          "output_type": "display_data"
        }
      ],
      "source": [
        "plot_cat('PROVINCIA_ID')"
      ]
    },
    {
      "cell_type": "code",
      "execution_count": 24,
      "metadata": {
        "colab": {
          "base_uri": "https://localhost:8080/",
          "height": 281
        },
        "id": "rxK9_Ph70_2c",
        "outputId": "98d93fdd-dd21-4e24-b6f8-f922c1807e1f"
      },
      "outputs": [
        {
          "data": {
            "image/png": "[encoded data removed]",
            "text/plain": [
              "<Figure size 432x288 with 1 Axes>"
            ]
          },
          "metadata": {
            "needs_background": "light"
          },
          "output_type": "display_data"
        }
      ],
      "source": [
        "plot_cat('DISTRITO_ID')"
      ]
    },
    {
      "cell_type": "code",
      "execution_count": 25,
      "metadata": {
        "colab": {
          "base_uri": "https://localhost:8080/",
          "height": 282
        },
        "id": "XXP2vRG41Ddc",
        "outputId": "9e39a26b-f08f-4ed4-8c9d-58178dec4b8a"
      },
      "outputs": [
        {
          "data": {
            "image/png": "[encoded data removed]",
            "text/plain": [
              "<Figure size 432x288 with 1 Axes>"
            ]
          },
          "metadata": {
            "needs_background": "light"
          },
          "output_type": "display_data"
        }
      ],
      "source": [
        "plot_cat('REGIMEN_LABORAL')"
      ]
    },
    {
      "cell_type": "code",
      "execution_count": 26,
      "metadata": {
        "colab": {
          "base_uri": "https://localhost:8080/",
          "height": 282
        },
        "id": "mKlmCGfn1GGc",
        "outputId": "232c567c-b664-496b-d22a-3024e926b2d7"
      },
      "outputs": [
        {
          "data": {
            "image/png": "[encoded data removed]",
            "text/plain": [
              "<Figure size 432x288 with 1 Axes>"
            ]
          },
          "metadata": {
            "needs_background": "light"
          },
          "output_type": "display_data"
        }
      ],
      "source": [
        "plot_cat('RNG_SALDO_TC_ENTRE_INGRESO')"
      ]
    },
    {
      "cell_type": "code",
      "execution_count": 27,
      "metadata": {
        "colab": {
          "base_uri": "https://localhost:8080/",
          "height": 280
        },
        "id": "vMZcCHtX1Mb8",
        "outputId": "bd0ff9cd-8b04-41e1-c54d-214705d6d57c"
      },
      "outputs": [
        {
          "data": {
            "image/png": "[encoded data removed]",
            "text/plain": [
              "<Figure size 432x288 with 1 Axes>"
            ]
          },
          "metadata": {
            "needs_background": "light"
          },
          "output_type": "display_data"
        }
      ],
      "source": [
        "plot_cat('RNG_SALDO_CONSUMO')"
      ]
    },
    {
      "cell_type": "code",
      "execution_count": 28,
      "metadata": {
        "colab": {
          "base_uri": "https://localhost:8080/",
          "height": 280
        },
        "id": "zcn80vOn1PR1",
        "outputId": "902d623b-aa88-4bc5-918e-5ca790e42f84"
      },
      "outputs": [
        {
          "data": {
            "image/png": "[encoded data removed]",
            "text/plain": [
              "<Figure size 432x288 with 1 Axes>"
            ]
          },
          "metadata": {
            "needs_background": "light"
          },
          "output_type": "display_data"
        }
      ],
      "source": [
        "plot_cat('RNG_LIN_CENCO_ENTRE_LIN_MAX')"
      ]
    },
    {
      "cell_type": "code",
      "execution_count": 29,
      "metadata": {
        "colab": {
          "base_uri": "https://localhost:8080/",
          "height": 282
        },
        "id": "Zx8ldkID1Tt0",
        "outputId": "95f914fe-f73f-4f96-ba0b-a61bd40ec09b"
      },
      "outputs": [
        {
          "data": {
            "image/png": "[encoded data removed]",
            "text/plain": [
              "<Figure size 432x288 with 1 Axes>"
            ]
          },
          "metadata": {
            "needs_background": "light"
          },
          "output_type": "display_data"
        }
      ],
      "source": [
        "plot_cat('RNG_SALDO_TC')"
      ]
    },
    {
      "cell_type": "code",
      "execution_count": 30,
      "metadata": {
        "colab": {
          "base_uri": "https://localhost:8080/",
          "height": 335
        },
        "id": "dSf-1wQ71W1U",
        "outputId": "c5c95cb8-e743-4f36-8247-6eab7a25037d"
      },
      "outputs": [
        {
          "data": {
            "image/png": "[encoded data removed]",
            "text/plain": [
              "<Figure size 1080x360 with 2 Axes>"
            ]
          },
          "metadata": {
            "needs_background": "light"
          },
          "output_type": "display_data"
        }
      ],
      "source": [
        "plot_num('EDAD_ID')"
      ]
    },
    {
      "cell_type": "code",
      "execution_count": 31,
      "metadata": {
        "colab": {
          "base_uri": "https://localhost:8080/",
          "height": 282
        },
        "id": "jDdSFaVd1aLH",
        "outputId": "f04a5420-e356-4393-866f-6dad6ed0f400"
      },
      "outputs": [
        {
          "data": {
            "image/png": "[encoded data removed]",
            "text/plain": [
              "<Figure size 432x288 with 1 Axes>"
            ]
          },
          "metadata": {
            "needs_background": "light"
          },
          "output_type": "display_data"
        }
      ],
      "source": [
        "plot_cat('RNG_EDAD')"
      ]
    },
    {
      "cell_type": "code",
      "execution_count": 32,
      "metadata": {
        "colab": {
          "base_uri": "https://localhost:8080/",
          "height": 280
        },
        "id": "8zIYdrn41g0Y",
        "outputId": "f261b556-2d95-4699-db94-5509afaa90a3"
      },
      "outputs": [
        {
          "data": {
            "image/png": "[encoded data removed]",
            "text/plain": [
              "<Figure size 432x288 with 1 Axes>"
            ]
          },
          "metadata": {
            "needs_background": "light"
          },
          "output_type": "display_data"
        }
      ],
      "source": [
        "plot_cat('RNG_APALANCAMIENTO')"
      ]
    },
    {
      "cell_type": "code",
      "execution_count": 33,
      "metadata": {
        "colab": {
          "base_uri": "https://localhost:8080/",
          "height": 280
        },
        "id": "d6yAdwML1jrX",
        "outputId": "49277d60-61d0-41bd-eda4-a1fe617c68ed"
      },
      "outputs": [
        {
          "data": {
            "image/png": "[encoded data removed]",
            "text/plain": [
              "<Figure size 432x288 with 1 Axes>"
            ]
          },
          "metadata": {
            "needs_background": "light"
          },
          "output_type": "display_data"
        }
      ],
      "source": [
        "plot_cat('Color_gestion')"
      ]
    },
    {
      "cell_type": "code",
      "execution_count": 34,
      "metadata": {
        "colab": {
          "base_uri": "https://localhost:8080/",
          "height": 282
        },
        "id": "WrSlgc3R1lxo",
        "outputId": "6edc89ab-a987-480c-999e-f18593494900"
      },
      "outputs": [
        {
          "data": {
            "image/png": "[encoded data removed]",
            "text/plain": [
              "<Figure size 432x288 with 1 Axes>"
            ]
          },
          "metadata": {
            "needs_background": "light"
          },
          "output_type": "display_data"
        }
      ],
      "source": [
        "plot_cat('Campaña')"
      ]
    },
    {
      "cell_type": "code",
      "execution_count": 35,
      "metadata": {
        "colab": {
          "base_uri": "https://localhost:8080/",
          "height": 279
        },
        "id": "L8oSwgSR1nK0",
        "outputId": "93f7bb8e-b593-4129-88bb-fb066a5036c8"
      },
      "outputs": [
        {
          "data": {
            "image/png": "[encoded data removed]",
            "text/plain": [
              "<Figure size 432x288 with 1 Axes>"
            ]
          },
          "metadata": {
            "needs_background": "light"
          },
          "output_type": "display_data"
        }
      ],
      "source": [
        "plot_cat('PEER')"
      ]
    },
    {
      "cell_type": "code",
      "execution_count": 36,
      "metadata": {
        "colab": {
          "base_uri": "https://localhost:8080/",
          "height": 280
        },
        "id": "SSie2FRI1qpr",
        "outputId": "638be85c-768b-43e6-d43b-9e214dedef41"
      },
      "outputs": [
        {
          "data": {
            "image/png": "[encoded data removed]",
            "text/plain": [
              "<Figure size 432x288 with 1 Axes>"
            ]
          },
          "metadata": {
            "needs_background": "light"
          },
          "output_type": "display_data"
        }
      ],
      "source": [
        "plot_cat('GEST_ANT_STOCK')"
      ]
    },
    {
      "cell_type": "code",
      "execution_count": 37,
      "metadata": {
        "colab": {
          "base_uri": "https://localhost:8080/",
          "height": 335
        },
        "id": "jEsLOCYZ1tat",
        "outputId": "2ebc0075-c572-461a-f0c6-e7377a18e0c8"
      },
      "outputs": [
        {
          "data": {
            "image/png": "[encoded data removed]",
            "text/plain": [
              "<Figure size 1080x360 with 2 Axes>"
            ]
          },
          "metadata": {
            "needs_background": "light"
          },
          "output_type": "display_data"
        }
      ],
      "source": [
        "plot_num('Tasa_7')"
      ]
    },
    {
      "cell_type": "code",
      "execution_count": 38,
      "metadata": {
        "colab": {
          "base_uri": "https://localhost:8080/",
          "height": 335
        },
        "id": "3Hawi6E41w9C",
        "outputId": "aa387f1d-1520-4c5a-ced7-4bb60590901b"
      },
      "outputs": [
        {
          "data": {
            "image/png": "[encoded data removed]",
            "text/plain": [
              "<Figure size 1080x360 with 2 Axes>"
            ]
          },
          "metadata": {
            "needs_background": "light"
          },
          "output_type": "display_data"
        }
      ],
      "source": [
        "plot_num('Tasa_12M')"
      ]
    },
    {
      "cell_type": "code",
      "execution_count": 39,
      "metadata": {
        "colab": {
          "base_uri": "https://localhost:8080/",
          "height": 335
        },
        "id": "cfSX_6xB1zNH",
        "outputId": "7fee1e5c-e629-47ad-9c3f-38f96581e19d"
      },
      "outputs": [
        {
          "data": {
            "image/png": "[encoded data removed]",
            "text/plain": [
              "<Figure size 1080x360 with 2 Axes>"
            ]
          },
          "metadata": {
            "needs_background": "light"
          },
          "output_type": "display_data"
        }
      ],
      "source": [
        "plot_num('Tasa_18M')"
      ]
    },
    {
      "cell_type": "code",
      "execution_count": 40,
      "metadata": {
        "colab": {
          "base_uri": "https://localhost:8080/",
          "height": 335
        },
        "id": "A-LyBzph11Md",
        "outputId": "5f7e17c9-78cb-428e-b746-b984400a6f1f"
      },
      "outputs": [
        {
          "data": {
            "image/png": "[encoded data removed]",
            "text/plain": [
              "<Figure size 1080x360 with 2 Axes>"
            ]
          },
          "metadata": {
            "needs_background": "light"
          },
          "output_type": "display_data"
        }
      ],
      "source": [
        "plot_num('Tasa_24M')"
      ]
    },
    {
      "cell_type": "code",
      "execution_count": 41,
      "metadata": {
        "colab": {
          "base_uri": "https://localhost:8080/",
          "height": 335
        },
        "id": "kBhYzmE113CZ",
        "outputId": "edaac8fa-d752-4c36-80b3-07c6ec880d91"
      },
      "outputs": [
        {
          "data": {
            "image/png": "[encoded data removed]",
            "text/plain": [
              "<Figure size 1080x360 with 2 Axes>"
            ]
          },
          "metadata": {
            "needs_background": "light"
          },
          "output_type": "display_data"
        }
      ],
      "source": [
        "plot_num('Tasa_36M')"
      ]
    },
    {
      "cell_type": "code",
      "execution_count": 137,
      "metadata": {
        "colab": {
          "base_uri": "https://localhost:8080/",
          "height": 335
        },
        "id": "ynTKQ7VGs2bz",
        "outputId": "d0202d4d-e2e3-471d-d1b9-882a1dfb5201"
      },
      "outputs": [
        {
          "data": {
            "image/png": "[encoded data removed]",
            "text/plain": [
              "<Figure size 1080x360 with 2 Axes>"
            ]
          },
          "metadata": {
            "needs_background": "light"
          },
          "output_type": "display_data"
        }
      ],
      "source": [
        "df['Tasa_Prom'] = (df['Tasa_36M'] + df['Tasa_24M'] + df['Tasa_18M'] + df['Tasa_12M'])/4\n",
        "plot_num('Tasa_Prom')"
      ]
    },
    {
      "cell_type": "code",
      "execution_count": 42,
      "metadata": {
        "colab": {
          "base_uri": "https://localhost:8080/",
          "height": 279
        },
        "id": "JeESPeiS18Fk",
        "outputId": "334da9f0-428c-4e86-b79f-95bf8a6631ed"
      },
      "outputs": [
        {
          "data": {
            "image/png": "[encoded data removed]",
            "text/plain": [
              "<Figure size 432x288 with 1 Axes>"
            ]
          },
          "metadata": {
            "needs_background": "light"
          },
          "output_type": "display_data"
        }
      ],
      "source": [
        "plot_cat('VTA')"
      ]
    },
    {
      "attachments": {},
      "cell_type": "markdown",
      "metadata": {
        "id": "0t9-SZOEdYS4"
      },
      "source": [
        "\n",
        "## Replacing some coulms for median values\n"
      ]
    },
    {
      "cell_type": "code",
      "execution_count": 43,
      "metadata": {
        "id": "XycMAF17xti3"
      },
      "outputs": [],
      "source": [
        "df['productoEXC'] = df['producto'].apply(lambda x: 1 if x == 'EXC' else 0)\n",
        "df['productoGEN'] = df['producto'].apply(lambda x: 1 if x == 'GEN' else 0)"
      ]
    },
    {
      "attachments": {},
      "cell_type": "markdown",
      "metadata": {
        "id": "0wlbM2lut8ck"
      },
      "source": [
        "Reemplacing: RNG_LINEA_PLD for median of range"
      ]
    },
    {
      "cell_type": "code",
      "execution_count": 44,
      "metadata": {
        "id": "Sqtw9n6ngrGv"
      },
      "outputs": [],
      "source": [
        "df['RNG_LINEA_PLD_num'] = df['RNG_LINEA_PLD'].replace(['a. < 2500', 'b.2500 a 5000', 'c.5001 a 7500','d.7501 a 10000', \n",
        "                                                       'e.10001 a 20000','f. > 20000'],\n",
        "                                                  [1250,3750, 6250, 8750, 15000, 25000])"
      ]
    },
    {
      "attachments": {},
      "cell_type": "markdown",
      "metadata": {
        "id": "TPW5167YuGAw"
      },
      "source": [
        "Replacing: ZONA (Lima = 1)"
      ]
    },
    {
      "cell_type": "code",
      "execution_count": 45,
      "metadata": {
        "id": "bKqQTkzjdhHw"
      },
      "outputs": [],
      "source": [
        "df['ZONA_num'] = df['ZONA'].replace(['PROV', 'LIMA'], [0,1])"
      ]
    },
    {
      "attachments": {},
      "cell_type": "markdown",
      "metadata": {
        "id": "aJgc6J8HuLtI"
      },
      "source": [
        "Encoding variables to boolean "
      ]
    },
    {
      "attachments": {},
      "cell_type": "markdown",
      "metadata": {},
      "source": [
        "I would like to note in this section i could have used the modules from sklearn that already have a encoding functions such as One Hot Encoding and Label Encoding but for learning and customization i chose to do it manually.\n",
        "\n"
      ]
    },
    {
      "cell_type": "code",
      "execution_count": 46,
      "metadata": {
        "id": "M35maRY8gzFx"
      },
      "outputs": [],
      "source": [
        "df['GRUPO_RIESGO_G1'] = df['GRUPO_RIESGO'].apply(lambda x: 1 if x == 'G1' else 0)\n",
        "df['GRUPO_RIESGO_G2'] = df['GRUPO_RIESGO'].apply(lambda x: 1 if x == 'G2' else 0)\n",
        "df['GRUPO_RIESGO_G3'] = df['GRUPO_RIESGO'].apply(lambda x: 1 if x == 'G3' else 0)"
      ]
    },
    {
      "cell_type": "code",
      "execution_count": 47,
      "metadata": {
        "id": "benPYCapjAmU"
      },
      "outputs": [],
      "source": [
        "df['REGIMEN_LABORAL_DEP'] = df['REGIMEN_LABORAL'].apply(lambda x: 1 if x == 'DEP' else 0)"
      ]
    },
    {
      "cell_type": "code",
      "execution_count": 48,
      "metadata": {
        "id": "3Wl2a9gfjdNq"
      },
      "outputs": [],
      "source": [
        "#Before encoding i'm going to replace ranges for null when they do not provide information\n",
        "df['RNG_SALDO_TC_ENTRE_INGRESO'] = df['RNG_SALDO_TC_ENTRE_INGRESO'].replace(['z. [FUENTE EXTERNA]', 'z. [FUENTE INTERNA]'],\n",
        "                                                  np.nan)\n",
        "#df.replace('-', np.nan)"
      ]
    },
    {
      "cell_type": "code",
      "execution_count": 49,
      "metadata": {
        "id": "IsooiplZlhIF"
      },
      "outputs": [],
      "source": [
        "df['RNG_SALDO_TC_ENTRE_INGRESO_sindeuda'] = df['RNG_SALDO_TC_ENTRE_INGRESO'].apply(lambda x: 1 if x == 'a. [SIN DEUDA]' else 0)\n",
        "df['RNG_SALDO_TC_ENTRE_INGRESO_a10'] = df['RNG_SALDO_TC_ENTRE_INGRESO'].apply(lambda x: 1 if x == 'b. ]DE 0% A 10%]' else 0)\n",
        "df['RNG_SALDO_TC_ENTRE_INGRESO_a20'] = df['RNG_SALDO_TC_ENTRE_INGRESO'].apply(lambda x: 1 if x == 'c. ]DE 10% A 20%]' else 0)\n",
        "df['RNG_SALDO_TC_ENTRE_INGRESO_a50'] = df['RNG_SALDO_TC_ENTRE_INGRESO'].apply(lambda x: 1 if x == 'd. ]DE 20% A 50%]' else 0)"
      ]
    },
    {
      "cell_type": "code",
      "execution_count": 50,
      "metadata": {
        "id": "ywlfVdU3mYSv"
      },
      "outputs": [],
      "source": [
        "df['RNG_INGRESO'] = df['RNG_INGRESO'].replace(['0. [NO TIENE]', 'z. [FUENTE EXTERNA]', 'z. [FUENTE INTERNA]'],\n",
        "                                                  np.nan)"
      ]
    },
    {
      "cell_type": "code",
      "execution_count": 51,
      "metadata": {
        "id": "9bXVZ995mMeR"
      },
      "outputs": [],
      "source": [
        "df['RNG_INGRESO_num'] = df['RNG_INGRESO']\n",
        "df['RNG_INGRESO_num'] = df['RNG_INGRESO_num'].replace(['a. [HASTA 1000]', 'b. ]DE 1000 A 2000]', 'c. ]DE 2000 A 5000]',\n",
        "                                                       'd. ]DE 5000 A 7000]', 'e. ]DE 7000 A 10000]', 'f. ]DE 10000 A 20000]',\n",
        "                                                      'g. ]DE 20000 A 1000000]'],\n",
        "                                                  [500,1500, 3500, 6000, 8500, 15000,25000])"
      ]
    },
    {
      "cell_type": "code",
      "execution_count": 52,
      "metadata": {
        "id": "KF8J3Y3onerF"
      },
      "outputs": [],
      "source": [
        "#Label Encoding \n",
        "df['RNG_SALDO_CONSUMO'] = df['RNG_SALDO_CONSUMO'].replace(['z. [FUENTE EXTERNA]', 'a. [SIN DATO]', 'z. [FUENTE INTERNA]'],\n",
        "                                                  np.nan)"
      ]
    },
    {
      "cell_type": "code",
      "execution_count": 53,
      "metadata": {
        "id": "_qas8r_RnpbK"
      },
      "outputs": [],
      "source": [
        "df['RNG_SALDO_CONSUMO_num'] = df['RNG_SALDO_CONSUMO']\n",
        "df['RNG_SALDO_CONSUMO_num'] = df['RNG_INGRESO_num'].replace(['b. ]HASTA 1000]', 'c. ]DE 1000 A 3000]', 'd. ]DE 3000 A 5000]',\n",
        "                                                       'e. ]DE 5000  10000]', 'f. ]DE 10000 A 50000]', 'g. ]DE 50000 A 100000]',\n",
        "                                                      'h. ]DE 200000 A 500000]', 'i. ]DE 500000 A MAS]'],\n",
        "                                                  [500,1500, 3500, 7500, 30000, 75000, 350000, 50000])"
      ]
    },
    {
      "cell_type": "code",
      "execution_count": 54,
      "metadata": {
        "id": "LN85wuqmox-j"
      },
      "outputs": [],
      "source": [
        "df['RNG_LIN_CENCO_ENTRE_LIN_MAX_bancario'] = df['RNG_LIN_CENCO_ENTRE_LIN_MAX'].apply(lambda x: 1 if x == 'a. [BANCARIO]' else 0)\n",
        "df['RNG_LIN_CENCO_ENTRE_LIN_MAX1_retail'] = df['RNG_LIN_CENCO_ENTRE_LIN_MAX'].apply(lambda x: 1 if x == 'b. ]RETAIL]' else 0)"
      ]
    },
    {
      "cell_type": "code",
      "execution_count": 55,
      "metadata": {
        "id": "Y6tbZL2RpQvk"
      },
      "outputs": [],
      "source": [
        "#Label Encoding\n",
        "df['RNG_SALDO_TC'] = df['RNG_SALDO_TC'].replace(['z. [FUENTE EXTERNA]', 'z. [FUENTE INTERNA]'],\n",
        "                                                  np.nan)"
      ]
    },
    {
      "cell_type": "code",
      "execution_count": 56,
      "metadata": {
        "id": "6Ait2IPjpaxQ"
      },
      "outputs": [],
      "source": [
        "df['RNG_SALDO_TC_num'] = df['RNG_SALDO_TC']\n",
        "df['RNG_SALDO_TC_num'] = df['RNG_SALDO_TC_num'].replace(['0. [SIN DEUDA]', 'a. [HASTA 1000]', 'b. ]1000 A 3000]',\n",
        "                                                       'c. ]3000 A 5000]', 'd. ]5000 A 10000]', 'e. ]10000 A 50000]',\n",
        "                                                      'f. ]50000 A 100000]', 'g. ]100000 A 200000]'],\n",
        "                                                  [0,500, 2000, 4000, 7500, 30000 , 75000, 150000])"
      ]
    },
    {
      "cell_type": "code",
      "execution_count": 57,
      "metadata": {
        "colab": {
          "base_uri": "https://localhost:8080/"
        },
        "id": "pAIcvDxLTMCk",
        "outputId": "5117e50a-7b02-4716-be26-4daa1cd0fd38"
      },
      "outputs": [
        {
          "data": {
            "text/plain": [
              "33024"
            ]
          },
          "execution_count": 57,
          "metadata": {},
          "output_type": "execute_result"
        }
      ],
      "source": [
        "df['RNG_SALDO_TC_num'].isna().sum()"
      ]
    },
    {
      "cell_type": "code",
      "execution_count": 58,
      "metadata": {
        "id": "F2LtgT1lqin4"
      },
      "outputs": [],
      "source": [
        "df['RNG_APALANCAMIENTO'] = df['RNG_APALANCAMIENTO'].replace(['z. [FUENTE EXTERNA]', 'z. [FUENTE INTERNA]'],\n",
        "                                                  np.nan)"
      ]
    },
    {
      "cell_type": "code",
      "execution_count": 59,
      "metadata": {
        "id": "8DJ5MQAHqpZ9"
      },
      "outputs": [],
      "source": [
        "df['RNG_APALANCAMIENTO_sinIng'] = df['RNG_APALANCAMIENTO'].apply(lambda x: 1 if x == 'a. ]SIN INGRESOS]' else 0)\n",
        "df['RNG_APALANCAMIENTO_a05'] = df['RNG_APALANCAMIENTO'].apply(lambda x: 1 if x == 'b. ]0 A 0.5]' else 0)\n",
        "df['RNG_APALANCAMIENTO_a6mas'] = df['RNG_APALANCAMIENTO'].apply(lambda x: 1 if x == 'g. [6 A MAS]' else 0)\n",
        "df['RNG_APALANCAMIENTO_a4'] = df['RNG_APALANCAMIENTO'].apply(lambda x: 1 if x == 'e. ]2 A 4]' else 0)\n",
        "df['RNG_APALANCAMIENTO_a2'] = df['RNG_APALANCAMIENTO'].apply(lambda x: 1 if x == 'd. ]1 A 2]' else 0)\n",
        "df['RNG_APALANCAMIENTO_a6'] = df['RNG_APALANCAMIENTO'].apply(lambda x: 1 if x == 'f. ]4 A 6]' else 0)\n",
        "df['RNG_APALANCAMIENTO_a1'] = df['RNG_APALANCAMIENTO'].apply(lambda x: 1 if x == 'c. ]0.5 A 1]' else 0)"
      ]
    },
    {
      "cell_type": "code",
      "execution_count": 60,
      "metadata": {
        "id": "eZjDyX0ksFIx"
      },
      "outputs": [],
      "source": [
        "\n",
        "df['Campaña_dni'] = df['Campaña'].apply(lambda x: 1 if x == 'SOLODNI' else 0)\n",
        "df['Campaña_PE'] = df['Campaña'].apply(lambda x: 1 if x == 'SD PE' else 0)\n",
        "df['Campaña_FCP'] = df['Campaña'].apply(lambda x: 1 if x == 'SD FCP' else 0)"
      ]
    },
    {
      "cell_type": "code",
      "execution_count": 61,
      "metadata": {
        "id": "7PGXwJQxsulQ"
      },
      "outputs": [],
      "source": [
        "df['GEST_ANT_STOCK_6'] = df['GEST_ANT_STOCK'].apply(lambda x: 1 if x == '6M' else 0)\n",
        "df['GEST_ANT_STOCK_12'] = df['GEST_ANT_STOCK'].apply(lambda x: 1 if x == '12M' else 0)\n",
        "df['GEST_ANT_STOCK_new'] = df['GEST_ANT_STOCK'].apply(lambda x: 1 if x == 'NEW' else 0)"
      ]
    },
    {
      "cell_type": "code",
      "execution_count": 62,
      "metadata": {
        "id": "C3XWLTQTtPSL"
      },
      "outputs": [],
      "source": [
        "# Filling the Interest or \"Tasa\" variable \n",
        "\n",
        "df['Tasa_7'] = df['Tasa_7'].replace([999], np.nan)\n",
        "df['Tasa_12M'] = df['Tasa_12M'].replace([0], np.nan)\n",
        "df['Tasa_18M'] = df['Tasa_18M'].replace([0], np.nan)\n",
        "df['Tasa_24M'] = df['Tasa_24M'].replace([0], np.nan)\n",
        "df['Tasa_36M'] = df['Tasa_36M'].replace([0], np.nan)"
      ]
    },
    {
      "attachments": {},
      "cell_type": "markdown",
      "metadata": {
        "id": "T_WCSYLhvszj"
      },
      "source": [
        "Encoding the target variable \"VTA\""
      ]
    },
    {
      "cell_type": "code",
      "execution_count": 63,
      "metadata": {
        "id": "jiw0iqXlt1rF"
      },
      "outputs": [],
      "source": [
        "df['target'] = df['VTA'].apply(lambda x: 1 if x == 'SI' else 0)"
      ]
    },
    {
      "cell_type": "code",
      "execution_count": 64,
      "metadata": {
        "colab": {
          "base_uri": "https://localhost:8080/"
        },
        "id": "3k1l1V7oemf_",
        "outputId": "ebaeb93f-0dae-4b0a-92bc-4673b96682fb"
      },
      "outputs": [
        {
          "data": {
            "text/plain": [
              "0    0.996997\n",
              "1    0.003003\n",
              "Name: target, dtype: float64"
            ]
          },
          "execution_count": 64,
          "metadata": {},
          "output_type": "execute_result"
        }
      ],
      "source": [
        "df.target.value_counts(normalize = True)"
      ]
    },
    {
      "attachments": {},
      "cell_type": "markdown",
      "metadata": {
        "id": "Xh34AZQavxwq"
      },
      "source": [
        "Since our target variable represents less than 0.5% of the total data i'm going to use undersampling and oversampling in this dataset."
      ]
    },
    {
      "attachments": {},
      "cell_type": "markdown",
      "metadata": {
        "id": "12LgYClP4bgq"
      },
      "source": [
        "## Spliting cuantitative and cualitative variables"
      ]
    },
    {
      "cell_type": "code",
      "execution_count": 94,
      "metadata": {
        "colab": {
          "base_uri": "https://localhost:8080/"
        },
        "id": "FsdZgiGAfmNl",
        "outputId": "cb162b7f-077a-426f-df4b-2d3c25a15c38"
      },
      "outputs": [
        {
          "data": {
            "text/plain": [
              "Index(['producto', 'CantidadGestiones', 'CantidadGestiones_Dis', 'LINEA',\n",
              "       'RNG_LINEA_PLD', 'ZONA', 'SCORE_AZTECA', 'PROP_AZTECA', 'SCORE_Q_MIL',\n",
              "       'GRUPO_RIESGO', 'FECHA_CARGA', 'DEPARTAMENTO_ID', 'PROVINCIA_ID',\n",
              "       'DISTRITO_ID', 'REGIMEN_LABORAL', 'RNG_SALDO_TC_ENTRE_INGRESO',\n",
              "       'RNG_INGRESO', 'RNG_SALDO_CONSUMO', 'RNG_LIN_CENCO_ENTRE_LIN_MAX',\n",
              "       'RNG_SALDO_TC', 'EDAD_ID', 'RNG_EDAD', 'NUM_TC', 'RNG_CANTIDADTC',\n",
              "       'RNG_APALANCAMIENTO', 'Color_gestion', 'Campaña', 'PEER',\n",
              "       'GEST_ANT_STOCK', 'Tasa_7', 'Tasa_12M', 'Tasa_18M', 'Tasa_24M',\n",
              "       'Tasa_36M', 'VTA', 'productoEXC', 'productoGEN', 'RNG_LINEA_PLD_num',\n",
              "       'ZONA_num', 'GRUPO_RIESGO_G1', 'GRUPO_RIESGO_G2', 'GRUPO_RIESGO_G3',\n",
              "       'REGIMEN_LABORAL_DEP', 'RNG_SALDO_TC_ENTRE_INGRESO_sindeuda',\n",
              "       'RNG_SALDO_TC_ENTRE_INGRESO_a10', 'RNG_SALDO_TC_ENTRE_INGRESO_a20',\n",
              "       'RNG_SALDO_TC_ENTRE_INGRESO_a50', 'RNG_INGRESO_num',\n",
              "       'RNG_SALDO_CONSUMO_num', 'RNG_LIN_CENCO_ENTRE_LIN_MAX_bancario',\n",
              "       'RNG_LIN_CENCO_ENTRE_LIN_MAX1_retail', 'RNG_SALDO_TC_num',\n",
              "       'RNG_APALANCAMIENTO_sinIng', 'RNG_APALANCAMIENTO_a05',\n",
              "       'RNG_APALANCAMIENTO_a6mas', 'RNG_APALANCAMIENTO_a4',\n",
              "       'RNG_APALANCAMIENTO_a2', 'RNG_APALANCAMIENTO_a6',\n",
              "       'RNG_APALANCAMIENTO_a1', 'Campaña_dni', 'Campaña_PE', 'Campaña_FCP',\n",
              "       'GEST_ANT_STOCK_6', 'GEST_ANT_STOCK_12', 'GEST_ANT_STOCK_new', 'target',\n",
              "       'CantidadGestiones_cub', 'CantidadGestiones_Dis_cub'],\n",
              "      dtype='object')"
            ]
          },
          "execution_count": 94,
          "metadata": {},
          "output_type": "execute_result"
        }
      ],
      "source": [
        "df.columns"
      ]
    },
    {
      "cell_type": "code",
      "execution_count": 146,
      "metadata": {
        "id": "mY3feK86MOU-"
      },
      "outputs": [],
      "source": [
        "column_cuali = ['RNG_LINEA_PLD', 'GRUPO_RIESGO', 'FECHA_CARGA', 'DEPARTAMENTO_ID', 'PROVINCIA_ID', 'DISTRITO_ID',\n",
        "      'REGIMEN_LABORAL', \n",
        "       'RNG_SALDO_CONSUMO', 'RNG_LIN_CENCO_ENTRE_LIN_MAX',\n",
        "       'RNG_SALDO_TC', 'RNG_EDAD', 'RNG_CANTIDADTC',\n",
        "       'RNG_APALANCAMIENTO', 'Color_gestion', 'Campaña', 'PEER',\n",
        "       'GEST_ANT_STOCK']\n",
        "column_cuanti = ['productoEXC','productoGEN','CantidadGestiones', 'CantidadGestiones_Dis', 'LINEA','SCORE_AZTECA', 'PROP_AZTECA',\n",
        "                 'SCORE_Q_MIL', 'RNG_LINEA_PLD_num','ZONA_num','GRUPO_RIESGO_G1', 'GRUPO_RIESGO_G2','GRUPO_RIESGO_G3','REGIMEN_LABORAL_DEP', \n",
        "                 'RNG_SALDO_TC_ENTRE_INGRESO_sindeuda','RNG_SALDO_TC_ENTRE_INGRESO_a10', 'RNG_SALDO_TC_ENTRE_INGRESO_a20',\n",
        "                 'RNG_SALDO_TC_ENTRE_INGRESO_a50', 'RNG_INGRESO_num', 'RNG_SALDO_CONSUMO_num', 'RNG_LIN_CENCO_ENTRE_LIN_MAX_bancario',\n",
        "                 'RNG_LIN_CENCO_ENTRE_LIN_MAX1_retail', 'RNG_SALDO_TC_num','EDAD_ID', 'NUM_TC',\n",
        "                 'RNG_APALANCAMIENTO_sinIng', 'RNG_APALANCAMIENTO_a05', 'RNG_APALANCAMIENTO_a6mas', 'RNG_APALANCAMIENTO_a4',\n",
        "                 'RNG_APALANCAMIENTO_a2','RNG_APALANCAMIENTO_a6', 'RNG_APALANCAMIENTO_a1','Campaña_dni','Campaña_PE','Campaña_FCP',\n",
        "                 'GEST_ANT_STOCK_6','GEST_ANT_STOCK_12','GEST_ANT_STOCK_new','Tasa_7', 'Tasa_12M', 'Tasa_18M', 'Tasa_24M','Tasa_36M', 'target',\n",
        "                 'CantidadGestiones_cub', 'CantidadGestiones_Dis_cub', 'Tasa_Prom']"
      ]
    },
    {
      "cell_type": "code",
      "execution_count": 147,
      "metadata": {
        "colab": {
          "base_uri": "https://localhost:8080/"
        },
        "id": "Mx8ezadhDRNF",
        "outputId": "cde2120b-b13b-4461-e32d-5ef5cbea7c99"
      },
      "outputs": [
        {
          "data": {
            "text/plain": [
              "(179823, 47)"
            ]
          },
          "execution_count": 147,
          "metadata": {},
          "output_type": "execute_result"
        }
      ],
      "source": [
        "df[column_cuanti].shape"
      ]
    },
    {
      "cell_type": "code",
      "execution_count": 148,
      "metadata": {
        "colab": {
          "base_uri": "https://localhost:8080/"
        },
        "id": "ziBfUsjHd8Cy",
        "outputId": "1859dd3b-5bb7-4059-9762-19d6d66247e8"
      },
      "outputs": [
        {
          "name": "stdout",
          "output_type": "stream",
          "text": [
            "<class 'pandas.core.frame.DataFrame'>\n",
            "RangeIndex: 179823 entries, 0 to 179822\n",
            "Data columns (total 47 columns):\n",
            " #   Column                                Non-Null Count   Dtype  \n",
            "---  ------                                --------------   -----  \n",
            " 0   productoEXC                           179823 non-null  int64  \n",
            " 1   productoGEN                           179823 non-null  int64  \n",
            " 2   CantidadGestiones                     179823 non-null  int64  \n",
            " 3   CantidadGestiones_Dis                 179823 non-null  int64  \n",
            " 4   LINEA                                 179823 non-null  int64  \n",
            " 5   SCORE_AZTECA                          179823 non-null  int64  \n",
            " 6   PROP_AZTECA                           179823 non-null  int64  \n",
            " 7   SCORE_Q_MIL                           179823 non-null  int64  \n",
            " 8   RNG_LINEA_PLD_num                     179823 non-null  int64  \n",
            " 9   ZONA_num                              179823 non-null  int64  \n",
            " 10  GRUPO_RIESGO_G1                       179823 non-null  int64  \n",
            " 11  GRUPO_RIESGO_G2                       179823 non-null  int64  \n",
            " 12  GRUPO_RIESGO_G3                       179823 non-null  int64  \n",
            " 13  REGIMEN_LABORAL_DEP                   179823 non-null  int64  \n",
            " 14  RNG_SALDO_TC_ENTRE_INGRESO_sindeuda   179823 non-null  int64  \n",
            " 15  RNG_SALDO_TC_ENTRE_INGRESO_a10        179823 non-null  int64  \n",
            " 16  RNG_SALDO_TC_ENTRE_INGRESO_a20        179823 non-null  int64  \n",
            " 17  RNG_SALDO_TC_ENTRE_INGRESO_a50        179823 non-null  int64  \n",
            " 18  RNG_INGRESO_num                       75712 non-null   float64\n",
            " 19  RNG_SALDO_CONSUMO_num                 75712 non-null   float64\n",
            " 20  RNG_LIN_CENCO_ENTRE_LIN_MAX_bancario  179823 non-null  int64  \n",
            " 21  RNG_LIN_CENCO_ENTRE_LIN_MAX1_retail   179823 non-null  int64  \n",
            " 22  RNG_SALDO_TC_num                      146799 non-null  float64\n",
            " 23  EDAD_ID                               179823 non-null  int64  \n",
            " 24  NUM_TC                                146839 non-null  float64\n",
            " 25  RNG_APALANCAMIENTO_sinIng             179823 non-null  int64  \n",
            " 26  RNG_APALANCAMIENTO_a05                179823 non-null  int64  \n",
            " 27  RNG_APALANCAMIENTO_a6mas              179823 non-null  int64  \n",
            " 28  RNG_APALANCAMIENTO_a4                 179823 non-null  int64  \n",
            " 29  RNG_APALANCAMIENTO_a2                 179823 non-null  int64  \n",
            " 30  RNG_APALANCAMIENTO_a6                 179823 non-null  int64  \n",
            " 31  RNG_APALANCAMIENTO_a1                 179823 non-null  int64  \n",
            " 32  Campaña_dni                           179823 non-null  int64  \n",
            " 33  Campaña_PE                            179823 non-null  int64  \n",
            " 34  Campaña_FCP                           179823 non-null  int64  \n",
            " 35  GEST_ANT_STOCK_6                      179823 non-null  int64  \n",
            " 36  GEST_ANT_STOCK_12                     179823 non-null  int64  \n",
            " 37  GEST_ANT_STOCK_new                    179823 non-null  int64  \n",
            " 38  Tasa_7                                26051 non-null   float64\n",
            " 39  Tasa_12M                              178326 non-null  float64\n",
            " 40  Tasa_18M                              178326 non-null  float64\n",
            " 41  Tasa_24M                              178326 non-null  float64\n",
            " 42  Tasa_36M                              178326 non-null  float64\n",
            " 43  target                                179823 non-null  int64  \n",
            " 44  CantidadGestiones_cub                 179823 non-null  float64\n",
            " 45  CantidadGestiones_Dis_cub             179823 non-null  float64\n",
            " 46  Tasa_Prom                             178326 non-null  float64\n",
            "dtypes: float64(12), int64(35)\n",
            "memory usage: 64.5 MB\n"
          ]
        }
      ],
      "source": [
        "df[column_cuanti].info()"
      ]
    },
    {
      "cell_type": "code",
      "execution_count": 149,
      "metadata": {
        "id": "WKcZJH2r9kR-"
      },
      "outputs": [],
      "source": [
        "#This is the data frame i'll use for modeling\n",
        "total_df = df[column_cuanti]"
      ]
    },
    {
      "cell_type": "code",
      "execution_count": 150,
      "metadata": {
        "id": "XF2q_rr5EAkp"
      },
      "outputs": [],
      "source": [
        "import matplotlib.pyplot as plt\n",
        "def plot_nas(df: pd.DataFrame):\n",
        "    if df.isnull().sum().sum() != 0:\n",
        "        na_df = (df.isnull().sum() / len(df)) * 100      \n",
        "        na_df = na_df.drop(na_df[na_df == 0].index).sort_values(ascending=False)\n",
        "        missing_data = pd.DataFrame({'Missing Ratio %' :na_df})\n",
        "        missing_data.plot(kind = \"barh\")\n",
        "        plt.show()\n",
        "    else:\n",
        "        print('No NAs found')"
      ]
    },
    {
      "cell_type": "code",
      "execution_count": 151,
      "metadata": {
        "colab": {
          "base_uri": "https://localhost:8080/",
          "height": 265
        },
        "id": "e8U0Q5XkF4u7",
        "outputId": "7124991a-7cb2-4046-eca3-53e91ce793c2"
      },
      "outputs": [
        {
          "data": {
            "image/png": "[encoded data removed]",
            "text/plain": [
              "<Figure size 432x288 with 1 Axes>"
            ]
          },
          "metadata": {
            "needs_background": "light"
          },
          "output_type": "display_data"
        }
      ],
      "source": [
        "plot_nas(total_df)"
      ]
    },
    {
      "cell_type": "code",
      "execution_count": 152,
      "metadata": {
        "colab": {
          "base_uri": "https://localhost:8080/",
          "height": 487
        },
        "id": "_eqJKJfHIhTs",
        "outputId": "96c36c5c-12b4-42e1-f6a9-614140d51bc6"
      },
      "outputs": [
        {
          "data": {
            "text/html": [
              "\n",
              "  <div id=\"df-7187042e-18ad-4b65-9718-a5fd8eb14a3b\">\n",
              "    <div class=\"colab-df-container\">\n",
              "      <div>\n",
              "<style scoped>\n",
              "    .dataframe tbody tr th:only-of-type {\n",
              "        vertical-align: middle;\n",
              "    }\n",
              "\n",
              "    .dataframe tbody tr th {\n",
              "        vertical-align: top;\n",
              "    }\n",
              "\n",
              "    .dataframe thead th {\n",
              "        text-align: right;\n",
              "    }\n",
              "</style>\n",
              "<table border=\"1\" class=\"dataframe\">\n",
              "  <thead>\n",
              "    <tr style=\"text-align: right;\">\n",
              "      <th></th>\n",
              "      <th>productoEXC</th>\n",
              "      <th>productoGEN</th>\n",
              "      <th>CantidadGestiones</th>\n",
              "      <th>CantidadGestiones_Dis</th>\n",
              "      <th>LINEA</th>\n",
              "      <th>SCORE_AZTECA</th>\n",
              "      <th>PROP_AZTECA</th>\n",
              "      <th>SCORE_Q_MIL</th>\n",
              "      <th>RNG_LINEA_PLD_num</th>\n",
              "      <th>ZONA_num</th>\n",
              "      <th>...</th>\n",
              "      <th>GEST_ANT_STOCK_new</th>\n",
              "      <th>Tasa_7</th>\n",
              "      <th>Tasa_12M</th>\n",
              "      <th>Tasa_18M</th>\n",
              "      <th>Tasa_24M</th>\n",
              "      <th>Tasa_36M</th>\n",
              "      <th>target</th>\n",
              "      <th>CantidadGestiones_cub</th>\n",
              "      <th>CantidadGestiones_Dis_cub</th>\n",
              "      <th>Tasa_Prom</th>\n",
              "    </tr>\n",
              "  </thead>\n",
              "  <tbody>\n",
              "    <tr>\n",
              "      <th>220</th>\n",
              "      <td>0</td>\n",
              "      <td>1</td>\n",
              "      <td>0</td>\n",
              "      <td>30</td>\n",
              "      <td>8100</td>\n",
              "      <td>355</td>\n",
              "      <td>4</td>\n",
              "      <td>470255</td>\n",
              "      <td>8750</td>\n",
              "      <td>1</td>\n",
              "      <td>...</td>\n",
              "      <td>0</td>\n",
              "      <td>NaN</td>\n",
              "      <td>NaN</td>\n",
              "      <td>NaN</td>\n",
              "      <td>NaN</td>\n",
              "      <td>NaN</td>\n",
              "      <td>0</td>\n",
              "      <td>0.0</td>\n",
              "      <td>3.107233</td>\n",
              "      <td>NaN</td>\n",
              "    </tr>\n",
              "    <tr>\n",
              "      <th>788</th>\n",
              "      <td>0</td>\n",
              "      <td>1</td>\n",
              "      <td>0</td>\n",
              "      <td>12</td>\n",
              "      <td>30000</td>\n",
              "      <td>401</td>\n",
              "      <td>4</td>\n",
              "      <td>488394</td>\n",
              "      <td>25000</td>\n",
              "      <td>0</td>\n",
              "      <td>...</td>\n",
              "      <td>0</td>\n",
              "      <td>57.0</td>\n",
              "      <td>NaN</td>\n",
              "      <td>NaN</td>\n",
              "      <td>NaN</td>\n",
              "      <td>NaN</td>\n",
              "      <td>0</td>\n",
              "      <td>0.0</td>\n",
              "      <td>2.289428</td>\n",
              "      <td>NaN</td>\n",
              "    </tr>\n",
              "    <tr>\n",
              "      <th>980</th>\n",
              "      <td>0</td>\n",
              "      <td>1</td>\n",
              "      <td>0</td>\n",
              "      <td>2</td>\n",
              "      <td>7700</td>\n",
              "      <td>323</td>\n",
              "      <td>4</td>\n",
              "      <td>372370</td>\n",
              "      <td>8750</td>\n",
              "      <td>0</td>\n",
              "      <td>...</td>\n",
              "      <td>0</td>\n",
              "      <td>NaN</td>\n",
              "      <td>NaN</td>\n",
              "      <td>NaN</td>\n",
              "      <td>NaN</td>\n",
              "      <td>NaN</td>\n",
              "      <td>0</td>\n",
              "      <td>0.0</td>\n",
              "      <td>1.259921</td>\n",
              "      <td>NaN</td>\n",
              "    </tr>\n",
              "    <tr>\n",
              "      <th>1099</th>\n",
              "      <td>0</td>\n",
              "      <td>1</td>\n",
              "      <td>0</td>\n",
              "      <td>8</td>\n",
              "      <td>6100</td>\n",
              "      <td>181</td>\n",
              "      <td>4</td>\n",
              "      <td>393092</td>\n",
              "      <td>6250</td>\n",
              "      <td>1</td>\n",
              "      <td>...</td>\n",
              "      <td>0</td>\n",
              "      <td>NaN</td>\n",
              "      <td>NaN</td>\n",
              "      <td>NaN</td>\n",
              "      <td>NaN</td>\n",
              "      <td>NaN</td>\n",
              "      <td>0</td>\n",
              "      <td>0.0</td>\n",
              "      <td>2.000000</td>\n",
              "      <td>NaN</td>\n",
              "    </tr>\n",
              "    <tr>\n",
              "      <th>1354</th>\n",
              "      <td>0</td>\n",
              "      <td>1</td>\n",
              "      <td>0</td>\n",
              "      <td>4</td>\n",
              "      <td>15300</td>\n",
              "      <td>619</td>\n",
              "      <td>4</td>\n",
              "      <td>396977</td>\n",
              "      <td>15000</td>\n",
              "      <td>0</td>\n",
              "      <td>...</td>\n",
              "      <td>0</td>\n",
              "      <td>NaN</td>\n",
              "      <td>NaN</td>\n",
              "      <td>NaN</td>\n",
              "      <td>NaN</td>\n",
              "      <td>NaN</td>\n",
              "      <td>0</td>\n",
              "      <td>0.0</td>\n",
              "      <td>1.587401</td>\n",
              "      <td>NaN</td>\n",
              "    </tr>\n",
              "    <tr>\n",
              "      <th>...</th>\n",
              "      <td>...</td>\n",
              "      <td>...</td>\n",
              "      <td>...</td>\n",
              "      <td>...</td>\n",
              "      <td>...</td>\n",
              "      <td>...</td>\n",
              "      <td>...</td>\n",
              "      <td>...</td>\n",
              "      <td>...</td>\n",
              "      <td>...</td>\n",
              "      <td>...</td>\n",
              "      <td>...</td>\n",
              "      <td>...</td>\n",
              "      <td>...</td>\n",
              "      <td>...</td>\n",
              "      <td>...</td>\n",
              "      <td>...</td>\n",
              "      <td>...</td>\n",
              "      <td>...</td>\n",
              "      <td>...</td>\n",
              "      <td>...</td>\n",
              "    </tr>\n",
              "    <tr>\n",
              "      <th>173564</th>\n",
              "      <td>0</td>\n",
              "      <td>1</td>\n",
              "      <td>0</td>\n",
              "      <td>3</td>\n",
              "      <td>5400</td>\n",
              "      <td>0</td>\n",
              "      <td>4</td>\n",
              "      <td>483734</td>\n",
              "      <td>6250</td>\n",
              "      <td>1</td>\n",
              "      <td>...</td>\n",
              "      <td>0</td>\n",
              "      <td>NaN</td>\n",
              "      <td>NaN</td>\n",
              "      <td>NaN</td>\n",
              "      <td>NaN</td>\n",
              "      <td>NaN</td>\n",
              "      <td>0</td>\n",
              "      <td>0.0</td>\n",
              "      <td>1.442250</td>\n",
              "      <td>NaN</td>\n",
              "    </tr>\n",
              "    <tr>\n",
              "      <th>173566</th>\n",
              "      <td>0</td>\n",
              "      <td>1</td>\n",
              "      <td>0</td>\n",
              "      <td>4</td>\n",
              "      <td>6500</td>\n",
              "      <td>0</td>\n",
              "      <td>4</td>\n",
              "      <td>438463</td>\n",
              "      <td>6250</td>\n",
              "      <td>0</td>\n",
              "      <td>...</td>\n",
              "      <td>0</td>\n",
              "      <td>NaN</td>\n",
              "      <td>NaN</td>\n",
              "      <td>NaN</td>\n",
              "      <td>NaN</td>\n",
              "      <td>NaN</td>\n",
              "      <td>0</td>\n",
              "      <td>0.0</td>\n",
              "      <td>1.587401</td>\n",
              "      <td>NaN</td>\n",
              "    </tr>\n",
              "    <tr>\n",
              "      <th>173749</th>\n",
              "      <td>0</td>\n",
              "      <td>1</td>\n",
              "      <td>0</td>\n",
              "      <td>2</td>\n",
              "      <td>18300</td>\n",
              "      <td>484</td>\n",
              "      <td>4</td>\n",
              "      <td>236719</td>\n",
              "      <td>15000</td>\n",
              "      <td>0</td>\n",
              "      <td>...</td>\n",
              "      <td>0</td>\n",
              "      <td>NaN</td>\n",
              "      <td>NaN</td>\n",
              "      <td>NaN</td>\n",
              "      <td>NaN</td>\n",
              "      <td>NaN</td>\n",
              "      <td>0</td>\n",
              "      <td>0.0</td>\n",
              "      <td>1.259921</td>\n",
              "      <td>NaN</td>\n",
              "    </tr>\n",
              "    <tr>\n",
              "      <th>173758</th>\n",
              "      <td>0</td>\n",
              "      <td>1</td>\n",
              "      <td>0</td>\n",
              "      <td>20</td>\n",
              "      <td>21400</td>\n",
              "      <td>355</td>\n",
              "      <td>4</td>\n",
              "      <td>500851</td>\n",
              "      <td>25000</td>\n",
              "      <td>0</td>\n",
              "      <td>...</td>\n",
              "      <td>0</td>\n",
              "      <td>NaN</td>\n",
              "      <td>NaN</td>\n",
              "      <td>NaN</td>\n",
              "      <td>NaN</td>\n",
              "      <td>NaN</td>\n",
              "      <td>0</td>\n",
              "      <td>0.0</td>\n",
              "      <td>2.714418</td>\n",
              "      <td>NaN</td>\n",
              "    </tr>\n",
              "    <tr>\n",
              "      <th>173900</th>\n",
              "      <td>0</td>\n",
              "      <td>1</td>\n",
              "      <td>0</td>\n",
              "      <td>4</td>\n",
              "      <td>5800</td>\n",
              "      <td>0</td>\n",
              "      <td>4</td>\n",
              "      <td>438463</td>\n",
              "      <td>6250</td>\n",
              "      <td>0</td>\n",
              "      <td>...</td>\n",
              "      <td>0</td>\n",
              "      <td>NaN</td>\n",
              "      <td>NaN</td>\n",
              "      <td>NaN</td>\n",
              "      <td>NaN</td>\n",
              "      <td>NaN</td>\n",
              "      <td>0</td>\n",
              "      <td>0.0</td>\n",
              "      <td>1.587401</td>\n",
              "      <td>NaN</td>\n",
              "    </tr>\n",
              "  </tbody>\n",
              "</table>\n",
              "<p>1497 rows × 47 columns</p>\n",
              "</div>\n",
              "      <button class=\"colab-df-convert\" onclick=\"convertToInteractive('df-7187042e-18ad-4b65-9718-a5fd8eb14a3b')\"\n",
              "              title=\"Convert this dataframe to an interactive table.\"\n",
              "              style=\"display:none;\">\n",
              "        \n",
              "  <svg xmlns=\"http://www.w3.org/2000/svg\" height=\"24px\"viewBox=\"0 0 24 24\"\n",
              "       width=\"24px\">\n",
              "    <path d=\"M0 0h24v24H0V0z\" fill=\"none\"/>\n",
              "    <path d=\"M18.56 5.44l.94 2.06.94-2.06 2.06-.94-2.06-.94-.94-2.06-.94 2.06-2.06.94zm-11 1L8.5 8.5l.94-2.06 2.06-.94-2.06-.94L8.5 2.5l-.94 2.06-2.06.94zm10 10l.94 2.06.94-2.06 2.06-.94-2.06-.94-.94-2.06-.94 2.06-2.06.94z\"/><path d=\"M17.41 7.96l-1.37-1.37c-.4-.4-.92-.59-1.43-.59-.52 0-1.04.2-1.43.59L10.3 9.45l-7.72 7.72c-.78.78-.78 2.05 0 2.83L4 21.41c.39.39.9.59 1.41.59.51 0 1.02-.2 1.41-.59l7.78-7.78 2.81-2.81c.8-.78.8-2.07 0-2.86zM5.41 20L4 18.59l7.72-7.72 1.47 1.35L5.41 20z\"/>\n",
              "  </svg>\n",
              "      </button>\n",
              "      \n",
              "  <style>\n",
              "    .colab-df-container {\n",
              "      display:flex;\n",
              "      flex-wrap:wrap;\n",
              "      gap: 12px;\n",
              "    }\n",
              "\n",
              "    .colab-df-convert {\n",
              "      background-color: #E8F0FE;\n",
              "      border: none;\n",
              "      border-radius: 50%;\n",
              "      cursor: pointer;\n",
              "      display: none;\n",
              "      fill: #1967D2;\n",
              "      height: 32px;\n",
              "      padding: 0 0 0 0;\n",
              "      width: 32px;\n",
              "    }\n",
              "\n",
              "    .colab-df-convert:hover {\n",
              "      background-color: #E2EBFA;\n",
              "      box-shadow: 0px 1px 2px rgba(60, 64, 67, 0.3), 0px 1px 3px 1px rgba(60, 64, 67, 0.15);\n",
              "      fill: #174EA6;\n",
              "    }\n",
              "\n",
              "    [theme=dark] .colab-df-convert {\n",
              "      background-color: #3B4455;\n",
              "      fill: #D2E3FC;\n",
              "    }\n",
              "\n",
              "    [theme=dark] .colab-df-convert:hover {\n",
              "      background-color: #434B5C;\n",
              "      box-shadow: 0px 1px 3px 1px rgba(0, 0, 0, 0.15);\n",
              "      filter: drop-shadow(0px 1px 2px rgba(0, 0, 0, 0.3));\n",
              "      fill: #FFFFFF;\n",
              "    }\n",
              "  </style>\n",
              "\n",
              "      <script>\n",
              "        const buttonEl =\n",
              "          document.querySelector('#df-7187042e-18ad-4b65-9718-a5fd8eb14a3b button.colab-df-convert');\n",
              "        buttonEl.style.display =\n",
              "          google.colab.kernel.accessAllowed ? 'block' : 'none';\n",
              "\n",
              "        async function convertToInteractive(key) {\n",
              "          const element = document.querySelector('#df-7187042e-18ad-4b65-9718-a5fd8eb14a3b');\n",
              "          const dataTable =\n",
              "            await google.colab.kernel.invokeFunction('convertToInteractive',\n",
              "                                                     [key], {});\n",
              "          if (!dataTable) return;\n",
              "\n",
              "          const docLinkHtml = 'Like what you see? Visit the ' +\n",
              "            '<a target=\"_blank\" href=https://colab.research.google.com/notebooks/data_table.ipynb>data table notebook</a>'\n",
              "            + ' to learn more about interactive tables.';\n",
              "          element.innerHTML = '';\n",
              "          dataTable['output_type'] = 'display_data';\n",
              "          await google.colab.output.renderOutput(dataTable, element);\n",
              "          const docLink = document.createElement('div');\n",
              "          docLink.innerHTML = docLinkHtml;\n",
              "          element.appendChild(docLink);\n",
              "        }\n",
              "      </script>\n",
              "    </div>\n",
              "  </div>\n",
              "  "
            ],
            "text/plain": [
              "        productoEXC  productoGEN  CantidadGestiones  CantidadGestiones_Dis  \\\n",
              "220               0            1                  0                     30   \n",
              "788               0            1                  0                     12   \n",
              "980               0            1                  0                      2   \n",
              "1099              0            1                  0                      8   \n",
              "1354              0            1                  0                      4   \n",
              "...             ...          ...                ...                    ...   \n",
              "173564            0            1                  0                      3   \n",
              "173566            0            1                  0                      4   \n",
              "173749            0            1                  0                      2   \n",
              "173758            0            1                  0                     20   \n",
              "173900            0            1                  0                      4   \n",
              "\n",
              "        LINEA  SCORE_AZTECA  PROP_AZTECA  SCORE_Q_MIL  RNG_LINEA_PLD_num  \\\n",
              "220      8100           355            4       470255               8750   \n",
              "788     30000           401            4       488394              25000   \n",
              "980      7700           323            4       372370               8750   \n",
              "1099     6100           181            4       393092               6250   \n",
              "1354    15300           619            4       396977              15000   \n",
              "...       ...           ...          ...          ...                ...   \n",
              "173564   5400             0            4       483734               6250   \n",
              "173566   6500             0            4       438463               6250   \n",
              "173749  18300           484            4       236719              15000   \n",
              "173758  21400           355            4       500851              25000   \n",
              "173900   5800             0            4       438463               6250   \n",
              "\n",
              "        ZONA_num  ...  GEST_ANT_STOCK_new  Tasa_7  Tasa_12M  Tasa_18M  \\\n",
              "220            1  ...                   0     NaN       NaN       NaN   \n",
              "788            0  ...                   0    57.0       NaN       NaN   \n",
              "980            0  ...                   0     NaN       NaN       NaN   \n",
              "1099           1  ...                   0     NaN       NaN       NaN   \n",
              "1354           0  ...                   0     NaN       NaN       NaN   \n",
              "...          ...  ...                 ...     ...       ...       ...   \n",
              "173564         1  ...                   0     NaN       NaN       NaN   \n",
              "173566         0  ...                   0     NaN       NaN       NaN   \n",
              "173749         0  ...                   0     NaN       NaN       NaN   \n",
              "173758         0  ...                   0     NaN       NaN       NaN   \n",
              "173900         0  ...                   0     NaN       NaN       NaN   \n",
              "\n",
              "        Tasa_24M  Tasa_36M  target  CantidadGestiones_cub  \\\n",
              "220          NaN       NaN       0                    0.0   \n",
              "788          NaN       NaN       0                    0.0   \n",
              "980          NaN       NaN       0                    0.0   \n",
              "1099         NaN       NaN       0                    0.0   \n",
              "1354         NaN       NaN       0                    0.0   \n",
              "...          ...       ...     ...                    ...   \n",
              "173564       NaN       NaN       0                    0.0   \n",
              "173566       NaN       NaN       0                    0.0   \n",
              "173749       NaN       NaN       0                    0.0   \n",
              "173758       NaN       NaN       0                    0.0   \n",
              "173900       NaN       NaN       0                    0.0   \n",
              "\n",
              "        CantidadGestiones_Dis_cub  Tasa_Prom  \n",
              "220                      3.107233        NaN  \n",
              "788                      2.289428        NaN  \n",
              "980                      1.259921        NaN  \n",
              "1099                     2.000000        NaN  \n",
              "1354                     1.587401        NaN  \n",
              "...                           ...        ...  \n",
              "173564                   1.442250        NaN  \n",
              "173566                   1.587401        NaN  \n",
              "173749                   1.259921        NaN  \n",
              "173758                   2.714418        NaN  \n",
              "173900                   1.587401        NaN  \n",
              "\n",
              "[1497 rows x 47 columns]"
            ]
          },
          "execution_count": 152,
          "metadata": {},
          "output_type": "execute_result"
        }
      ],
      "source": [
        "temp = total_df[total_df['Tasa_36M'].isna() | total_df['Tasa_24M'].isna()  | total_df['Tasa_18M'].isna()  | total_df['Tasa_12M'].isna() ]\n",
        "#1497\n",
        "temp['target'].sum()\n",
        "temp"
      ]
    },
    {
      "cell_type": "code",
      "execution_count": 153,
      "metadata": {
        "id": "irNVVurVJX6q"
      },
      "outputs": [],
      "source": [
        "total_df = total_df.drop(temp.index)"
      ]
    },
    {
      "attachments": {},
      "cell_type": "markdown",
      "metadata": {
        "id": "DqX9BiJsGjfI"
      },
      "source": [
        "Deleting variables with 60%+ of missing data"
      ]
    },
    {
      "cell_type": "code",
      "execution_count": 154,
      "metadata": {
        "id": "k7EkRzAZGNHQ"
      },
      "outputs": [],
      "source": [
        "total_df.drop(['Tasa_7'], axis=1, inplace = True)"
      ]
    },
    {
      "cell_type": "code",
      "execution_count": 155,
      "metadata": {
        "id": "Y3dyBxiiG266"
      },
      "outputs": [],
      "source": [
        "total_df.drop(['RNG_SALDO_CONSUMO_num', 'RNG_INGRESO_num'], axis=1, inplace = True)"
      ]
    },
    {
      "attachments": {},
      "cell_type": "markdown",
      "metadata": {
        "id": "ImJlEJBCH1lR"
      },
      "source": [
        "## Filling empty values"
      ]
    },
    {
      "cell_type": "markdown",
      "metadata": {
        "id": "aWNJRiWKICj-"
      },
      "source": [
        "#### Saldo TC"
      ]
    },
    {
      "cell_type": "code",
      "execution_count": 156,
      "metadata": {
        "colab": {
          "base_uri": "https://localhost:8080/",
          "height": 0
        },
        "id": "2dyE9rD-HBxh",
        "outputId": "340d6d29-ec56-4213-c645-b836a982e135"
      },
      "outputs": [
        {
          "data": {
            "image/png": "[encoded data removed]",
            "text/plain": [
              "<Figure size 1080x360 with 2 Axes>"
            ]
          },
          "metadata": {
            "needs_background": "light"
          },
          "output_type": "display_data"
        }
      ],
      "source": [
        "plot_num('RNG_SALDO_TC_num')"
      ]
    },
    {
      "cell_type": "code",
      "execution_count": 157,
      "metadata": {
        "colab": {
          "base_uri": "https://localhost:8080/"
        },
        "id": "P8rF_M_LHMG_",
        "outputId": "c2f9e5fa-f086-414f-cbdf-baf61a3f146f"
      },
      "outputs": [
        {
          "data": {
            "text/plain": [
              "count    145910.000000\n",
              "mean       5931.677061\n",
              "std       13359.210568\n",
              "min           0.000000\n",
              "25%           0.000000\n",
              "50%         500.000000\n",
              "75%        4000.000000\n",
              "max      150000.000000\n",
              "Name: RNG_SALDO_TC_num, dtype: float64"
            ]
          },
          "execution_count": 157,
          "metadata": {},
          "output_type": "execute_result"
        }
      ],
      "source": [
        "total_df['RNG_SALDO_TC_num'].describe()"
      ]
    },
    {
      "cell_type": "code",
      "execution_count": 158,
      "metadata": {
        "colab": {
          "base_uri": "https://localhost:8080/"
        },
        "id": "8pVY6F_xHkOs",
        "outputId": "a107a725-44ba-4e0c-e4e8-3e860c25b5b9"
      },
      "outputs": [
        {
          "data": {
            "text/plain": [
              "0             0.0\n",
              "1          4000.0\n",
              "2             0.0\n",
              "3          2000.0\n",
              "4         30000.0\n",
              "           ...   \n",
              "179818     2000.0\n",
              "179819      500.0\n",
              "179820        0.0\n",
              "179821        0.0\n",
              "179822        0.0\n",
              "Name: RNG_SALDO_TC_num, Length: 178326, dtype: float64"
            ]
          },
          "execution_count": 158,
          "metadata": {},
          "output_type": "execute_result"
        }
      ],
      "source": [
        "total_df['RNG_SALDO_TC_num'].fillna(0)"
      ]
    },
    {
      "cell_type": "markdown",
      "metadata": {
        "id": "oimIOLW1IHxO"
      },
      "source": [
        "#### Num TC"
      ]
    },
    {
      "cell_type": "code",
      "execution_count": 159,
      "metadata": {
        "colab": {
          "base_uri": "https://localhost:8080/",
          "height": 0
        },
        "id": "VQqrK7nKFU_u",
        "outputId": "c6a341d9-dc30-426a-ed78-b810f1392290"
      },
      "outputs": [
        {
          "data": {
            "image/png": "[encoded data removed]",
            "text/plain": [
              "<Figure size 1080x360 with 2 Axes>"
            ]
          },
          "metadata": {
            "needs_background": "light"
          },
          "output_type": "display_data"
        }
      ],
      "source": [
        "plot_num('NUM_TC')"
      ]
    },
    {
      "cell_type": "code",
      "execution_count": 160,
      "metadata": {
        "colab": {
          "base_uri": "https://localhost:8080/"
        },
        "id": "so51W7TqIYNV",
        "outputId": "5a98ce88-2e31-4f4f-ba52-1229e47752bc"
      },
      "outputs": [
        {
          "data": {
            "text/plain": [
              "count    145948.000000\n",
              "mean          1.835715\n",
              "std           1.638221\n",
              "min           0.000000\n",
              "25%           1.000000\n",
              "50%           1.000000\n",
              "75%           3.000000\n",
              "max          10.000000\n",
              "Name: NUM_TC, dtype: float64"
            ]
          },
          "execution_count": 160,
          "metadata": {},
          "output_type": "execute_result"
        }
      ],
      "source": [
        "total_df['NUM_TC'].describe()"
      ]
    },
    {
      "cell_type": "code",
      "execution_count": 161,
      "metadata": {
        "id": "TbfO5AjvIalq"
      },
      "outputs": [],
      "source": [
        "total_df['NUM_TC']= total_df['NUM_TC'].fillna(0)"
      ]
    },
    {
      "attachments": {},
      "cell_type": "markdown",
      "metadata": {
        "id": "c2NAs_7E9UQj"
      },
      "source": [
        "## Deeper look into the target variable"
      ]
    },
    {
      "cell_type": "code",
      "execution_count": 162,
      "metadata": {
        "colab": {
          "base_uri": "https://localhost:8080/",
          "height": 386
        },
        "id": "bm_KgsIg9XFy",
        "outputId": "b81b3da3-4fb5-4875-aedf-47ab98a4a2e1"
      },
      "outputs": [
        {
          "data": {
            "text/plain": [
              "<seaborn.axisgrid.FacetGrid at 0x7f6cde2d9550>"
            ]
          },
          "execution_count": 162,
          "metadata": {},
          "output_type": "execute_result"
        },
        {
          "data": {
            "image/png": "[encoded data removed]",
            "text/plain": [
              "<Figure size 360x360 with 1 Axes>"
            ]
          },
          "metadata": {
            "needs_background": "light"
          },
          "output_type": "display_data"
        }
      ],
      "source": [
        "sns.factorplot('target',data=total_df,kind=\"count\")"
      ]
    },
    {
      "cell_type": "code",
      "execution_count": 163,
      "metadata": {
        "colab": {
          "base_uri": "https://localhost:8080/"
        },
        "id": "n7aXjV8j9MGT",
        "outputId": "5833091a-e68f-43f1-e345-e32c1973f10b"
      },
      "outputs": [
        {
          "data": {
            "text/plain": [
              "0    0.997179\n",
              "1    0.002821\n",
              "Name: target, dtype: float64"
            ]
          },
          "execution_count": 163,
          "metadata": {},
          "output_type": "execute_result"
        }
      ],
      "source": [
        "total_df.target.value_counts(normalize=True)"
      ]
    },
    {
      "cell_type": "code",
      "execution_count": 164,
      "metadata": {
        "colab": {
          "base_uri": "https://localhost:8080/"
        },
        "id": "p2yhOtSK8nZI",
        "outputId": "1638b34c-3bf7-4267-a3e2-1a45277668bd"
      },
      "outputs": [
        {
          "data": {
            "text/plain": [
              "0    177823\n",
              "1       503\n",
              "Name: target, dtype: int64"
            ]
          },
          "execution_count": 164,
          "metadata": {},
          "output_type": "execute_result"
        }
      ],
      "source": [
        "total_df.target.value_counts()"
      ]
    },
    {
      "cell_type": "code",
      "execution_count": 165,
      "metadata": {
        "colab": {
          "base_uri": "https://localhost:8080/"
        },
        "id": "fDfVkWJlSOpx",
        "outputId": "d796b134-334d-483d-d714-2381cf0d3150"
      },
      "outputs": [
        {
          "data": {
            "text/plain": [
              "0"
            ]
          },
          "execution_count": 165,
          "metadata": {},
          "output_type": "execute_result"
        }
      ],
      "source": [
        "total_df.target.isna().sum()"
      ]
    },
    {
      "attachments": {},
      "cell_type": "markdown",
      "metadata": {
        "id": "Cwi4e0uBAcT7"
      },
      "source": [
        "# Feature Selection"
      ]
    },
    {
      "cell_type": "markdown",
      "metadata": {
        "id": "bbXK58DQFquO"
      },
      "source": [
        "Por Random Forest"
      ]
    },
    {
      "cell_type": "code",
      "execution_count": 166,
      "metadata": {
        "id": "8PFrZpTVS6-g"
      },
      "outputs": [],
      "source": [
        "import matplotlib.pyplot as plt\n",
        "def plot_nas(df: pd.DataFrame):\n",
        "    if df.isnull().sum().sum() != 0:\n",
        "        na_df = (df.isnull().sum() / len(df)) * 100      \n",
        "        na_df = na_df.drop(na_df[na_df == 0].index).sort_values(ascending=False)\n",
        "        missing_data = pd.DataFrame({'Missing Ratio %' :na_df})\n",
        "        missing_data.plot(kind = \"barh\")\n",
        "        plt.show()\n",
        "    else:\n",
        "        print('No NAs found')\n"
      ]
    },
    {
      "cell_type": "code",
      "execution_count": 167,
      "metadata": {
        "colab": {
          "base_uri": "https://localhost:8080/",
          "height": 265
        },
        "id": "Bc0zfM38S-BC",
        "outputId": "fda46786-a534-4152-8998-bb451f0ad21e"
      },
      "outputs": [
        {
          "data": {
            "image/png": "[encoded data removed]",
            "text/plain": [
              "<Figure size 432x288 with 1 Axes>"
            ]
          },
          "metadata": {
            "needs_background": "light"
          },
          "output_type": "display_data"
        }
      ],
      "source": [
        "plot_nas(total_df)"
      ]
    },
    {
      "cell_type": "code",
      "execution_count": 168,
      "metadata": {
        "id": "Qp-Iayk9Jg24"
      },
      "outputs": [],
      "source": [
        "total_df['RNG_SALDO_TC_num'] = total_df['RNG_SALDO_TC_num'].fillna(0)"
      ]
    },
    {
      "cell_type": "code",
      "execution_count": 169,
      "metadata": {
        "id": "CfYeKJsvAho9"
      },
      "outputs": [],
      "source": [
        "forest = RandomForestClassifier(n_jobs=-1)\n",
        "forest.fit(total_df.drop(['target'],axis=1), total_df.target)\n",
        "importances = forest.feature_importances_"
      ]
    },
    {
      "cell_type": "code",
      "execution_count": 170,
      "metadata": {
        "colab": {
          "base_uri": "https://localhost:8080/",
          "height": 1000
        },
        "id": "X1nXFn1fFyAJ",
        "outputId": "17981322-aab2-4032-a242-aacdcee950fa"
      },
      "outputs": [
        {
          "data": {
            "text/html": [
              "\n",
              "  <div id=\"df-e9b2e8c9-9511-4d0c-b192-7fcd2843dd8d\">\n",
              "    <div class=\"colab-df-container\">\n",
              "      <div>\n",
              "<style scoped>\n",
              "    .dataframe tbody tr th:only-of-type {\n",
              "        vertical-align: middle;\n",
              "    }\n",
              "\n",
              "    .dataframe tbody tr th {\n",
              "        vertical-align: top;\n",
              "    }\n",
              "\n",
              "    .dataframe thead th {\n",
              "        text-align: right;\n",
              "    }\n",
              "</style>\n",
              "<table border=\"1\" class=\"dataframe\">\n",
              "  <thead>\n",
              "    <tr style=\"text-align: right;\">\n",
              "      <th></th>\n",
              "      <th>Driver</th>\n",
              "      <th>Importancia</th>\n",
              "    </tr>\n",
              "  </thead>\n",
              "  <tbody>\n",
              "    <tr>\n",
              "      <th>0</th>\n",
              "      <td>SCORE_Q_MIL</td>\n",
              "      <td>0.109783</td>\n",
              "    </tr>\n",
              "    <tr>\n",
              "      <th>1</th>\n",
              "      <td>EDAD_ID</td>\n",
              "      <td>0.102072</td>\n",
              "    </tr>\n",
              "    <tr>\n",
              "      <th>2</th>\n",
              "      <td>SCORE_AZTECA</td>\n",
              "      <td>0.093750</td>\n",
              "    </tr>\n",
              "    <tr>\n",
              "      <th>3</th>\n",
              "      <td>LINEA</td>\n",
              "      <td>0.079245</td>\n",
              "    </tr>\n",
              "    <tr>\n",
              "      <th>4</th>\n",
              "      <td>CantidadGestiones_Dis_cub</td>\n",
              "      <td>0.073852</td>\n",
              "    </tr>\n",
              "    <tr>\n",
              "      <th>5</th>\n",
              "      <td>CantidadGestiones_Dis</td>\n",
              "      <td>0.073422</td>\n",
              "    </tr>\n",
              "    <tr>\n",
              "      <th>6</th>\n",
              "      <td>NUM_TC</td>\n",
              "      <td>0.038357</td>\n",
              "    </tr>\n",
              "    <tr>\n",
              "      <th>7</th>\n",
              "      <td>Tasa_Prom</td>\n",
              "      <td>0.034632</td>\n",
              "    </tr>\n",
              "    <tr>\n",
              "      <th>8</th>\n",
              "      <td>RNG_SALDO_TC_num</td>\n",
              "      <td>0.030626</td>\n",
              "    </tr>\n",
              "    <tr>\n",
              "      <th>9</th>\n",
              "      <td>CantidadGestiones</td>\n",
              "      <td>0.028638</td>\n",
              "    </tr>\n",
              "    <tr>\n",
              "      <th>10</th>\n",
              "      <td>CantidadGestiones_cub</td>\n",
              "      <td>0.028510</td>\n",
              "    </tr>\n",
              "    <tr>\n",
              "      <th>11</th>\n",
              "      <td>ZONA_num</td>\n",
              "      <td>0.021543</td>\n",
              "    </tr>\n",
              "    <tr>\n",
              "      <th>12</th>\n",
              "      <td>Tasa_12M</td>\n",
              "      <td>0.019080</td>\n",
              "    </tr>\n",
              "    <tr>\n",
              "      <th>13</th>\n",
              "      <td>Tasa_18M</td>\n",
              "      <td>0.019032</td>\n",
              "    </tr>\n",
              "    <tr>\n",
              "      <th>14</th>\n",
              "      <td>Tasa_24M</td>\n",
              "      <td>0.018649</td>\n",
              "    </tr>\n",
              "    <tr>\n",
              "      <th>15</th>\n",
              "      <td>Tasa_36M</td>\n",
              "      <td>0.018080</td>\n",
              "    </tr>\n",
              "    <tr>\n",
              "      <th>16</th>\n",
              "      <td>REGIMEN_LABORAL_DEP</td>\n",
              "      <td>0.017336</td>\n",
              "    </tr>\n",
              "    <tr>\n",
              "      <th>17</th>\n",
              "      <td>RNG_LINEA_PLD_num</td>\n",
              "      <td>0.015006</td>\n",
              "    </tr>\n",
              "    <tr>\n",
              "      <th>18</th>\n",
              "      <td>RNG_LIN_CENCO_ENTRE_LIN_MAX_bancario</td>\n",
              "      <td>0.014045</td>\n",
              "    </tr>\n",
              "    <tr>\n",
              "      <th>19</th>\n",
              "      <td>RNG_APALANCAMIENTO_sinIng</td>\n",
              "      <td>0.013090</td>\n",
              "    </tr>\n",
              "    <tr>\n",
              "      <th>20</th>\n",
              "      <td>productoGEN</td>\n",
              "      <td>0.012886</td>\n",
              "    </tr>\n",
              "    <tr>\n",
              "      <th>21</th>\n",
              "      <td>RNG_SALDO_TC_ENTRE_INGRESO_sindeuda</td>\n",
              "      <td>0.012510</td>\n",
              "    </tr>\n",
              "    <tr>\n",
              "      <th>22</th>\n",
              "      <td>productoEXC</td>\n",
              "      <td>0.012279</td>\n",
              "    </tr>\n",
              "    <tr>\n",
              "      <th>23</th>\n",
              "      <td>RNG_APALANCAMIENTO_a6mas</td>\n",
              "      <td>0.011123</td>\n",
              "    </tr>\n",
              "    <tr>\n",
              "      <th>24</th>\n",
              "      <td>RNG_LIN_CENCO_ENTRE_LIN_MAX1_retail</td>\n",
              "      <td>0.011090</td>\n",
              "    </tr>\n",
              "    <tr>\n",
              "      <th>25</th>\n",
              "      <td>RNG_SALDO_TC_ENTRE_INGRESO_a50</td>\n",
              "      <td>0.009177</td>\n",
              "    </tr>\n",
              "    <tr>\n",
              "      <th>26</th>\n",
              "      <td>RNG_APALANCAMIENTO_a05</td>\n",
              "      <td>0.008177</td>\n",
              "    </tr>\n",
              "    <tr>\n",
              "      <th>27</th>\n",
              "      <td>PROP_AZTECA</td>\n",
              "      <td>0.007818</td>\n",
              "    </tr>\n",
              "    <tr>\n",
              "      <th>28</th>\n",
              "      <td>RNG_APALANCAMIENTO_a4</td>\n",
              "      <td>0.006217</td>\n",
              "    </tr>\n",
              "    <tr>\n",
              "      <th>29</th>\n",
              "      <td>GEST_ANT_STOCK_6</td>\n",
              "      <td>0.005861</td>\n",
              "    </tr>\n",
              "    <tr>\n",
              "      <th>30</th>\n",
              "      <td>GEST_ANT_STOCK_new</td>\n",
              "      <td>0.005861</td>\n",
              "    </tr>\n",
              "    <tr>\n",
              "      <th>31</th>\n",
              "      <td>GRUPO_RIESGO_G2</td>\n",
              "      <td>0.005722</td>\n",
              "    </tr>\n",
              "    <tr>\n",
              "      <th>32</th>\n",
              "      <td>Campaña_PE</td>\n",
              "      <td>0.005316</td>\n",
              "    </tr>\n",
              "    <tr>\n",
              "      <th>33</th>\n",
              "      <td>RNG_SALDO_TC_ENTRE_INGRESO_a20</td>\n",
              "      <td>0.005208</td>\n",
              "    </tr>\n",
              "    <tr>\n",
              "      <th>34</th>\n",
              "      <td>RNG_APALANCAMIENTO_a6</td>\n",
              "      <td>0.004927</td>\n",
              "    </tr>\n",
              "    <tr>\n",
              "      <th>35</th>\n",
              "      <td>GRUPO_RIESGO_G3</td>\n",
              "      <td>0.003995</td>\n",
              "    </tr>\n",
              "    <tr>\n",
              "      <th>36</th>\n",
              "      <td>GRUPO_RIESGO_G1</td>\n",
              "      <td>0.003884</td>\n",
              "    </tr>\n",
              "    <tr>\n",
              "      <th>37</th>\n",
              "      <td>RNG_SALDO_TC_ENTRE_INGRESO_a10</td>\n",
              "      <td>0.003824</td>\n",
              "    </tr>\n",
              "    <tr>\n",
              "      <th>38</th>\n",
              "      <td>RNG_APALANCAMIENTO_a1</td>\n",
              "      <td>0.003799</td>\n",
              "    </tr>\n",
              "    <tr>\n",
              "      <th>39</th>\n",
              "      <td>Campaña_dni</td>\n",
              "      <td>0.003744</td>\n",
              "    </tr>\n",
              "    <tr>\n",
              "      <th>40</th>\n",
              "      <td>GEST_ANT_STOCK_12</td>\n",
              "      <td>0.003099</td>\n",
              "    </tr>\n",
              "    <tr>\n",
              "      <th>41</th>\n",
              "      <td>RNG_APALANCAMIENTO_a2</td>\n",
              "      <td>0.002607</td>\n",
              "    </tr>\n",
              "    <tr>\n",
              "      <th>42</th>\n",
              "      <td>Campaña_FCP</td>\n",
              "      <td>0.002125</td>\n",
              "    </tr>\n",
              "  </tbody>\n",
              "</table>\n",
              "</div>\n",
              "      <button class=\"colab-df-convert\" onclick=\"convertToInteractive('df-e9b2e8c9-9511-4d0c-b192-7fcd2843dd8d')\"\n",
              "              title=\"Convert this dataframe to an interactive table.\"\n",
              "              style=\"display:none;\">\n",
              "        \n",
              "  <svg xmlns=\"http://www.w3.org/2000/svg\" height=\"24px\"viewBox=\"0 0 24 24\"\n",
              "       width=\"24px\">\n",
              "    <path d=\"M0 0h24v24H0V0z\" fill=\"none\"/>\n",
              "    <path d=\"M18.56 5.44l.94 2.06.94-2.06 2.06-.94-2.06-.94-.94-2.06-.94 2.06-2.06.94zm-11 1L8.5 8.5l.94-2.06 2.06-.94-2.06-.94L8.5 2.5l-.94 2.06-2.06.94zm10 10l.94 2.06.94-2.06 2.06-.94-2.06-.94-.94-2.06-.94 2.06-2.06.94z\"/><path d=\"M17.41 7.96l-1.37-1.37c-.4-.4-.92-.59-1.43-.59-.52 0-1.04.2-1.43.59L10.3 9.45l-7.72 7.72c-.78.78-.78 2.05 0 2.83L4 21.41c.39.39.9.59 1.41.59.51 0 1.02-.2 1.41-.59l7.78-7.78 2.81-2.81c.8-.78.8-2.07 0-2.86zM5.41 20L4 18.59l7.72-7.72 1.47 1.35L5.41 20z\"/>\n",
              "  </svg>\n",
              "      </button>\n",
              "      \n",
              "  <style>\n",
              "    .colab-df-container {\n",
              "      display:flex;\n",
              "      flex-wrap:wrap;\n",
              "      gap: 12px;\n",
              "    }\n",
              "\n",
              "    .colab-df-convert {\n",
              "      background-color: #E8F0FE;\n",
              "      border: none;\n",
              "      border-radius: 50%;\n",
              "      cursor: pointer;\n",
              "      display: none;\n",
              "      fill: #1967D2;\n",
              "      height: 32px;\n",
              "      padding: 0 0 0 0;\n",
              "      width: 32px;\n",
              "    }\n",
              "\n",
              "    .colab-df-convert:hover {\n",
              "      background-color: #E2EBFA;\n",
              "      box-shadow: 0px 1px 2px rgba(60, 64, 67, 0.3), 0px 1px 3px 1px rgba(60, 64, 67, 0.15);\n",
              "      fill: #174EA6;\n",
              "    }\n",
              "\n",
              "    [theme=dark] .colab-df-convert {\n",
              "      background-color: #3B4455;\n",
              "      fill: #D2E3FC;\n",
              "    }\n",
              "\n",
              "    [theme=dark] .colab-df-convert:hover {\n",
              "      background-color: #434B5C;\n",
              "      box-shadow: 0px 1px 3px 1px rgba(0, 0, 0, 0.15);\n",
              "      filter: drop-shadow(0px 1px 2px rgba(0, 0, 0, 0.3));\n",
              "      fill: #FFFFFF;\n",
              "    }\n",
              "  </style>\n",
              "\n",
              "      <script>\n",
              "        const buttonEl =\n",
              "          document.querySelector('#df-e9b2e8c9-9511-4d0c-b192-7fcd2843dd8d button.colab-df-convert');\n",
              "        buttonEl.style.display =\n",
              "          google.colab.kernel.accessAllowed ? 'block' : 'none';\n",
              "\n",
              "        async function convertToInteractive(key) {\n",
              "          const element = document.querySelector('#df-e9b2e8c9-9511-4d0c-b192-7fcd2843dd8d');\n",
              "          const dataTable =\n",
              "            await google.colab.kernel.invokeFunction('convertToInteractive',\n",
              "                                                     [key], {});\n",
              "          if (!dataTable) return;\n",
              "\n",
              "          const docLinkHtml = 'Like what you see? Visit the ' +\n",
              "            '<a target=\"_blank\" href=https://colab.research.google.com/notebooks/data_table.ipynb>data table notebook</a>'\n",
              "            + ' to learn more about interactive tables.';\n",
              "          element.innerHTML = '';\n",
              "          dataTable['output_type'] = 'display_data';\n",
              "          await google.colab.output.renderOutput(dataTable, element);\n",
              "          const docLink = document.createElement('div');\n",
              "          docLink.innerHTML = docLinkHtml;\n",
              "          element.appendChild(docLink);\n",
              "        }\n",
              "      </script>\n",
              "    </div>\n",
              "  </div>\n",
              "  "
            ],
            "text/plain": [
              "                                  Driver  Importancia\n",
              "0                            SCORE_Q_MIL     0.109783\n",
              "1                                EDAD_ID     0.102072\n",
              "2                           SCORE_AZTECA     0.093750\n",
              "3                                  LINEA     0.079245\n",
              "4              CantidadGestiones_Dis_cub     0.073852\n",
              "5                  CantidadGestiones_Dis     0.073422\n",
              "6                                 NUM_TC     0.038357\n",
              "7                              Tasa_Prom     0.034632\n",
              "8                       RNG_SALDO_TC_num     0.030626\n",
              "9                      CantidadGestiones     0.028638\n",
              "10                 CantidadGestiones_cub     0.028510\n",
              "11                              ZONA_num     0.021543\n",
              "12                              Tasa_12M     0.019080\n",
              "13                              Tasa_18M     0.019032\n",
              "14                              Tasa_24M     0.018649\n",
              "15                              Tasa_36M     0.018080\n",
              "16                   REGIMEN_LABORAL_DEP     0.017336\n",
              "17                     RNG_LINEA_PLD_num     0.015006\n",
              "18  RNG_LIN_CENCO_ENTRE_LIN_MAX_bancario     0.014045\n",
              "19             RNG_APALANCAMIENTO_sinIng     0.013090\n",
              "20                           productoGEN     0.012886\n",
              "21   RNG_SALDO_TC_ENTRE_INGRESO_sindeuda     0.012510\n",
              "22                           productoEXC     0.012279\n",
              "23              RNG_APALANCAMIENTO_a6mas     0.011123\n",
              "24   RNG_LIN_CENCO_ENTRE_LIN_MAX1_retail     0.011090\n",
              "25        RNG_SALDO_TC_ENTRE_INGRESO_a50     0.009177\n",
              "26                RNG_APALANCAMIENTO_a05     0.008177\n",
              "27                           PROP_AZTECA     0.007818\n",
              "28                 RNG_APALANCAMIENTO_a4     0.006217\n",
              "29                      GEST_ANT_STOCK_6     0.005861\n",
              "30                    GEST_ANT_STOCK_new     0.005861\n",
              "31                       GRUPO_RIESGO_G2     0.005722\n",
              "32                            Campaña_PE     0.005316\n",
              "33        RNG_SALDO_TC_ENTRE_INGRESO_a20     0.005208\n",
              "34                 RNG_APALANCAMIENTO_a6     0.004927\n",
              "35                       GRUPO_RIESGO_G3     0.003995\n",
              "36                       GRUPO_RIESGO_G1     0.003884\n",
              "37        RNG_SALDO_TC_ENTRE_INGRESO_a10     0.003824\n",
              "38                 RNG_APALANCAMIENTO_a1     0.003799\n",
              "39                           Campaña_dni     0.003744\n",
              "40                     GEST_ANT_STOCK_12     0.003099\n",
              "41                 RNG_APALANCAMIENTO_a2     0.002607\n",
              "42                           Campaña_FCP     0.002125"
            ]
          },
          "execution_count": 170,
          "metadata": {},
          "output_type": "execute_result"
        }
      ],
      "source": [
        "TablaImportancia = pd.concat([pd.DataFrame({'Driver':list(total_df.drop(['target'],axis=1).columns)}),\n",
        "                              pd.DataFrame({'Importancia':list(forest.feature_importances_)})], axis = 1)\n",
        "ImportanciaVariables = TablaImportancia[['Driver','Importancia']].sort_values('Importancia', ascending = False).reset_index(drop = True)\n",
        "ImportanciaVariables"
      ]
    },
    {
      "cell_type": "code",
      "execution_count": 171,
      "metadata": {
        "id": "M0f4NhedHslB"
      },
      "outputs": [],
      "source": [
        "ImportanciaVariables.to_csv('importancia.csv')"
      ]
    },
    {
      "attachments": {},
      "cell_type": "markdown",
      "metadata": {
        "id": "IZV9dcd5GAht"
      },
      "source": [
        "Logarithmic Regression"
      ]
    },
    {
      "cell_type": "code",
      "execution_count": 172,
      "metadata": {
        "colab": {
          "base_uri": "https://localhost:8080/"
        },
        "id": "zBVfccrgGCFf",
        "outputId": "13792e9a-b741-4cc2-e3d0-c1c691834017"
      },
      "outputs": [
        {
          "name": "stdout",
          "output_type": "stream",
          "text": [
            "Optimization terminated successfully.\n",
            "         Current function value: 0.017182\n",
            "         Iterations 23\n",
            "                                          Results: Logit\n",
            "===================================================================================================\n",
            "Model:                         Logit                       Pseudo R-squared:            0.113      \n",
            "Dependent Variable:            target                      AIC:                         6208.1312  \n",
            "Date:                          2023-03-05 21:46            BIC:                         6611.7860  \n",
            "No. Observations:              178326                      Log-Likelihood:              -3064.1    \n",
            "Df Model:                      39                          LL-Null:                     -3455.3    \n",
            "Df Residuals:                  178286                      LLR p-value:                 4.2735e-139\n",
            "Converged:                     1.0000                      Scale:                       1.0000     \n",
            "No. Iterations:                23.0000                                                             \n",
            "---------------------------------------------------------------------------------------------------\n",
            "                                      Coef.    Std.Err.      z    P>|z|      [0.025       0.975]   \n",
            "---------------------------------------------------------------------------------------------------\n",
            "productoEXC                          -2.1285          nan     nan    nan           nan          nan\n",
            "productoGEN                          -2.1639          nan     nan    nan           nan          nan\n",
            "CantidadGestiones                     0.1484       0.0345  4.2963 0.0000        0.0807       0.2160\n",
            "CantidadGestiones_Dis                -0.0047       0.0080 -0.5921 0.5538       -0.0203       0.0109\n",
            "LINEA                                -0.0000       0.0000 -0.0030 0.9976       -0.0000       0.0000\n",
            "SCORE_AZTECA                          0.0007       0.0003  2.0209 0.0433        0.0000       0.0013\n",
            "PROP_AZTECA                           0.2888       0.0626  4.6109 0.0000        0.1660       0.4115\n",
            "SCORE_Q_MIL                          -0.0000       0.0000 -1.4937 0.1352       -0.0000       0.0000\n",
            "RNG_LINEA_PLD_num                     0.0000       0.0000  2.0366 0.0417        0.0000       0.0001\n",
            "ZONA_num                             -0.1078       0.0945 -1.1417 0.2536       -0.2930       0.0773\n",
            "GRUPO_RIESGO_G1                      -2.0847  825433.9066 -0.0000 1.0000 -1617822.8132 1617818.6438\n",
            "GRUPO_RIESGO_G2                      -1.4102  825427.0530 -0.0000 1.0000 -1617808.7060 1617805.8856\n",
            "GRUPO_RIESGO_G3                      -0.7975  825375.1091 -0.0000 1.0000 -1617706.2851 1617704.6901\n",
            "REGIMEN_LABORAL_DEP                  -0.1426       0.1221 -1.1684 0.2426       -0.3818       0.0966\n",
            "RNG_SALDO_TC_ENTRE_INGRESO_sindeuda  -0.8840       0.1933 -4.5743 0.0000       -1.2628      -0.5053\n",
            "RNG_SALDO_TC_ENTRE_INGRESO_a10       -1.9688       0.2514 -7.8311 0.0000       -2.4616      -1.4761\n",
            "RNG_SALDO_TC_ENTRE_INGRESO_a20       -1.2263       0.2291 -5.3528 0.0000       -1.6754      -0.7773\n",
            "RNG_SALDO_TC_ENTRE_INGRESO_a50       -0.9800       0.1558 -6.2915 0.0000       -1.2853      -0.6747\n",
            "RNG_LIN_CENCO_ENTRE_LIN_MAX_bancario  0.0442       0.1950  0.2267 0.8207       -0.3380       0.4264\n",
            "RNG_LIN_CENCO_ENTRE_LIN_MAX1_retail  -0.0497       0.2195 -0.2263 0.8210       -0.4798       0.3805\n",
            "RNG_SALDO_TC_num                     -0.0000       0.0000 -3.0350 0.0024       -0.0000      -0.0000\n",
            "EDAD_ID                               0.0051       0.0039  1.3195 0.1870       -0.0025       0.0127\n",
            "NUM_TC                               -0.0685       0.0467 -1.4652 0.1429       -0.1601       0.0231\n",
            "RNG_APALANCAMIENTO_sinIng             0.2771       0.2753  1.0067 0.3141       -0.2624       0.8166\n",
            "RNG_APALANCAMIENTO_a05                0.4563       0.2903  1.5721 0.1159       -0.1126       1.0253\n",
            "RNG_APALANCAMIENTO_a6mas              0.5282       0.3040  1.7378 0.0822       -0.0675       1.1240\n",
            "RNG_APALANCAMIENTO_a4                 0.2675       0.3419  0.7825 0.4339       -0.4026       0.9377\n",
            "RNG_APALANCAMIENTO_a2                -0.6374       0.4644 -1.3724 0.1699       -1.5476       0.2729\n",
            "RNG_APALANCAMIENTO_a6                 0.4486       0.3571  1.2562 0.2090       -0.2513       1.1485\n",
            "RNG_APALANCAMIENTO_a1                 0.4557       0.3827  1.1910 0.2337       -0.2943       1.2057\n",
            "Campaña_dni                          -1.7870 1401607.8040 -0.0000 1.0000 -2747102.6032 2747099.0293\n",
            "Campaña_PE                           -0.3019 1401634.0461 -0.0000 1.0000 -2747152.5518 2747151.9481\n",
            "Campaña_FCP                          -2.2036 1401607.8040 -0.0000 1.0000 -2747103.0198 2747098.6127\n",
            "GEST_ANT_STOCK_6                     -1.9185          nan     nan    nan           nan          nan\n",
            "GEST_ANT_STOCK_12                    -1.5917          nan     nan    nan           nan          nan\n",
            "GEST_ANT_STOCK_new                   -0.7822          nan     nan    nan           nan          nan\n",
            "Tasa_12M                              0.0389          nan     nan    nan           nan          nan\n",
            "Tasa_18M                             -0.0023          nan     nan    nan           nan          nan\n",
            "Tasa_24M                             -0.0627          nan     nan    nan           nan          nan\n",
            "Tasa_36M                              0.0256          nan     nan    nan           nan          nan\n",
            "CantidadGestiones_cub                 0.8456       0.1183  7.1505 0.0000        0.6138       1.0774\n",
            "CantidadGestiones_Dis_cub            -0.2150       0.1512 -1.4215 0.1552       -0.5113       0.0814\n",
            "Tasa_Prom                             0.0012          nan     nan    nan           nan          nan\n",
            "===================================================================================================\n",
            "\n"
          ]
        }
      ],
      "source": [
        "import statsmodels.api as sm\n",
        "logit_model=sm.Logit(total_df['target'],total_df.drop(['target'],axis=1))\n",
        "result=logit_model.fit()\n",
        "print(result.summary2())"
      ]
    },
    {
      "cell_type": "code",
      "execution_count": 180,
      "metadata": {
        "id": "0zPrEfpypVAH"
      },
      "outputs": [],
      "source": [
        "#Extracting the most useful variables\n",
        "var_modelo = ['SCORE_AZTECA','LINEA','CantidadGestiones_Dis_cub',\n",
        "              'CantidadGestiones','RNG_SALDO_TC_num','ZONA_num', 'REGIMEN_LABORAL_DEP',\n",
        "              'RNG_SALDO_TC_ENTRE_INGRESO_sindeuda','RNG_APALANCAMIENTO_a6mas','RNG_SALDO_TC_ENTRE_INGRESO_a50',\n",
        "              'RNG_APALANCAMIENTO_a05', 'PROP_AZTECA','RNG_SALDO_TC_ENTRE_INGRESO_a10', 'RNG_SALDO_TC_ENTRE_INGRESO_a20']\n",
        "              #'SCORE_Q_MIL', 'EDAD_ID','NUM_TC','Tasa_Prom','Tasa_12M', 'Tasa_18M', 'Tasa_24M','Tasa_36M', ,'RNG_APALANCAMIENTO_a2'"
      ]
    },
    {
      "cell_type": "code",
      "execution_count": 181,
      "metadata": {
        "colab": {
          "base_uri": "https://localhost:8080/"
        },
        "id": "hoX95RXKpUEz",
        "outputId": "97bad915-759f-4be8-efe4-8799ef9af51d"
      },
      "outputs": [
        {
          "name": "stdout",
          "output_type": "stream",
          "text": [
            "Optimization terminated successfully.\n",
            "         Current function value: 0.023144\n",
            "         Iterations 11\n",
            "                                   Results: Logit\n",
            "====================================================================================\n",
            "Model:                      Logit                  Pseudo R-squared:       -0.194   \n",
            "Dependent Variable:         target                 AIC:                    8282.1795\n",
            "Date:                       2023-03-05 21:57       BIC:                    8423.4587\n",
            "No. Observations:           178326                 Log-Likelihood:         -4127.1  \n",
            "Df Model:                   13                     LL-Null:                -3455.3  \n",
            "Df Residuals:               178312                 LLR p-value:            1.0000   \n",
            "Converged:                  1.0000                 Scale:                  1.0000   \n",
            "No. Iterations:             11.0000                                                 \n",
            "------------------------------------------------------------------------------------\n",
            "                                     Coef.  Std.Err.    z     P>|z|   [0.025  0.975]\n",
            "------------------------------------------------------------------------------------\n",
            "SCORE_AZTECA                        -0.0005   0.0002  -2.3871 0.0170 -0.0010 -0.0001\n",
            "LINEA                               -0.0000   0.0000  -7.1185 0.0000 -0.0001 -0.0000\n",
            "CantidadGestiones_Dis_cub           -2.0017   0.0475 -42.1166 0.0000 -2.0948 -1.9085\n",
            "CantidadGestiones                    0.6767   0.0238  28.4071 0.0000  0.6300  0.7234\n",
            "RNG_SALDO_TC_num                     0.0000   0.0000   2.0966 0.0360  0.0000  0.0000\n",
            "ZONA_num                            -0.8365   0.0779 -10.7381 0.0000 -0.9891 -0.6838\n",
            "REGIMEN_LABORAL_DEP                 -0.7304   0.0889  -8.2191 0.0000 -0.9046 -0.5562\n",
            "RNG_SALDO_TC_ENTRE_INGRESO_sindeuda -1.4965   0.1073 -13.9447 0.0000 -1.7069 -1.2862\n",
            "RNG_APALANCAMIENTO_a6mas             0.8994   0.1383   6.5023 0.0000  0.6283  1.1705\n",
            "RNG_SALDO_TC_ENTRE_INGRESO_a50      -0.8350   0.1461  -5.7165 0.0000 -1.1213 -0.5487\n",
            "RNG_APALANCAMIENTO_a05               0.6801   0.1823   3.7297 0.0002  0.3227  1.0374\n",
            "PROP_AZTECA                         -0.3801   0.0310 -12.2434 0.0000 -0.4410 -0.3193\n",
            "RNG_SALDO_TC_ENTRE_INGRESO_a10      -1.7056   0.2302  -7.4090 0.0000 -2.1567 -1.2544\n",
            "RNG_SALDO_TC_ENTRE_INGRESO_a20      -1.0798   0.2171  -4.9749 0.0000 -1.5052 -0.6544\n",
            "====================================================================================\n",
            "\n"
          ]
        }
      ],
      "source": [
        "# Logistic Regression\n",
        "import statsmodels.api as sm\n",
        "logit_model=sm.Logit(total_df['target'],total_df[var_modelo])\n",
        "result=logit_model.fit()\n",
        "print(result.summary2())"
      ]
    },
    {
      "cell_type": "code",
      "execution_count": 182,
      "metadata": {
        "colab": {
          "base_uri": "https://localhost:8080/"
        },
        "id": "YGavGdpxLPEZ",
        "outputId": "6bc1fcf3-0f5e-4d29-9c63-6f4aafdae263"
      },
      "outputs": [
        {
          "data": {
            "text/plain": [
              "Index(['productoEXC', 'productoGEN', 'CantidadGestiones',\n",
              "       'CantidadGestiones_Dis', 'LINEA', 'SCORE_AZTECA', 'PROP_AZTECA',\n",
              "       'SCORE_Q_MIL', 'RNG_LINEA_PLD_num', 'ZONA_num', 'GRUPO_RIESGO_G1',\n",
              "       'GRUPO_RIESGO_G2', 'GRUPO_RIESGO_G3', 'REGIMEN_LABORAL_DEP',\n",
              "       'RNG_SALDO_TC_ENTRE_INGRESO_sindeuda', 'RNG_SALDO_TC_ENTRE_INGRESO_a10',\n",
              "       'RNG_SALDO_TC_ENTRE_INGRESO_a20', 'RNG_SALDO_TC_ENTRE_INGRESO_a50',\n",
              "       'RNG_LIN_CENCO_ENTRE_LIN_MAX_bancario',\n",
              "       'RNG_LIN_CENCO_ENTRE_LIN_MAX1_retail', 'RNG_SALDO_TC_num', 'EDAD_ID',\n",
              "       'NUM_TC', 'RNG_APALANCAMIENTO_sinIng', 'RNG_APALANCAMIENTO_a05',\n",
              "       'RNG_APALANCAMIENTO_a6mas', 'RNG_APALANCAMIENTO_a4',\n",
              "       'RNG_APALANCAMIENTO_a2', 'RNG_APALANCAMIENTO_a6',\n",
              "       'RNG_APALANCAMIENTO_a1', 'Campaña_dni', 'Campaña_PE', 'Campaña_FCP',\n",
              "       'GEST_ANT_STOCK_6', 'GEST_ANT_STOCK_12', 'GEST_ANT_STOCK_new',\n",
              "       'Tasa_12M', 'Tasa_18M', 'Tasa_24M', 'Tasa_36M', 'target',\n",
              "       'CantidadGestiones_cub', 'CantidadGestiones_Dis_cub', 'Tasa_Prom'],\n",
              "      dtype='object')"
            ]
          },
          "execution_count": 182,
          "metadata": {},
          "output_type": "execute_result"
        }
      ],
      "source": [
        "total_df.columns"
      ]
    },
    {
      "cell_type": "code",
      "execution_count": 183,
      "metadata": {
        "colab": {
          "base_uri": "https://localhost:8080/",
          "height": 929
        },
        "id": "Ruvl8FzmHDqR",
        "outputId": "1c764f2e-5027-414b-ae29-0a387480d2ab"
      },
      "outputs": [
        {
          "data": {
            "text/plain": [
              "<AxesSubplot:>"
            ]
          },
          "execution_count": 183,
          "metadata": {},
          "output_type": "execute_result"
        },
        {
          "data": {
            "image/png": "[encoded data removed]",
            "text/plain": [
              "<Figure size 2160x864 with 2 Axes>"
            ]
          },
          "metadata": {
            "needs_background": "light"
          },
          "output_type": "display_data"
        }
      ],
      "source": [
        "## Correlation Matrix\n",
        "cor_mat = total_df[var_modelo].corr()\n",
        "mask = np.array(cor_mat)\n",
        "mask[np.tril_indices_from(mask)] = False\n",
        "fig = plt.gcf()\n",
        "fig.set_size_inches(30,12)\n",
        "sns.heatmap(data=cor_mat,mask=mask,square=True,annot=True,cbar=True)"
      ]
    },
    {
      "cell_type": "code",
      "execution_count": 185,
      "metadata": {
        "colab": {
          "base_uri": "https://localhost:8080/"
        },
        "id": "004M21IJPy4Y",
        "outputId": "aca807f8-35bd-4e41-8ea0-ad3bc4713d8b"
      },
      "outputs": [
        {
          "data": {
            "text/plain": [
              "0    0.997179\n",
              "1    0.002821\n",
              "Name: target, dtype: float64"
            ]
          },
          "execution_count": 185,
          "metadata": {},
          "output_type": "execute_result"
        }
      ],
      "source": [
        "total_df['target'].value_counts(normalize = True)"
      ]
    },
    {
      "attachments": {},
      "cell_type": "markdown",
      "metadata": {
        "id": "Ik2YDn_Q88sZ"
      },
      "source": [
        "# Before Modeling: Spliting train, test and an unseen portion of the dataset"
      ]
    },
    {
      "attachments": {},
      "cell_type": "markdown",
      "metadata": {
        "id": "uL6zLfGb9y_T"
      },
      "source": [
        "*   df: dataframe for models\n",
        "*   df_unseen: 10% of dataset\n",
        "*   total_df: df + df_unseen\n",
        "\n",
        "We started with 180k records and we are using 178,326 or 99.16% for modeling\n"
      ]
    },
    {
      "cell_type": "code",
      "execution_count": 189,
      "metadata": {
        "colab": {
          "base_uri": "https://localhost:8080/"
        },
        "id": "FWI7sb6OywA7",
        "outputId": "b842ab30-d551-4e31-d143-76a5e48bd19a"
      },
      "outputs": [
        {
          "name": "stdout",
          "output_type": "stream",
          "text": [
            "Data for Modeling: (178326, 15)\n"
          ]
        }
      ],
      "source": [
        "total_df_MODELO = total_df[var_modelo + ['target']]\n",
        "print('Data for Modeling: ' + str(total_df_MODELO.shape))"
      ]
    },
    {
      "cell_type": "code",
      "execution_count": 190,
      "metadata": {
        "colab": {
          "base_uri": "https://localhost:8080/"
        },
        "id": "XSLoFbRn9IP-",
        "outputId": "5a870860-f7b1-422c-a356-3108075b92dd"
      },
      "outputs": [
        {
          "name": "stdout",
          "output_type": "stream",
          "text": [
            "Data for Modeling: (160493, 15)\n",
            "Unseen Data For Predictions: (17833, 15)\n"
          ]
        }
      ],
      "source": [
        "df = total_df_MODELO.sample(frac=0.9, random_state=1000)\n",
        "df_unseen = total_df_MODELO.drop(df.index)\n",
        "df.reset_index(inplace=True, drop=True)\n",
        "df_unseen.reset_index(inplace=True, drop=True)\n",
        "print('Data for Modeling: ' + str(df.shape))\n",
        "print('Unseen Data For Predictions: ' + str(df_unseen.shape))"
      ]
    },
    {
      "cell_type": "code",
      "execution_count": 191,
      "metadata": {
        "colab": {
          "base_uri": "https://localhost:8080/"
        },
        "id": "EjXa221o9IKa",
        "outputId": "b1f130b5-e1cd-4f20-9b4f-eaf160ebe471"
      },
      "outputs": [
        {
          "data": {
            "text/plain": [
              "0    160046\n",
              "1       447\n",
              "Name: target, dtype: int64"
            ]
          },
          "execution_count": 191,
          "metadata": {},
          "output_type": "execute_result"
        }
      ],
      "source": [
        "df.target.value_counts()"
      ]
    },
    {
      "attachments": {},
      "cell_type": "markdown",
      "metadata": {
        "id": "SrX2ijEm-cc0"
      },
      "source": [
        "# First try i'll be  modeling with the full dataset"
      ]
    },
    {
      "cell_type": "code",
      "execution_count": 194,
      "metadata": {
        "id": "YrXvOvvw-kZe"
      },
      "outputs": [],
      "source": [
        "from sklearn.model_selection import train_test_split\n",
        "from sklearn.metrics import classification_report, confusion_matrix, accuracy_score, precision_score, recall_score, f1_score\n",
        "from sklearn.tree import DecisionTreeClassifier\n",
        "from sklearn.ensemble import RandomForestClassifier\n",
        "import xgboost as xgb"
      ]
    },
    {
      "cell_type": "code",
      "execution_count": 195,
      "metadata": {
        "id": "VRwoRbWy-ojd"
      },
      "outputs": [],
      "source": [
        "\n",
        "X = df.drop('target', axis=1)\n",
        "y = df['target']"
      ]
    },
    {
      "cell_type": "code",
      "execution_count": 196,
      "metadata": {
        "id": "pQrwiuYY-r-u"
      },
      "outputs": [],
      "source": [
        "#Train and Test split\n",
        "X_train, X_test, y_train, y_test = train_test_split(X, y, test_size=0.3, random_state=22)"
      ]
    },
    {
      "cell_type": "code",
      "execution_count": 197,
      "metadata": {
        "colab": {
          "base_uri": "https://localhost:8080/"
        },
        "id": "TgunVaep-tHv",
        "outputId": "46617f3b-5389-4a6f-8ec7-02ca5524a183"
      },
      "outputs": [
        {
          "data": {
            "text/plain": [
              "((112345, 14), (112345,))"
            ]
          },
          "execution_count": 197,
          "metadata": {},
          "output_type": "execute_result"
        }
      ],
      "source": [
        "X_train.shape, y_train.shape"
      ]
    },
    {
      "cell_type": "code",
      "execution_count": 198,
      "metadata": {
        "colab": {
          "base_uri": "https://localhost:8080/"
        },
        "id": "7n6wWMfo-u5_",
        "outputId": "419c4f7c-62b0-4dc1-f3e8-1e80827ae3e7"
      },
      "outputs": [
        {
          "data": {
            "text/plain": [
              "((48148, 14), (48148,))"
            ]
          },
          "execution_count": 198,
          "metadata": {},
          "output_type": "execute_result"
        }
      ],
      "source": [
        "X_test.shape, y_test.shape"
      ]
    },
    {
      "attachments": {},
      "cell_type": "markdown",
      "metadata": {
        "id": "FSXGB-f-8Dpf"
      },
      "source": [
        "## Decision Tree"
      ]
    },
    {
      "cell_type": "code",
      "execution_count": 199,
      "metadata": {
        "id": "NvqIXicxf_fJ"
      },
      "outputs": [],
      "source": [
        "tree = DecisionTreeClassifier()\n",
        "tree_model = tree.fit(X_train, y_train)\n",
        "Y_pred = tree_model.predict(X_test)"
      ]
    },
    {
      "cell_type": "code",
      "execution_count": 200,
      "metadata": {
        "id": "olhRibmY8Dpk"
      },
      "outputs": [],
      "source": [
        "ind = pd.DataFrame(columns = ['Modelo', 'MuestraTam', 'Muestra', 'Tamaño', 'Accuracy', 'Precision', 'Recall', 'F1Score'])"
      ]
    },
    {
      "cell_type": "code",
      "execution_count": 201,
      "metadata": {
        "colab": {
          "base_uri": "https://localhost:8080/"
        },
        "id": "DwSoGd8k8Dpm",
        "outputId": "4e09328c-979d-4e23-e6ed-d38279cbbf09"
      },
      "outputs": [
        {
          "name": "stdout",
          "output_type": "stream",
          "text": [
            "Matriz confusion: Test\n",
            "[[47834   181]\n",
            " [  127     6]]\n"
          ]
        }
      ],
      "source": [
        "print(\"Matriz confusion: Test\")\n",
        "print(confusion_matrix(y_test,Y_pred))\n",
        "\n",
        "ind = ind.append({'Modelo' : 'DecisionTree', 'MuestraTam': 'Completa', 'Muestra' : 'Test', 'Tamaño': len(Y_pred), 'Accuracy' : accuracy_score(y_test,Y_pred), \n",
        "                  'Precision' : precision_score(y_test,Y_pred), 'Recall' : recall_score(y_test,Y_pred), 'F1Score' : f1_score(y_test,Y_pred)}, ignore_index = True)"
      ]
    },
    {
      "cell_type": "code",
      "execution_count": 202,
      "metadata": {
        "colab": {
          "base_uri": "https://localhost:8080/",
          "height": 0
        },
        "id": "UvhdyYzg8Dpn",
        "outputId": "3d198e48-4d92-4760-e56a-f8a7bdfa8c33"
      },
      "outputs": [
        {
          "name": "stdout",
          "output_type": "stream",
          "text": [
            "Matriz confusion: Unseen\n",
            "[[17702    75]\n",
            " [   56     0]]\n"
          ]
        },
        {
          "data": {
            "text/html": [
              "\n",
              "  <div id=\"df-321d20c2-cf47-42b4-bc62-64cbdede36e5\">\n",
              "    <div class=\"colab-df-container\">\n",
              "      <div>\n",
              "<style scoped>\n",
              "    .dataframe tbody tr th:only-of-type {\n",
              "        vertical-align: middle;\n",
              "    }\n",
              "\n",
              "    .dataframe tbody tr th {\n",
              "        vertical-align: top;\n",
              "    }\n",
              "\n",
              "    .dataframe thead th {\n",
              "        text-align: right;\n",
              "    }\n",
              "</style>\n",
              "<table border=\"1\" class=\"dataframe\">\n",
              "  <thead>\n",
              "    <tr style=\"text-align: right;\">\n",
              "      <th></th>\n",
              "      <th>Modelo</th>\n",
              "      <th>MuestraTam</th>\n",
              "      <th>Muestra</th>\n",
              "      <th>Tamaño</th>\n",
              "      <th>Accuracy</th>\n",
              "      <th>Precision</th>\n",
              "      <th>Recall</th>\n",
              "      <th>F1Score</th>\n",
              "    </tr>\n",
              "  </thead>\n",
              "  <tbody>\n",
              "    <tr>\n",
              "      <th>0</th>\n",
              "      <td>DecisionTree</td>\n",
              "      <td>Completa</td>\n",
              "      <td>Test</td>\n",
              "      <td>48148</td>\n",
              "      <td>0.993603</td>\n",
              "      <td>0.032086</td>\n",
              "      <td>0.045113</td>\n",
              "      <td>0.0375</td>\n",
              "    </tr>\n",
              "    <tr>\n",
              "      <th>1</th>\n",
              "      <td>DecisionTree</td>\n",
              "      <td>Completa</td>\n",
              "      <td>Reserva</td>\n",
              "      <td>17833</td>\n",
              "      <td>0.992654</td>\n",
              "      <td>0.000000</td>\n",
              "      <td>0.000000</td>\n",
              "      <td>0.0000</td>\n",
              "    </tr>\n",
              "  </tbody>\n",
              "</table>\n",
              "</div>\n",
              "      <button class=\"colab-df-convert\" onclick=\"convertToInteractive('df-321d20c2-cf47-42b4-bc62-64cbdede36e5')\"\n",
              "              title=\"Convert this dataframe to an interactive table.\"\n",
              "              style=\"display:none;\">\n",
              "        \n",
              "  <svg xmlns=\"http://www.w3.org/2000/svg\" height=\"24px\"viewBox=\"0 0 24 24\"\n",
              "       width=\"24px\">\n",
              "    <path d=\"M0 0h24v24H0V0z\" fill=\"none\"/>\n",
              "    <path d=\"M18.56 5.44l.94 2.06.94-2.06 2.06-.94-2.06-.94-.94-2.06-.94 2.06-2.06.94zm-11 1L8.5 8.5l.94-2.06 2.06-.94-2.06-.94L8.5 2.5l-.94 2.06-2.06.94zm10 10l.94 2.06.94-2.06 2.06-.94-2.06-.94-.94-2.06-.94 2.06-2.06.94z\"/><path d=\"M17.41 7.96l-1.37-1.37c-.4-.4-.92-.59-1.43-.59-.52 0-1.04.2-1.43.59L10.3 9.45l-7.72 7.72c-.78.78-.78 2.05 0 2.83L4 21.41c.39.39.9.59 1.41.59.51 0 1.02-.2 1.41-.59l7.78-7.78 2.81-2.81c.8-.78.8-2.07 0-2.86zM5.41 20L4 18.59l7.72-7.72 1.47 1.35L5.41 20z\"/>\n",
              "  </svg>\n",
              "      </button>\n",
              "      \n",
              "  <style>\n",
              "    .colab-df-container {\n",
              "      display:flex;\n",
              "      flex-wrap:wrap;\n",
              "      gap: 12px;\n",
              "    }\n",
              "\n",
              "    .colab-df-convert {\n",
              "      background-color: #E8F0FE;\n",
              "      border: none;\n",
              "      border-radius: 50%;\n",
              "      cursor: pointer;\n",
              "      display: none;\n",
              "      fill: #1967D2;\n",
              "      height: 32px;\n",
              "      padding: 0 0 0 0;\n",
              "      width: 32px;\n",
              "    }\n",
              "\n",
              "    .colab-df-convert:hover {\n",
              "      background-color: #E2EBFA;\n",
              "      box-shadow: 0px 1px 2px rgba(60, 64, 67, 0.3), 0px 1px 3px 1px rgba(60, 64, 67, 0.15);\n",
              "      fill: #174EA6;\n",
              "    }\n",
              "\n",
              "    [theme=dark] .colab-df-convert {\n",
              "      background-color: #3B4455;\n",
              "      fill: #D2E3FC;\n",
              "    }\n",
              "\n",
              "    [theme=dark] .colab-df-convert:hover {\n",
              "      background-color: #434B5C;\n",
              "      box-shadow: 0px 1px 3px 1px rgba(0, 0, 0, 0.15);\n",
              "      filter: drop-shadow(0px 1px 2px rgba(0, 0, 0, 0.3));\n",
              "      fill: #FFFFFF;\n",
              "    }\n",
              "  </style>\n",
              "\n",
              "      <script>\n",
              "        const buttonEl =\n",
              "          document.querySelector('#df-321d20c2-cf47-42b4-bc62-64cbdede36e5 button.colab-df-convert');\n",
              "        buttonEl.style.display =\n",
              "          google.colab.kernel.accessAllowed ? 'block' : 'none';\n",
              "\n",
              "        async function convertToInteractive(key) {\n",
              "          const element = document.querySelector('#df-321d20c2-cf47-42b4-bc62-64cbdede36e5');\n",
              "          const dataTable =\n",
              "            await google.colab.kernel.invokeFunction('convertToInteractive',\n",
              "                                                     [key], {});\n",
              "          if (!dataTable) return;\n",
              "\n",
              "          const docLinkHtml = 'Like what you see? Visit the ' +\n",
              "            '<a target=\"_blank\" href=https://colab.research.google.com/notebooks/data_table.ipynb>data table notebook</a>'\n",
              "            + ' to learn more about interactive tables.';\n",
              "          element.innerHTML = '';\n",
              "          dataTable['output_type'] = 'display_data';\n",
              "          await google.colab.output.renderOutput(dataTable, element);\n",
              "          const docLink = document.createElement('div');\n",
              "          docLink.innerHTML = docLinkHtml;\n",
              "          element.appendChild(docLink);\n",
              "        }\n",
              "      </script>\n",
              "    </div>\n",
              "  </div>\n",
              "  "
            ],
            "text/plain": [
              "         Modelo MuestraTam  Muestra Tamaño  Accuracy  Precision    Recall  \\\n",
              "0  DecisionTree   Completa     Test  48148  0.993603   0.032086  0.045113   \n",
              "1  DecisionTree   Completa  Reserva  17833  0.992654   0.000000  0.000000   \n",
              "\n",
              "   F1Score  \n",
              "0   0.0375  \n",
              "1   0.0000  "
            ]
          },
          "execution_count": 202,
          "metadata": {},
          "output_type": "execute_result"
        }
      ],
      "source": [
        "# Saving results to compare later\n",
        "y_real = df_unseen['target']\n",
        "Y_pred = tree_model.predict(df_unseen.drop(['target'], axis=1))\n",
        "U_pred = tree_model.predict_proba(df_unseen.drop(['target'], axis=1))[:,1]\n",
        "datos = np.hstack((df_unseen['target'].values.reshape(-1,1), U_pred.reshape(-1,1)))\n",
        "df_submmit = pd.DataFrame(datos, columns=['real','prob'])\n",
        "df_submmit.to_csv('com_tree.csv', index=False)\n",
        "\n",
        "print(\"Matriz confusion: Unseen\")\n",
        "print(confusion_matrix(y_real,Y_pred))\n",
        "\n",
        "ind = ind.append({'Modelo' : 'DecisionTree', 'MuestraTam': 'Completa', 'Muestra' : 'Reserva', 'Tamaño': len(Y_pred), 'Accuracy' : accuracy_score(y_real,Y_pred), \n",
        "                  'Precision' : precision_score(y_real,Y_pred), 'Recall' : recall_score(y_real,Y_pred), 'F1Score' : f1_score(y_real,Y_pred)}, ignore_index = True)\n",
        "ind.head()"
      ]
    },
    {
      "attachments": {},
      "cell_type": "markdown",
      "metadata": {
        "id": "VWxKC7pN8Dpq"
      },
      "source": [
        "## XGBoost"
      ]
    },
    {
      "cell_type": "code",
      "execution_count": 203,
      "metadata": {
        "id": "0DbUhybuf0XI"
      },
      "outputs": [],
      "source": [
        "xgb_mod=xgb.XGBClassifier()\n",
        "xgb_mod.fit(X_train, y_train)\n",
        "Y_pred= xgb_mod.predict(X_test)"
      ]
    },
    {
      "cell_type": "code",
      "execution_count": 204,
      "metadata": {
        "colab": {
          "base_uri": "https://localhost:8080/"
        },
        "id": "u3l2s7lK8Dpt",
        "outputId": "4b35f934-d93f-4b0a-c63a-b61c3ef10c65"
      },
      "outputs": [
        {
          "name": "stdout",
          "output_type": "stream",
          "text": [
            "Matriz confusion: Test\n",
            "[[48013     2]\n",
            " [  133     0]]\n"
          ]
        }
      ],
      "source": [
        "print(\"Matriz confusion: Test\")\n",
        "print(confusion_matrix(y_test,Y_pred))\n",
        "\n",
        "ind = ind.append({'Modelo' : 'XGBoost', 'MuestraTam': 'Completa', 'Muestra' : 'Test', 'Tamaño': len(Y_pred), 'Accuracy' : accuracy_score(y_test,Y_pred), \n",
        "                  'Precision' : precision_score(y_test,Y_pred), 'Recall' : recall_score(y_test,Y_pred), 'F1Score' : f1_score(y_test,Y_pred)}, ignore_index = True)"
      ]
    },
    {
      "cell_type": "code",
      "execution_count": 205,
      "metadata": {
        "colab": {
          "base_uri": "https://localhost:8080/",
          "height": 0
        },
        "id": "yFi9m1oU8Dpv",
        "outputId": "a62d7e66-5df4-4572-c5ad-63c4198e7abc"
      },
      "outputs": [
        {
          "name": "stdout",
          "output_type": "stream",
          "text": [
            "Matriz confusion: Unseen\n",
            "[[17777     0]\n",
            " [   56     0]]\n"
          ]
        },
        {
          "data": {
            "text/html": [
              "\n",
              "  <div id=\"df-3ec47485-9069-40d2-a726-587485694f02\">\n",
              "    <div class=\"colab-df-container\">\n",
              "      <div>\n",
              "<style scoped>\n",
              "    .dataframe tbody tr th:only-of-type {\n",
              "        vertical-align: middle;\n",
              "    }\n",
              "\n",
              "    .dataframe tbody tr th {\n",
              "        vertical-align: top;\n",
              "    }\n",
              "\n",
              "    .dataframe thead th {\n",
              "        text-align: right;\n",
              "    }\n",
              "</style>\n",
              "<table border=\"1\" class=\"dataframe\">\n",
              "  <thead>\n",
              "    <tr style=\"text-align: right;\">\n",
              "      <th></th>\n",
              "      <th>Modelo</th>\n",
              "      <th>MuestraTam</th>\n",
              "      <th>Muestra</th>\n",
              "      <th>Tamaño</th>\n",
              "      <th>Accuracy</th>\n",
              "      <th>Precision</th>\n",
              "      <th>Recall</th>\n",
              "      <th>F1Score</th>\n",
              "    </tr>\n",
              "  </thead>\n",
              "  <tbody>\n",
              "    <tr>\n",
              "      <th>0</th>\n",
              "      <td>DecisionTree</td>\n",
              "      <td>Completa</td>\n",
              "      <td>Test</td>\n",
              "      <td>48148</td>\n",
              "      <td>0.993603</td>\n",
              "      <td>0.032086</td>\n",
              "      <td>0.045113</td>\n",
              "      <td>0.0375</td>\n",
              "    </tr>\n",
              "    <tr>\n",
              "      <th>1</th>\n",
              "      <td>DecisionTree</td>\n",
              "      <td>Completa</td>\n",
              "      <td>Reserva</td>\n",
              "      <td>17833</td>\n",
              "      <td>0.992654</td>\n",
              "      <td>0.000000</td>\n",
              "      <td>0.000000</td>\n",
              "      <td>0.0000</td>\n",
              "    </tr>\n",
              "    <tr>\n",
              "      <th>2</th>\n",
              "      <td>XGBoost</td>\n",
              "      <td>Completa</td>\n",
              "      <td>Test</td>\n",
              "      <td>48148</td>\n",
              "      <td>0.997196</td>\n",
              "      <td>0.000000</td>\n",
              "      <td>0.000000</td>\n",
              "      <td>0.0000</td>\n",
              "    </tr>\n",
              "    <tr>\n",
              "      <th>3</th>\n",
              "      <td>XGBoost</td>\n",
              "      <td>Completa</td>\n",
              "      <td>Reserva</td>\n",
              "      <td>17833</td>\n",
              "      <td>0.996860</td>\n",
              "      <td>0.000000</td>\n",
              "      <td>0.000000</td>\n",
              "      <td>0.0000</td>\n",
              "    </tr>\n",
              "  </tbody>\n",
              "</table>\n",
              "</div>\n",
              "      <button class=\"colab-df-convert\" onclick=\"convertToInteractive('df-3ec47485-9069-40d2-a726-587485694f02')\"\n",
              "              title=\"Convert this dataframe to an interactive table.\"\n",
              "              style=\"display:none;\">\n",
              "        \n",
              "  <svg xmlns=\"http://www.w3.org/2000/svg\" height=\"24px\"viewBox=\"0 0 24 24\"\n",
              "       width=\"24px\">\n",
              "    <path d=\"M0 0h24v24H0V0z\" fill=\"none\"/>\n",
              "    <path d=\"M18.56 5.44l.94 2.06.94-2.06 2.06-.94-2.06-.94-.94-2.06-.94 2.06-2.06.94zm-11 1L8.5 8.5l.94-2.06 2.06-.94-2.06-.94L8.5 2.5l-.94 2.06-2.06.94zm10 10l.94 2.06.94-2.06 2.06-.94-2.06-.94-.94-2.06-.94 2.06-2.06.94z\"/><path d=\"M17.41 7.96l-1.37-1.37c-.4-.4-.92-.59-1.43-.59-.52 0-1.04.2-1.43.59L10.3 9.45l-7.72 7.72c-.78.78-.78 2.05 0 2.83L4 21.41c.39.39.9.59 1.41.59.51 0 1.02-.2 1.41-.59l7.78-7.78 2.81-2.81c.8-.78.8-2.07 0-2.86zM5.41 20L4 18.59l7.72-7.72 1.47 1.35L5.41 20z\"/>\n",
              "  </svg>\n",
              "      </button>\n",
              "      \n",
              "  <style>\n",
              "    .colab-df-container {\n",
              "      display:flex;\n",
              "      flex-wrap:wrap;\n",
              "      gap: 12px;\n",
              "    }\n",
              "\n",
              "    .colab-df-convert {\n",
              "      background-color: #E8F0FE;\n",
              "      border: none;\n",
              "      border-radius: 50%;\n",
              "      cursor: pointer;\n",
              "      display: none;\n",
              "      fill: #1967D2;\n",
              "      height: 32px;\n",
              "      padding: 0 0 0 0;\n",
              "      width: 32px;\n",
              "    }\n",
              "\n",
              "    .colab-df-convert:hover {\n",
              "      background-color: #E2EBFA;\n",
              "      box-shadow: 0px 1px 2px rgba(60, 64, 67, 0.3), 0px 1px 3px 1px rgba(60, 64, 67, 0.15);\n",
              "      fill: #174EA6;\n",
              "    }\n",
              "\n",
              "    [theme=dark] .colab-df-convert {\n",
              "      background-color: #3B4455;\n",
              "      fill: #D2E3FC;\n",
              "    }\n",
              "\n",
              "    [theme=dark] .colab-df-convert:hover {\n",
              "      background-color: #434B5C;\n",
              "      box-shadow: 0px 1px 3px 1px rgba(0, 0, 0, 0.15);\n",
              "      filter: drop-shadow(0px 1px 2px rgba(0, 0, 0, 0.3));\n",
              "      fill: #FFFFFF;\n",
              "    }\n",
              "  </style>\n",
              "\n",
              "      <script>\n",
              "        const buttonEl =\n",
              "          document.querySelector('#df-3ec47485-9069-40d2-a726-587485694f02 button.colab-df-convert');\n",
              "        buttonEl.style.display =\n",
              "          google.colab.kernel.accessAllowed ? 'block' : 'none';\n",
              "\n",
              "        async function convertToInteractive(key) {\n",
              "          const element = document.querySelector('#df-3ec47485-9069-40d2-a726-587485694f02');\n",
              "          const dataTable =\n",
              "            await google.colab.kernel.invokeFunction('convertToInteractive',\n",
              "                                                     [key], {});\n",
              "          if (!dataTable) return;\n",
              "\n",
              "          const docLinkHtml = 'Like what you see? Visit the ' +\n",
              "            '<a target=\"_blank\" href=https://colab.research.google.com/notebooks/data_table.ipynb>data table notebook</a>'\n",
              "            + ' to learn more about interactive tables.';\n",
              "          element.innerHTML = '';\n",
              "          dataTable['output_type'] = 'display_data';\n",
              "          await google.colab.output.renderOutput(dataTable, element);\n",
              "          const docLink = document.createElement('div');\n",
              "          docLink.innerHTML = docLinkHtml;\n",
              "          element.appendChild(docLink);\n",
              "        }\n",
              "      </script>\n",
              "    </div>\n",
              "  </div>\n",
              "  "
            ],
            "text/plain": [
              "         Modelo MuestraTam  Muestra Tamaño  Accuracy  Precision    Recall  \\\n",
              "0  DecisionTree   Completa     Test  48148  0.993603   0.032086  0.045113   \n",
              "1  DecisionTree   Completa  Reserva  17833  0.992654   0.000000  0.000000   \n",
              "2       XGBoost   Completa     Test  48148  0.997196   0.000000  0.000000   \n",
              "3       XGBoost   Completa  Reserva  17833  0.996860   0.000000  0.000000   \n",
              "\n",
              "   F1Score  \n",
              "0   0.0375  \n",
              "1   0.0000  \n",
              "2   0.0000  \n",
              "3   0.0000  "
            ]
          },
          "execution_count": 205,
          "metadata": {},
          "output_type": "execute_result"
        }
      ],
      "source": [
        "# Saving results to compare later\n",
        "y_real = df_unseen['target']\n",
        "Y_pred = xgb_mod.predict(df_unseen.drop(['target'], axis=1))\n",
        "U_pred = xgb_mod.predict_proba(df_unseen.drop(['target'], axis=1))[:,1]\n",
        "datos = np.hstack((df_unseen['target'].values.reshape(-1,1), U_pred.reshape(-1,1)))\n",
        "df_submmit = pd.DataFrame(datos, columns=['real','prob'])\n",
        "df_submmit.to_csv('com_xgb.csv', index=False)\n",
        "\n",
        "print(\"Matriz confusion: Unseen\")\n",
        "print(confusion_matrix(y_real,Y_pred))\n",
        "\n",
        "ind = ind.append({'Modelo' : 'XGBoost','MuestraTam': 'Completa', 'Muestra' : 'Reserva', 'Tamaño': len(Y_pred), 'Accuracy' : accuracy_score(y_real,Y_pred), \n",
        "                  'Precision' : precision_score(y_real,Y_pred), 'Recall' : recall_score(y_real,Y_pred), 'F1Score' : f1_score(y_real,Y_pred)}, ignore_index = True)\n",
        "ind.head()"
      ]
    },
    {
      "attachments": {},
      "cell_type": "markdown",
      "metadata": {
        "id": "DfX8C6-x8Dpx"
      },
      "source": [
        "## RandomForest"
      ]
    },
    {
      "cell_type": "code",
      "execution_count": 206,
      "metadata": {
        "id": "s5krDB-i8Dpy"
      },
      "outputs": [],
      "source": [
        "rf = RandomForestClassifier()\n",
        "rf.fit(X_train, y_train)\n",
        "Y_pred=rf.predict(X_test)"
      ]
    },
    {
      "cell_type": "code",
      "execution_count": 207,
      "metadata": {
        "colab": {
          "base_uri": "https://localhost:8080/"
        },
        "id": "97J5pAcg8Dpz",
        "outputId": "c7f26e55-b8e6-4f0c-eeee-8979dc2f43e7"
      },
      "outputs": [
        {
          "name": "stdout",
          "output_type": "stream",
          "text": [
            "Matriz confusion: Test\n",
            "[[48011     4]\n",
            " [  133     0]]\n"
          ]
        }
      ],
      "source": [
        "print(\"Matriz confusion: Test\")\n",
        "print(confusion_matrix(y_test,Y_pred))\n",
        "\n",
        "ind = ind.append({'Modelo' : 'RandomForest','MuestraTam': 'Completa', 'Muestra' : 'Test', 'Tamaño': len(Y_pred), 'Accuracy' : accuracy_score(y_test,Y_pred), \n",
        "                  'Precision' : precision_score(y_test,Y_pred), 'Recall' : recall_score(y_test,Y_pred), 'F1Score' : f1_score(y_test,Y_pred)}, ignore_index = True)"
      ]
    },
    {
      "cell_type": "code",
      "execution_count": 208,
      "metadata": {
        "colab": {
          "base_uri": "https://localhost:8080/",
          "height": 0
        },
        "id": "LH63R5MG8Dp2",
        "outputId": "8ca182b4-8b4f-4c91-aa04-f33fb0c300d8"
      },
      "outputs": [
        {
          "name": "stdout",
          "output_type": "stream",
          "text": [
            "Matriz confusion: Unseen\n",
            "[[17777     0]\n",
            " [   56     0]]\n"
          ]
        },
        {
          "data": {
            "text/html": [
              "\n",
              "  <div id=\"df-61a51fdc-4403-45e7-8b1d-f0ef53407037\">\n",
              "    <div class=\"colab-df-container\">\n",
              "      <div>\n",
              "<style scoped>\n",
              "    .dataframe tbody tr th:only-of-type {\n",
              "        vertical-align: middle;\n",
              "    }\n",
              "\n",
              "    .dataframe tbody tr th {\n",
              "        vertical-align: top;\n",
              "    }\n",
              "\n",
              "    .dataframe thead th {\n",
              "        text-align: right;\n",
              "    }\n",
              "</style>\n",
              "<table border=\"1\" class=\"dataframe\">\n",
              "  <thead>\n",
              "    <tr style=\"text-align: right;\">\n",
              "      <th></th>\n",
              "      <th>Modelo</th>\n",
              "      <th>MuestraTam</th>\n",
              "      <th>Muestra</th>\n",
              "      <th>Tamaño</th>\n",
              "      <th>Accuracy</th>\n",
              "      <th>Precision</th>\n",
              "      <th>Recall</th>\n",
              "      <th>F1Score</th>\n",
              "    </tr>\n",
              "  </thead>\n",
              "  <tbody>\n",
              "    <tr>\n",
              "      <th>0</th>\n",
              "      <td>DecisionTree</td>\n",
              "      <td>Completa</td>\n",
              "      <td>Test</td>\n",
              "      <td>48148</td>\n",
              "      <td>0.993603</td>\n",
              "      <td>0.032086</td>\n",
              "      <td>0.045113</td>\n",
              "      <td>0.0375</td>\n",
              "    </tr>\n",
              "    <tr>\n",
              "      <th>1</th>\n",
              "      <td>DecisionTree</td>\n",
              "      <td>Completa</td>\n",
              "      <td>Reserva</td>\n",
              "      <td>17833</td>\n",
              "      <td>0.992654</td>\n",
              "      <td>0.000000</td>\n",
              "      <td>0.000000</td>\n",
              "      <td>0.0000</td>\n",
              "    </tr>\n",
              "    <tr>\n",
              "      <th>2</th>\n",
              "      <td>XGBoost</td>\n",
              "      <td>Completa</td>\n",
              "      <td>Test</td>\n",
              "      <td>48148</td>\n",
              "      <td>0.997196</td>\n",
              "      <td>0.000000</td>\n",
              "      <td>0.000000</td>\n",
              "      <td>0.0000</td>\n",
              "    </tr>\n",
              "    <tr>\n",
              "      <th>3</th>\n",
              "      <td>XGBoost</td>\n",
              "      <td>Completa</td>\n",
              "      <td>Reserva</td>\n",
              "      <td>17833</td>\n",
              "      <td>0.996860</td>\n",
              "      <td>0.000000</td>\n",
              "      <td>0.000000</td>\n",
              "      <td>0.0000</td>\n",
              "    </tr>\n",
              "    <tr>\n",
              "      <th>4</th>\n",
              "      <td>RandomForest</td>\n",
              "      <td>Completa</td>\n",
              "      <td>Test</td>\n",
              "      <td>48148</td>\n",
              "      <td>0.997155</td>\n",
              "      <td>0.000000</td>\n",
              "      <td>0.000000</td>\n",
              "      <td>0.0000</td>\n",
              "    </tr>\n",
              "    <tr>\n",
              "      <th>5</th>\n",
              "      <td>RandomForest</td>\n",
              "      <td>Completa</td>\n",
              "      <td>Reserva</td>\n",
              "      <td>17833</td>\n",
              "      <td>0.996860</td>\n",
              "      <td>0.000000</td>\n",
              "      <td>0.000000</td>\n",
              "      <td>0.0000</td>\n",
              "    </tr>\n",
              "  </tbody>\n",
              "</table>\n",
              "</div>\n",
              "      <button class=\"colab-df-convert\" onclick=\"convertToInteractive('df-61a51fdc-4403-45e7-8b1d-f0ef53407037')\"\n",
              "              title=\"Convert this dataframe to an interactive table.\"\n",
              "              style=\"display:none;\">\n",
              "        \n",
              "  <svg xmlns=\"http://www.w3.org/2000/svg\" height=\"24px\"viewBox=\"0 0 24 24\"\n",
              "       width=\"24px\">\n",
              "    <path d=\"M0 0h24v24H0V0z\" fill=\"none\"/>\n",
              "    <path d=\"M18.56 5.44l.94 2.06.94-2.06 2.06-.94-2.06-.94-.94-2.06-.94 2.06-2.06.94zm-11 1L8.5 8.5l.94-2.06 2.06-.94-2.06-.94L8.5 2.5l-.94 2.06-2.06.94zm10 10l.94 2.06.94-2.06 2.06-.94-2.06-.94-.94-2.06-.94 2.06-2.06.94z\"/><path d=\"M17.41 7.96l-1.37-1.37c-.4-.4-.92-.59-1.43-.59-.52 0-1.04.2-1.43.59L10.3 9.45l-7.72 7.72c-.78.78-.78 2.05 0 2.83L4 21.41c.39.39.9.59 1.41.59.51 0 1.02-.2 1.41-.59l7.78-7.78 2.81-2.81c.8-.78.8-2.07 0-2.86zM5.41 20L4 18.59l7.72-7.72 1.47 1.35L5.41 20z\"/>\n",
              "  </svg>\n",
              "      </button>\n",
              "      \n",
              "  <style>\n",
              "    .colab-df-container {\n",
              "      display:flex;\n",
              "      flex-wrap:wrap;\n",
              "      gap: 12px;\n",
              "    }\n",
              "\n",
              "    .colab-df-convert {\n",
              "      background-color: #E8F0FE;\n",
              "      border: none;\n",
              "      border-radius: 50%;\n",
              "      cursor: pointer;\n",
              "      display: none;\n",
              "      fill: #1967D2;\n",
              "      height: 32px;\n",
              "      padding: 0 0 0 0;\n",
              "      width: 32px;\n",
              "    }\n",
              "\n",
              "    .colab-df-convert:hover {\n",
              "      background-color: #E2EBFA;\n",
              "      box-shadow: 0px 1px 2px rgba(60, 64, 67, 0.3), 0px 1px 3px 1px rgba(60, 64, 67, 0.15);\n",
              "      fill: #174EA6;\n",
              "    }\n",
              "\n",
              "    [theme=dark] .colab-df-convert {\n",
              "      background-color: #3B4455;\n",
              "      fill: #D2E3FC;\n",
              "    }\n",
              "\n",
              "    [theme=dark] .colab-df-convert:hover {\n",
              "      background-color: #434B5C;\n",
              "      box-shadow: 0px 1px 3px 1px rgba(0, 0, 0, 0.15);\n",
              "      filter: drop-shadow(0px 1px 2px rgba(0, 0, 0, 0.3));\n",
              "      fill: #FFFFFF;\n",
              "    }\n",
              "  </style>\n",
              "\n",
              "      <script>\n",
              "        const buttonEl =\n",
              "          document.querySelector('#df-61a51fdc-4403-45e7-8b1d-f0ef53407037 button.colab-df-convert');\n",
              "        buttonEl.style.display =\n",
              "          google.colab.kernel.accessAllowed ? 'block' : 'none';\n",
              "\n",
              "        async function convertToInteractive(key) {\n",
              "          const element = document.querySelector('#df-61a51fdc-4403-45e7-8b1d-f0ef53407037');\n",
              "          const dataTable =\n",
              "            await google.colab.kernel.invokeFunction('convertToInteractive',\n",
              "                                                     [key], {});\n",
              "          if (!dataTable) return;\n",
              "\n",
              "          const docLinkHtml = 'Like what you see? Visit the ' +\n",
              "            '<a target=\"_blank\" href=https://colab.research.google.com/notebooks/data_table.ipynb>data table notebook</a>'\n",
              "            + ' to learn more about interactive tables.';\n",
              "          element.innerHTML = '';\n",
              "          dataTable['output_type'] = 'display_data';\n",
              "          await google.colab.output.renderOutput(dataTable, element);\n",
              "          const docLink = document.createElement('div');\n",
              "          docLink.innerHTML = docLinkHtml;\n",
              "          element.appendChild(docLink);\n",
              "        }\n",
              "      </script>\n",
              "    </div>\n",
              "  </div>\n",
              "  "
            ],
            "text/plain": [
              "         Modelo MuestraTam  Muestra Tamaño  Accuracy  Precision    Recall  \\\n",
              "0  DecisionTree   Completa     Test  48148  0.993603   0.032086  0.045113   \n",
              "1  DecisionTree   Completa  Reserva  17833  0.992654   0.000000  0.000000   \n",
              "2       XGBoost   Completa     Test  48148  0.997196   0.000000  0.000000   \n",
              "3       XGBoost   Completa  Reserva  17833  0.996860   0.000000  0.000000   \n",
              "4  RandomForest   Completa     Test  48148  0.997155   0.000000  0.000000   \n",
              "5  RandomForest   Completa  Reserva  17833  0.996860   0.000000  0.000000   \n",
              "\n",
              "   F1Score  \n",
              "0   0.0375  \n",
              "1   0.0000  \n",
              "2   0.0000  \n",
              "3   0.0000  \n",
              "4   0.0000  \n",
              "5   0.0000  "
            ]
          },
          "execution_count": 208,
          "metadata": {},
          "output_type": "execute_result"
        }
      ],
      "source": [
        "# Saving results to compare later\n",
        "y_real = df_unseen['target']\n",
        "Y_pred = rf.predict(df_unseen.drop(['target'], axis=1))\n",
        "U_pred = rf.predict_proba(df_unseen.drop(['target'], axis=1))[:,1]\n",
        "datos = np.hstack(( df_unseen['target'].values.reshape(-1,1), U_pred.reshape(-1,1)))\n",
        "df_submmit = pd.DataFrame(datos, columns=['real','prob'])\n",
        "df_submmit.to_csv('com_rf.csv', index=False)\n",
        "\n",
        "print(\"Matriz confusion: Unseen\")\n",
        "print(confusion_matrix(y_real,Y_pred))\n",
        "\n",
        "ind = ind.append({'Modelo' : 'RandomForest','MuestraTam': 'Completa', 'Muestra' : 'Reserva', 'Tamaño': len(Y_pred), 'Accuracy' : accuracy_score(y_real,Y_pred), \n",
        "                  'Precision' : precision_score(y_real,Y_pred), 'Recall' : recall_score(y_real,Y_pred), 'F1Score' : f1_score(y_real,Y_pred)}, ignore_index = True)\n",
        "ind"
      ]
    },
    {
      "cell_type": "markdown",
      "metadata": {
        "id": "m1TEGe6UN9OJ"
      },
      "source": [
        "# Resampling"
      ]
    },
    {
      "cell_type": "code",
      "execution_count": 209,
      "metadata": {
        "id": "r_Uuj4jkNrrS"
      },
      "outputs": [],
      "source": [
        "# Class Count for target variable\n",
        "count_class_0, count_class_1 = df.target.value_counts()"
      ]
    },
    {
      "cell_type": "code",
      "execution_count": 210,
      "metadata": {
        "colab": {
          "base_uri": "https://localhost:8080/"
        },
        "id": "h0JdVaBWNwSj",
        "outputId": "0fd04b92-ca61-4158-fdd6-b7c24809a1f6"
      },
      "outputs": [
        {
          "name": "stdout",
          "output_type": "stream",
          "text": [
            "Cantidades por fila de clase:\n",
            "Class_0: 160046\n",
            "Class_1: 447\n"
          ]
        }
      ],
      "source": [
        "print('Cantidades por fila de clase:')\n",
        "print('Class_0:',count_class_0)\n",
        "print('Class_1:',count_class_1)"
      ]
    },
    {
      "cell_type": "code",
      "execution_count": 211,
      "metadata": {
        "id": "wm3pY2ecNxd_"
      },
      "outputs": [],
      "source": [
        "df_class_0 = df[df['target'] == 0]\n",
        "df_class_1 = df[df['target'] == 1]"
      ]
    },
    {
      "cell_type": "code",
      "execution_count": 212,
      "metadata": {
        "colab": {
          "base_uri": "https://localhost:8080/"
        },
        "id": "H5HsdOvMNyjU",
        "outputId": "b2f226de-5547-41f9-9594-c00b3d07c77c"
      },
      "outputs": [
        {
          "name": "stdout",
          "output_type": "stream",
          "text": [
            "Dimensión por tipo de clases:\n",
            "dim class_0: (160046, 15)\n",
            "dim class_1: (447, 15)\n"
          ]
        }
      ],
      "source": [
        "print('Dimensión por tipo de clases:')\n",
        "print('dim class_0:',df_class_0.shape)\n",
        "print('dim class_1:',df_class_1.shape)"
      ]
    },
    {
      "attachments": {},
      "cell_type": "markdown",
      "metadata": {
        "id": "-RXdzbwh-edO"
      },
      "source": [
        "## Models with Under-sampling \n"
      ]
    },
    {
      "cell_type": "code",
      "execution_count": 213,
      "metadata": {
        "id": "oKXxlgyZONFc"
      },
      "outputs": [],
      "source": [
        "df_class_0_under = df_class_0.sample(count_class_1*4)\n",
        "df_under = pd.concat([df_class_0_under, df_class_1], axis=0)"
      ]
    },
    {
      "cell_type": "code",
      "execution_count": 214,
      "metadata": {
        "colab": {
          "base_uri": "https://localhost:8080/"
        },
        "id": "pNE5pYkuOOUM",
        "outputId": "0d5fbd24-d605-4d7e-8e22-b8d861f22def"
      },
      "outputs": [
        {
          "name": "stdout",
          "output_type": "stream",
          "text": [
            "Dimensión por tipo de clases generadas:\n",
            "dim df_class_0_under: (1788, 15)\n",
            "dim df_under: (2235, 15)\n"
          ]
        }
      ],
      "source": [
        "print('Dimensión por tipo de clases generadas:')\n",
        "print('dim df_class_0_under:',df_class_0_under.shape)\n",
        "print('dim df_under:',df_under.shape)"
      ]
    },
    {
      "cell_type": "code",
      "execution_count": 215,
      "metadata": {
        "colab": {
          "base_uri": "https://localhost:8080/"
        },
        "id": "s6s3bsViOPSj",
        "outputId": "0a3aaa03-4327-463b-dfc8-23ef9a299929"
      },
      "outputs": [
        {
          "name": "stdout",
          "output_type": "stream",
          "text": [
            "Random under-sampling:\n",
            "0    1788\n",
            "1     447\n",
            "Name: target, dtype: int64\n"
          ]
        }
      ],
      "source": [
        "print('Random under-sampling:')\n",
        "print(df_under.target.value_counts())"
      ]
    },
    {
      "cell_type": "code",
      "execution_count": 216,
      "metadata": {
        "colab": {
          "base_uri": "https://localhost:8080/",
          "height": 295
        },
        "id": "4fPr5rk_OQd6",
        "outputId": "16c5529a-a1ab-4f6a-87b4-28fdf4bc9c3c"
      },
      "outputs": [
        {
          "data": {
            "text/plain": [
              "<AxesSubplot:title={'center':'Count (target)'}>"
            ]
          },
          "execution_count": 216,
          "metadata": {},
          "output_type": "execute_result"
        },
        {
          "data": {
            "image/png": "[encoded data removed]",
            "text/plain": [
              "<Figure size 432x288 with 1 Axes>"
            ]
          },
          "metadata": {
            "needs_background": "light"
          },
          "output_type": "display_data"
        }
      ],
      "source": [
        "df_under.target.value_counts().plot(kind='bar', title='Count (target)')"
      ]
    },
    {
      "cell_type": "code",
      "execution_count": 217,
      "metadata": {
        "id": "85R67zegORs6"
      },
      "outputs": [],
      "source": [
        "\n",
        "X = df_under.drop('target', axis=1)\n",
        "y = df_under['target']"
      ]
    },
    {
      "cell_type": "code",
      "execution_count": 218,
      "metadata": {
        "id": "1HJz9kSlOSwX"
      },
      "outputs": [],
      "source": [
        "#Train and test split\n",
        "X_train, X_test, y_train, y_test = train_test_split(X, y, test_size=0.3, random_state=22)"
      ]
    },
    {
      "attachments": {},
      "cell_type": "markdown",
      "metadata": {
        "id": "HylyAUzq8DqR"
      },
      "source": [
        "### Decision Tree"
      ]
    },
    {
      "cell_type": "code",
      "execution_count": 219,
      "metadata": {
        "id": "5QGANHBR8DqU"
      },
      "outputs": [],
      "source": [
        "tree = DecisionTreeClassifier()\n",
        "tree_model = tree.fit(X_train, y_train)\n",
        "Y_pred = tree_model.predict(X_test)"
      ]
    },
    {
      "cell_type": "code",
      "execution_count": 220,
      "metadata": {
        "colab": {
          "base_uri": "https://localhost:8080/"
        },
        "id": "qDyV0RMs8DqW",
        "outputId": "033859e7-bbaa-4554-df10-af2ddc70be9b"
      },
      "outputs": [
        {
          "name": "stdout",
          "output_type": "stream",
          "text": [
            "Matriz confusion: Test\n",
            "[[408 120]\n",
            " [ 77  66]]\n"
          ]
        }
      ],
      "source": [
        "print(\"Matriz confusion: Test\")\n",
        "print(confusion_matrix(y_test,Y_pred))\n",
        "\n",
        "ind = ind.append({'Modelo' : 'DecisionTree Under', 'MuestraTam': 'Under', 'Muestra' : 'Test', 'Tamaño': len(Y_pred), 'Accuracy' : accuracy_score(y_test,Y_pred), \n",
        "                  'Precision' : precision_score(y_test,Y_pred), 'Recall' : recall_score(y_test,Y_pred), 'F1Score' : f1_score(y_test,Y_pred)}, ignore_index = True)"
      ]
    },
    {
      "cell_type": "code",
      "execution_count": 221,
      "metadata": {
        "colab": {
          "base_uri": "https://localhost:8080/",
          "height": 352
        },
        "id": "tWpo9gOT8DqZ",
        "outputId": "e033720a-4e6d-4e8d-f15d-e61d6cfb7080"
      },
      "outputs": [
        {
          "name": "stdout",
          "output_type": "stream",
          "text": [
            "Matriz confusion: Unseen\n",
            "[[14418  3359]\n",
            " [   36    20]]\n"
          ]
        },
        {
          "data": {
            "text/html": [
              "\n",
              "  <div id=\"df-a440cf2d-04b0-45c7-9fc5-24381393b50a\">\n",
              "    <div class=\"colab-df-container\">\n",
              "      <div>\n",
              "<style scoped>\n",
              "    .dataframe tbody tr th:only-of-type {\n",
              "        vertical-align: middle;\n",
              "    }\n",
              "\n",
              "    .dataframe tbody tr th {\n",
              "        vertical-align: top;\n",
              "    }\n",
              "\n",
              "    .dataframe thead th {\n",
              "        text-align: right;\n",
              "    }\n",
              "</style>\n",
              "<table border=\"1\" class=\"dataframe\">\n",
              "  <thead>\n",
              "    <tr style=\"text-align: right;\">\n",
              "      <th></th>\n",
              "      <th>Modelo</th>\n",
              "      <th>MuestraTam</th>\n",
              "      <th>Muestra</th>\n",
              "      <th>Tamaño</th>\n",
              "      <th>Accuracy</th>\n",
              "      <th>Precision</th>\n",
              "      <th>Recall</th>\n",
              "      <th>F1Score</th>\n",
              "    </tr>\n",
              "  </thead>\n",
              "  <tbody>\n",
              "    <tr>\n",
              "      <th>0</th>\n",
              "      <td>DecisionTree</td>\n",
              "      <td>Completa</td>\n",
              "      <td>Test</td>\n",
              "      <td>48148</td>\n",
              "      <td>0.993603</td>\n",
              "      <td>0.032086</td>\n",
              "      <td>0.045113</td>\n",
              "      <td>0.037500</td>\n",
              "    </tr>\n",
              "    <tr>\n",
              "      <th>1</th>\n",
              "      <td>DecisionTree</td>\n",
              "      <td>Completa</td>\n",
              "      <td>Reserva</td>\n",
              "      <td>17833</td>\n",
              "      <td>0.992654</td>\n",
              "      <td>0.000000</td>\n",
              "      <td>0.000000</td>\n",
              "      <td>0.000000</td>\n",
              "    </tr>\n",
              "    <tr>\n",
              "      <th>2</th>\n",
              "      <td>XGBoost</td>\n",
              "      <td>Completa</td>\n",
              "      <td>Test</td>\n",
              "      <td>48148</td>\n",
              "      <td>0.997196</td>\n",
              "      <td>0.000000</td>\n",
              "      <td>0.000000</td>\n",
              "      <td>0.000000</td>\n",
              "    </tr>\n",
              "    <tr>\n",
              "      <th>3</th>\n",
              "      <td>XGBoost</td>\n",
              "      <td>Completa</td>\n",
              "      <td>Reserva</td>\n",
              "      <td>17833</td>\n",
              "      <td>0.996860</td>\n",
              "      <td>0.000000</td>\n",
              "      <td>0.000000</td>\n",
              "      <td>0.000000</td>\n",
              "    </tr>\n",
              "    <tr>\n",
              "      <th>4</th>\n",
              "      <td>RandomForest</td>\n",
              "      <td>Completa</td>\n",
              "      <td>Test</td>\n",
              "      <td>48148</td>\n",
              "      <td>0.997155</td>\n",
              "      <td>0.000000</td>\n",
              "      <td>0.000000</td>\n",
              "      <td>0.000000</td>\n",
              "    </tr>\n",
              "    <tr>\n",
              "      <th>5</th>\n",
              "      <td>RandomForest</td>\n",
              "      <td>Completa</td>\n",
              "      <td>Reserva</td>\n",
              "      <td>17833</td>\n",
              "      <td>0.996860</td>\n",
              "      <td>0.000000</td>\n",
              "      <td>0.000000</td>\n",
              "      <td>0.000000</td>\n",
              "    </tr>\n",
              "    <tr>\n",
              "      <th>6</th>\n",
              "      <td>DecisionTree Under</td>\n",
              "      <td>Under</td>\n",
              "      <td>Test</td>\n",
              "      <td>671</td>\n",
              "      <td>0.706408</td>\n",
              "      <td>0.354839</td>\n",
              "      <td>0.461538</td>\n",
              "      <td>0.401216</td>\n",
              "    </tr>\n",
              "    <tr>\n",
              "      <th>7</th>\n",
              "      <td>DecisionTree Under</td>\n",
              "      <td>Under</td>\n",
              "      <td>Reserva</td>\n",
              "      <td>17833</td>\n",
              "      <td>0.809623</td>\n",
              "      <td>0.005919</td>\n",
              "      <td>0.357143</td>\n",
              "      <td>0.011645</td>\n",
              "    </tr>\n",
              "  </tbody>\n",
              "</table>\n",
              "</div>\n",
              "      <button class=\"colab-df-convert\" onclick=\"convertToInteractive('df-a440cf2d-04b0-45c7-9fc5-24381393b50a')\"\n",
              "              title=\"Convert this dataframe to an interactive table.\"\n",
              "              style=\"display:none;\">\n",
              "        \n",
              "  <svg xmlns=\"http://www.w3.org/2000/svg\" height=\"24px\"viewBox=\"0 0 24 24\"\n",
              "       width=\"24px\">\n",
              "    <path d=\"M0 0h24v24H0V0z\" fill=\"none\"/>\n",
              "    <path d=\"M18.56 5.44l.94 2.06.94-2.06 2.06-.94-2.06-.94-.94-2.06-.94 2.06-2.06.94zm-11 1L8.5 8.5l.94-2.06 2.06-.94-2.06-.94L8.5 2.5l-.94 2.06-2.06.94zm10 10l.94 2.06.94-2.06 2.06-.94-2.06-.94-.94-2.06-.94 2.06-2.06.94z\"/><path d=\"M17.41 7.96l-1.37-1.37c-.4-.4-.92-.59-1.43-.59-.52 0-1.04.2-1.43.59L10.3 9.45l-7.72 7.72c-.78.78-.78 2.05 0 2.83L4 21.41c.39.39.9.59 1.41.59.51 0 1.02-.2 1.41-.59l7.78-7.78 2.81-2.81c.8-.78.8-2.07 0-2.86zM5.41 20L4 18.59l7.72-7.72 1.47 1.35L5.41 20z\"/>\n",
              "  </svg>\n",
              "      </button>\n",
              "      \n",
              "  <style>\n",
              "    .colab-df-container {\n",
              "      display:flex;\n",
              "      flex-wrap:wrap;\n",
              "      gap: 12px;\n",
              "    }\n",
              "\n",
              "    .colab-df-convert {\n",
              "      background-color: #E8F0FE;\n",
              "      border: none;\n",
              "      border-radius: 50%;\n",
              "      cursor: pointer;\n",
              "      display: none;\n",
              "      fill: #1967D2;\n",
              "      height: 32px;\n",
              "      padding: 0 0 0 0;\n",
              "      width: 32px;\n",
              "    }\n",
              "\n",
              "    .colab-df-convert:hover {\n",
              "      background-color: #E2EBFA;\n",
              "      box-shadow: 0px 1px 2px rgba(60, 64, 67, 0.3), 0px 1px 3px 1px rgba(60, 64, 67, 0.15);\n",
              "      fill: #174EA6;\n",
              "    }\n",
              "\n",
              "    [theme=dark] .colab-df-convert {\n",
              "      background-color: #3B4455;\n",
              "      fill: #D2E3FC;\n",
              "    }\n",
              "\n",
              "    [theme=dark] .colab-df-convert:hover {\n",
              "      background-color: #434B5C;\n",
              "      box-shadow: 0px 1px 3px 1px rgba(0, 0, 0, 0.15);\n",
              "      filter: drop-shadow(0px 1px 2px rgba(0, 0, 0, 0.3));\n",
              "      fill: #FFFFFF;\n",
              "    }\n",
              "  </style>\n",
              "\n",
              "      <script>\n",
              "        const buttonEl =\n",
              "          document.querySelector('#df-a440cf2d-04b0-45c7-9fc5-24381393b50a button.colab-df-convert');\n",
              "        buttonEl.style.display =\n",
              "          google.colab.kernel.accessAllowed ? 'block' : 'none';\n",
              "\n",
              "        async function convertToInteractive(key) {\n",
              "          const element = document.querySelector('#df-a440cf2d-04b0-45c7-9fc5-24381393b50a');\n",
              "          const dataTable =\n",
              "            await google.colab.kernel.invokeFunction('convertToInteractive',\n",
              "                                                     [key], {});\n",
              "          if (!dataTable) return;\n",
              "\n",
              "          const docLinkHtml = 'Like what you see? Visit the ' +\n",
              "            '<a target=\"_blank\" href=https://colab.research.google.com/notebooks/data_table.ipynb>data table notebook</a>'\n",
              "            + ' to learn more about interactive tables.';\n",
              "          element.innerHTML = '';\n",
              "          dataTable['output_type'] = 'display_data';\n",
              "          await google.colab.output.renderOutput(dataTable, element);\n",
              "          const docLink = document.createElement('div');\n",
              "          docLink.innerHTML = docLinkHtml;\n",
              "          element.appendChild(docLink);\n",
              "        }\n",
              "      </script>\n",
              "    </div>\n",
              "  </div>\n",
              "  "
            ],
            "text/plain": [
              "               Modelo MuestraTam  Muestra Tamaño  Accuracy  Precision  \\\n",
              "0        DecisionTree   Completa     Test  48148  0.993603   0.032086   \n",
              "1        DecisionTree   Completa  Reserva  17833  0.992654   0.000000   \n",
              "2             XGBoost   Completa     Test  48148  0.997196   0.000000   \n",
              "3             XGBoost   Completa  Reserva  17833  0.996860   0.000000   \n",
              "4        RandomForest   Completa     Test  48148  0.997155   0.000000   \n",
              "5        RandomForest   Completa  Reserva  17833  0.996860   0.000000   \n",
              "6  DecisionTree Under      Under     Test    671  0.706408   0.354839   \n",
              "7  DecisionTree Under      Under  Reserva  17833  0.809623   0.005919   \n",
              "\n",
              "     Recall   F1Score  \n",
              "0  0.045113  0.037500  \n",
              "1  0.000000  0.000000  \n",
              "2  0.000000  0.000000  \n",
              "3  0.000000  0.000000  \n",
              "4  0.000000  0.000000  \n",
              "5  0.000000  0.000000  \n",
              "6  0.461538  0.401216  \n",
              "7  0.357143  0.011645  "
            ]
          },
          "execution_count": 221,
          "metadata": {},
          "output_type": "execute_result"
        }
      ],
      "source": [
        "# Saving results to compare later\n",
        "y_real = df_unseen['target']\n",
        "Y_pred = tree_model.predict(df_unseen.drop(['target'], axis=1))\n",
        "U_pred = tree_model.predict_proba(df_unseen.drop(['target'], axis=1))[:,1]\n",
        "datos = np.hstack(( df_unseen['target'].values.reshape(-1,1), U_pred.reshape(-1,1)))\n",
        "df_submmit = pd.DataFrame(datos, columns=['real','prob'])\n",
        "df_submmit.to_csv('under_tree.csv', index=False)\n",
        "\n",
        "print(\"Matriz confusion: Unseen\")\n",
        "print(confusion_matrix(y_real,Y_pred))\n",
        "\n",
        "ind = ind.append({'Modelo' : 'DecisionTree Under', 'MuestraTam': 'Under', 'Muestra' : 'Reserva', 'Tamaño': len(Y_pred), 'Accuracy' : accuracy_score(y_real,Y_pred), \n",
        "                  'Precision' : precision_score(y_real,Y_pred), 'Recall' : recall_score(y_real,Y_pred), 'F1Score' : f1_score(y_real,Y_pred)}, ignore_index = True)\n",
        "ind"
      ]
    },
    {
      "attachments": {},
      "cell_type": "markdown",
      "metadata": {
        "id": "APp6WOrB8Dqc"
      },
      "source": [
        "### XGBoost"
      ]
    },
    {
      "cell_type": "code",
      "execution_count": 222,
      "metadata": {
        "id": "6W-uJvlq8Dqe"
      },
      "outputs": [],
      "source": [
        "xgb_mod=xgb.XGBClassifier()\n",
        "xgb_mod.fit(X_train, y_train)\n",
        "Y_pred= xgb_mod.predict(X_test)"
      ]
    },
    {
      "cell_type": "code",
      "execution_count": 223,
      "metadata": {
        "colab": {
          "base_uri": "https://localhost:8080/"
        },
        "id": "uxClXy088Dqf",
        "outputId": "5b656bb8-f6c7-4a97-8cd4-e47a53dccc01"
      },
      "outputs": [
        {
          "name": "stdout",
          "output_type": "stream",
          "text": [
            "Matriz confusion: Test\n",
            "[[483  45]\n",
            " [ 99  44]]\n"
          ]
        }
      ],
      "source": [
        "print(\"Matriz confusion: Test\")\n",
        "print(confusion_matrix(y_test,Y_pred))\n",
        "\n",
        "ind = ind.append({'Modelo' : 'XGBoost Under','MuestraTam': 'Under', 'Muestra' : 'Test', 'Tamaño': len(Y_pred), 'Accuracy' : accuracy_score(y_test,Y_pred), \n",
        "                  'Precision' : precision_score(y_test,Y_pred), 'Recall' : recall_score(y_test,Y_pred), 'F1Score' : f1_score(y_test,Y_pred)}, ignore_index = True)"
      ]
    },
    {
      "cell_type": "code",
      "execution_count": 224,
      "metadata": {
        "colab": {
          "base_uri": "https://localhost:8080/",
          "height": 415
        },
        "id": "1FNYvVrU8Dqg",
        "outputId": "63f28acb-d53d-4ad1-8e3e-450861e00f33"
      },
      "outputs": [
        {
          "name": "stdout",
          "output_type": "stream",
          "text": [
            "Matriz confusion: Unseen\n",
            "[[16276  1501]\n",
            " [   42    14]]\n"
          ]
        },
        {
          "data": {
            "text/html": [
              "\n",
              "  <div id=\"df-688962d2-9c64-4057-ac52-bf2d8729ba57\">\n",
              "    <div class=\"colab-df-container\">\n",
              "      <div>\n",
              "<style scoped>\n",
              "    .dataframe tbody tr th:only-of-type {\n",
              "        vertical-align: middle;\n",
              "    }\n",
              "\n",
              "    .dataframe tbody tr th {\n",
              "        vertical-align: top;\n",
              "    }\n",
              "\n",
              "    .dataframe thead th {\n",
              "        text-align: right;\n",
              "    }\n",
              "</style>\n",
              "<table border=\"1\" class=\"dataframe\">\n",
              "  <thead>\n",
              "    <tr style=\"text-align: right;\">\n",
              "      <th></th>\n",
              "      <th>Modelo</th>\n",
              "      <th>MuestraTam</th>\n",
              "      <th>Muestra</th>\n",
              "      <th>Tamaño</th>\n",
              "      <th>Accuracy</th>\n",
              "      <th>Precision</th>\n",
              "      <th>Recall</th>\n",
              "      <th>F1Score</th>\n",
              "    </tr>\n",
              "  </thead>\n",
              "  <tbody>\n",
              "    <tr>\n",
              "      <th>0</th>\n",
              "      <td>DecisionTree</td>\n",
              "      <td>Completa</td>\n",
              "      <td>Test</td>\n",
              "      <td>48148</td>\n",
              "      <td>0.993603</td>\n",
              "      <td>0.032086</td>\n",
              "      <td>0.045113</td>\n",
              "      <td>0.037500</td>\n",
              "    </tr>\n",
              "    <tr>\n",
              "      <th>1</th>\n",
              "      <td>DecisionTree</td>\n",
              "      <td>Completa</td>\n",
              "      <td>Reserva</td>\n",
              "      <td>17833</td>\n",
              "      <td>0.992654</td>\n",
              "      <td>0.000000</td>\n",
              "      <td>0.000000</td>\n",
              "      <td>0.000000</td>\n",
              "    </tr>\n",
              "    <tr>\n",
              "      <th>2</th>\n",
              "      <td>XGBoost</td>\n",
              "      <td>Completa</td>\n",
              "      <td>Test</td>\n",
              "      <td>48148</td>\n",
              "      <td>0.997196</td>\n",
              "      <td>0.000000</td>\n",
              "      <td>0.000000</td>\n",
              "      <td>0.000000</td>\n",
              "    </tr>\n",
              "    <tr>\n",
              "      <th>3</th>\n",
              "      <td>XGBoost</td>\n",
              "      <td>Completa</td>\n",
              "      <td>Reserva</td>\n",
              "      <td>17833</td>\n",
              "      <td>0.996860</td>\n",
              "      <td>0.000000</td>\n",
              "      <td>0.000000</td>\n",
              "      <td>0.000000</td>\n",
              "    </tr>\n",
              "    <tr>\n",
              "      <th>4</th>\n",
              "      <td>RandomForest</td>\n",
              "      <td>Completa</td>\n",
              "      <td>Test</td>\n",
              "      <td>48148</td>\n",
              "      <td>0.997155</td>\n",
              "      <td>0.000000</td>\n",
              "      <td>0.000000</td>\n",
              "      <td>0.000000</td>\n",
              "    </tr>\n",
              "    <tr>\n",
              "      <th>5</th>\n",
              "      <td>RandomForest</td>\n",
              "      <td>Completa</td>\n",
              "      <td>Reserva</td>\n",
              "      <td>17833</td>\n",
              "      <td>0.996860</td>\n",
              "      <td>0.000000</td>\n",
              "      <td>0.000000</td>\n",
              "      <td>0.000000</td>\n",
              "    </tr>\n",
              "    <tr>\n",
              "      <th>6</th>\n",
              "      <td>DecisionTree Under</td>\n",
              "      <td>Under</td>\n",
              "      <td>Test</td>\n",
              "      <td>671</td>\n",
              "      <td>0.706408</td>\n",
              "      <td>0.354839</td>\n",
              "      <td>0.461538</td>\n",
              "      <td>0.401216</td>\n",
              "    </tr>\n",
              "    <tr>\n",
              "      <th>7</th>\n",
              "      <td>DecisionTree Under</td>\n",
              "      <td>Under</td>\n",
              "      <td>Reserva</td>\n",
              "      <td>17833</td>\n",
              "      <td>0.809623</td>\n",
              "      <td>0.005919</td>\n",
              "      <td>0.357143</td>\n",
              "      <td>0.011645</td>\n",
              "    </tr>\n",
              "    <tr>\n",
              "      <th>8</th>\n",
              "      <td>XGBoost Under</td>\n",
              "      <td>Under</td>\n",
              "      <td>Test</td>\n",
              "      <td>671</td>\n",
              "      <td>0.785395</td>\n",
              "      <td>0.494382</td>\n",
              "      <td>0.307692</td>\n",
              "      <td>0.379310</td>\n",
              "    </tr>\n",
              "    <tr>\n",
              "      <th>9</th>\n",
              "      <td>XGBoost Under</td>\n",
              "      <td>Under</td>\n",
              "      <td>Reserva</td>\n",
              "      <td>17833</td>\n",
              "      <td>0.913475</td>\n",
              "      <td>0.009241</td>\n",
              "      <td>0.250000</td>\n",
              "      <td>0.017823</td>\n",
              "    </tr>\n",
              "  </tbody>\n",
              "</table>\n",
              "</div>\n",
              "      <button class=\"colab-df-convert\" onclick=\"convertToInteractive('df-688962d2-9c64-4057-ac52-bf2d8729ba57')\"\n",
              "              title=\"Convert this dataframe to an interactive table.\"\n",
              "              style=\"display:none;\">\n",
              "        \n",
              "  <svg xmlns=\"http://www.w3.org/2000/svg\" height=\"24px\"viewBox=\"0 0 24 24\"\n",
              "       width=\"24px\">\n",
              "    <path d=\"M0 0h24v24H0V0z\" fill=\"none\"/>\n",
              "    <path d=\"M18.56 5.44l.94 2.06.94-2.06 2.06-.94-2.06-.94-.94-2.06-.94 2.06-2.06.94zm-11 1L8.5 8.5l.94-2.06 2.06-.94-2.06-.94L8.5 2.5l-.94 2.06-2.06.94zm10 10l.94 2.06.94-2.06 2.06-.94-2.06-.94-.94-2.06-.94 2.06-2.06.94z\"/><path d=\"M17.41 7.96l-1.37-1.37c-.4-.4-.92-.59-1.43-.59-.52 0-1.04.2-1.43.59L10.3 9.45l-7.72 7.72c-.78.78-.78 2.05 0 2.83L4 21.41c.39.39.9.59 1.41.59.51 0 1.02-.2 1.41-.59l7.78-7.78 2.81-2.81c.8-.78.8-2.07 0-2.86zM5.41 20L4 18.59l7.72-7.72 1.47 1.35L5.41 20z\"/>\n",
              "  </svg>\n",
              "      </button>\n",
              "      \n",
              "  <style>\n",
              "    .colab-df-container {\n",
              "      display:flex;\n",
              "      flex-wrap:wrap;\n",
              "      gap: 12px;\n",
              "    }\n",
              "\n",
              "    .colab-df-convert {\n",
              "      background-color: #E8F0FE;\n",
              "      border: none;\n",
              "      border-radius: 50%;\n",
              "      cursor: pointer;\n",
              "      display: none;\n",
              "      fill: #1967D2;\n",
              "      height: 32px;\n",
              "      padding: 0 0 0 0;\n",
              "      width: 32px;\n",
              "    }\n",
              "\n",
              "    .colab-df-convert:hover {\n",
              "      background-color: #E2EBFA;\n",
              "      box-shadow: 0px 1px 2px rgba(60, 64, 67, 0.3), 0px 1px 3px 1px rgba(60, 64, 67, 0.15);\n",
              "      fill: #174EA6;\n",
              "    }\n",
              "\n",
              "    [theme=dark] .colab-df-convert {\n",
              "      background-color: #3B4455;\n",
              "      fill: #D2E3FC;\n",
              "    }\n",
              "\n",
              "    [theme=dark] .colab-df-convert:hover {\n",
              "      background-color: #434B5C;\n",
              "      box-shadow: 0px 1px 3px 1px rgba(0, 0, 0, 0.15);\n",
              "      filter: drop-shadow(0px 1px 2px rgba(0, 0, 0, 0.3));\n",
              "      fill: #FFFFFF;\n",
              "    }\n",
              "  </style>\n",
              "\n",
              "      <script>\n",
              "        const buttonEl =\n",
              "          document.querySelector('#df-688962d2-9c64-4057-ac52-bf2d8729ba57 button.colab-df-convert');\n",
              "        buttonEl.style.display =\n",
              "          google.colab.kernel.accessAllowed ? 'block' : 'none';\n",
              "\n",
              "        async function convertToInteractive(key) {\n",
              "          const element = document.querySelector('#df-688962d2-9c64-4057-ac52-bf2d8729ba57');\n",
              "          const dataTable =\n",
              "            await google.colab.kernel.invokeFunction('convertToInteractive',\n",
              "                                                     [key], {});\n",
              "          if (!dataTable) return;\n",
              "\n",
              "          const docLinkHtml = 'Like what you see? Visit the ' +\n",
              "            '<a target=\"_blank\" href=https://colab.research.google.com/notebooks/data_table.ipynb>data table notebook</a>'\n",
              "            + ' to learn more about interactive tables.';\n",
              "          element.innerHTML = '';\n",
              "          dataTable['output_type'] = 'display_data';\n",
              "          await google.colab.output.renderOutput(dataTable, element);\n",
              "          const docLink = document.createElement('div');\n",
              "          docLink.innerHTML = docLinkHtml;\n",
              "          element.appendChild(docLink);\n",
              "        }\n",
              "      </script>\n",
              "    </div>\n",
              "  </div>\n",
              "  "
            ],
            "text/plain": [
              "               Modelo MuestraTam  Muestra Tamaño  Accuracy  Precision  \\\n",
              "0        DecisionTree   Completa     Test  48148  0.993603   0.032086   \n",
              "1        DecisionTree   Completa  Reserva  17833  0.992654   0.000000   \n",
              "2             XGBoost   Completa     Test  48148  0.997196   0.000000   \n",
              "3             XGBoost   Completa  Reserva  17833  0.996860   0.000000   \n",
              "4        RandomForest   Completa     Test  48148  0.997155   0.000000   \n",
              "5        RandomForest   Completa  Reserva  17833  0.996860   0.000000   \n",
              "6  DecisionTree Under      Under     Test    671  0.706408   0.354839   \n",
              "7  DecisionTree Under      Under  Reserva  17833  0.809623   0.005919   \n",
              "8       XGBoost Under      Under     Test    671  0.785395   0.494382   \n",
              "9       XGBoost Under      Under  Reserva  17833  0.913475   0.009241   \n",
              "\n",
              "     Recall   F1Score  \n",
              "0  0.045113  0.037500  \n",
              "1  0.000000  0.000000  \n",
              "2  0.000000  0.000000  \n",
              "3  0.000000  0.000000  \n",
              "4  0.000000  0.000000  \n",
              "5  0.000000  0.000000  \n",
              "6  0.461538  0.401216  \n",
              "7  0.357143  0.011645  \n",
              "8  0.307692  0.379310  \n",
              "9  0.250000  0.017823  "
            ]
          },
          "execution_count": 224,
          "metadata": {},
          "output_type": "execute_result"
        }
      ],
      "source": [
        "# Saving results to compare later\n",
        "y_real = df_unseen['target']\n",
        "Y_pred = xgb_mod.predict(df_unseen.drop(['target'], axis=1))\n",
        "U_pred = xgb_mod.predict_proba(df_unseen.drop(['target'], axis=1))[:,1]\n",
        "datos = np.hstack(( df_unseen['target'].values.reshape(-1,1), U_pred.reshape(-1,1)))\n",
        "df_submmit = pd.DataFrame(datos, columns=['real','prob'])\n",
        "df_submmit.to_csv('under_xgb.csv', index=False)\n",
        "\n",
        "print(\"Matriz confusion: Unseen\")\n",
        "print(confusion_matrix(y_real,Y_pred))\n",
        "\n",
        "ind = ind.append({'Modelo' : 'XGBoost Under', 'MuestraTam': 'Under','Muestra' : 'Reserva', 'Tamaño': len(Y_pred), 'Accuracy' : accuracy_score(y_real,Y_pred), \n",
        "                  'Precision' : precision_score(y_real,Y_pred), 'Recall' : recall_score(y_real,Y_pred), 'F1Score' : f1_score(y_real,Y_pred)}, ignore_index = True)\n",
        "ind"
      ]
    },
    {
      "attachments": {},
      "cell_type": "markdown",
      "metadata": {
        "id": "yvN3YxP18Dqi"
      },
      "source": [
        "### RandomForest"
      ]
    },
    {
      "cell_type": "code",
      "execution_count": 225,
      "metadata": {
        "id": "lJPRAu-x8Dqj"
      },
      "outputs": [],
      "source": [
        "rf = RandomForestClassifier()\n",
        "rf.fit(X_train, y_train)\n",
        "Y_pred=rf.predict(X_test)"
      ]
    },
    {
      "cell_type": "code",
      "execution_count": 226,
      "metadata": {
        "colab": {
          "base_uri": "https://localhost:8080/"
        },
        "id": "vcH9ol268Dqk",
        "outputId": "89536d00-da95-4146-8f0f-0e5e3208ba7e"
      },
      "outputs": [
        {
          "name": "stdout",
          "output_type": "stream",
          "text": [
            "Matriz confusion: Test\n",
            "[[516  12]\n",
            " [108  35]]\n"
          ]
        }
      ],
      "source": [
        "print(\"Matriz confusion: Test\")\n",
        "print(confusion_matrix(y_test,Y_pred))\n",
        "\n",
        "ind = ind.append({'Modelo' : 'RandomForest Under','MuestraTam': 'Under', 'Muestra' : 'Test', 'Tamaño': len(Y_pred), 'Accuracy' : accuracy_score(y_test,Y_pred), \n",
        "                  'Precision' : precision_score(y_test,Y_pred), 'Recall' : recall_score(y_test,Y_pred), 'F1Score' : f1_score(y_test,Y_pred)}, ignore_index = True)"
      ]
    },
    {
      "cell_type": "code",
      "execution_count": 227,
      "metadata": {
        "colab": {
          "base_uri": "https://localhost:8080/",
          "height": 477
        },
        "id": "NgOgLAbv8Dql",
        "outputId": "985dd33f-d985-4f55-f8cd-0f31fe22b27d"
      },
      "outputs": [
        {
          "name": "stdout",
          "output_type": "stream",
          "text": [
            "Matriz confusion: Unseen\n",
            "[[17140   637]\n",
            " [   51     5]]\n"
          ]
        },
        {
          "data": {
            "text/html": [
              "\n",
              "  <div id=\"df-69221f1c-64d3-4231-ada9-3813d81b0454\">\n",
              "    <div class=\"colab-df-container\">\n",
              "      <div>\n",
              "<style scoped>\n",
              "    .dataframe tbody tr th:only-of-type {\n",
              "        vertical-align: middle;\n",
              "    }\n",
              "\n",
              "    .dataframe tbody tr th {\n",
              "        vertical-align: top;\n",
              "    }\n",
              "\n",
              "    .dataframe thead th {\n",
              "        text-align: right;\n",
              "    }\n",
              "</style>\n",
              "<table border=\"1\" class=\"dataframe\">\n",
              "  <thead>\n",
              "    <tr style=\"text-align: right;\">\n",
              "      <th></th>\n",
              "      <th>Modelo</th>\n",
              "      <th>MuestraTam</th>\n",
              "      <th>Muestra</th>\n",
              "      <th>Tamaño</th>\n",
              "      <th>Accuracy</th>\n",
              "      <th>Precision</th>\n",
              "      <th>Recall</th>\n",
              "      <th>F1Score</th>\n",
              "    </tr>\n",
              "  </thead>\n",
              "  <tbody>\n",
              "    <tr>\n",
              "      <th>0</th>\n",
              "      <td>DecisionTree</td>\n",
              "      <td>Completa</td>\n",
              "      <td>Test</td>\n",
              "      <td>48148</td>\n",
              "      <td>0.993603</td>\n",
              "      <td>0.032086</td>\n",
              "      <td>0.045113</td>\n",
              "      <td>0.037500</td>\n",
              "    </tr>\n",
              "    <tr>\n",
              "      <th>1</th>\n",
              "      <td>DecisionTree</td>\n",
              "      <td>Completa</td>\n",
              "      <td>Reserva</td>\n",
              "      <td>17833</td>\n",
              "      <td>0.992654</td>\n",
              "      <td>0.000000</td>\n",
              "      <td>0.000000</td>\n",
              "      <td>0.000000</td>\n",
              "    </tr>\n",
              "    <tr>\n",
              "      <th>2</th>\n",
              "      <td>XGBoost</td>\n",
              "      <td>Completa</td>\n",
              "      <td>Test</td>\n",
              "      <td>48148</td>\n",
              "      <td>0.997196</td>\n",
              "      <td>0.000000</td>\n",
              "      <td>0.000000</td>\n",
              "      <td>0.000000</td>\n",
              "    </tr>\n",
              "    <tr>\n",
              "      <th>3</th>\n",
              "      <td>XGBoost</td>\n",
              "      <td>Completa</td>\n",
              "      <td>Reserva</td>\n",
              "      <td>17833</td>\n",
              "      <td>0.996860</td>\n",
              "      <td>0.000000</td>\n",
              "      <td>0.000000</td>\n",
              "      <td>0.000000</td>\n",
              "    </tr>\n",
              "    <tr>\n",
              "      <th>4</th>\n",
              "      <td>RandomForest</td>\n",
              "      <td>Completa</td>\n",
              "      <td>Test</td>\n",
              "      <td>48148</td>\n",
              "      <td>0.997155</td>\n",
              "      <td>0.000000</td>\n",
              "      <td>0.000000</td>\n",
              "      <td>0.000000</td>\n",
              "    </tr>\n",
              "    <tr>\n",
              "      <th>5</th>\n",
              "      <td>RandomForest</td>\n",
              "      <td>Completa</td>\n",
              "      <td>Reserva</td>\n",
              "      <td>17833</td>\n",
              "      <td>0.996860</td>\n",
              "      <td>0.000000</td>\n",
              "      <td>0.000000</td>\n",
              "      <td>0.000000</td>\n",
              "    </tr>\n",
              "    <tr>\n",
              "      <th>6</th>\n",
              "      <td>DecisionTree Under</td>\n",
              "      <td>Under</td>\n",
              "      <td>Test</td>\n",
              "      <td>671</td>\n",
              "      <td>0.706408</td>\n",
              "      <td>0.354839</td>\n",
              "      <td>0.461538</td>\n",
              "      <td>0.401216</td>\n",
              "    </tr>\n",
              "    <tr>\n",
              "      <th>7</th>\n",
              "      <td>DecisionTree Under</td>\n",
              "      <td>Under</td>\n",
              "      <td>Reserva</td>\n",
              "      <td>17833</td>\n",
              "      <td>0.809623</td>\n",
              "      <td>0.005919</td>\n",
              "      <td>0.357143</td>\n",
              "      <td>0.011645</td>\n",
              "    </tr>\n",
              "    <tr>\n",
              "      <th>8</th>\n",
              "      <td>XGBoost Under</td>\n",
              "      <td>Under</td>\n",
              "      <td>Test</td>\n",
              "      <td>671</td>\n",
              "      <td>0.785395</td>\n",
              "      <td>0.494382</td>\n",
              "      <td>0.307692</td>\n",
              "      <td>0.379310</td>\n",
              "    </tr>\n",
              "    <tr>\n",
              "      <th>9</th>\n",
              "      <td>XGBoost Under</td>\n",
              "      <td>Under</td>\n",
              "      <td>Reserva</td>\n",
              "      <td>17833</td>\n",
              "      <td>0.913475</td>\n",
              "      <td>0.009241</td>\n",
              "      <td>0.250000</td>\n",
              "      <td>0.017823</td>\n",
              "    </tr>\n",
              "    <tr>\n",
              "      <th>10</th>\n",
              "      <td>RandomForest Under</td>\n",
              "      <td>Under</td>\n",
              "      <td>Test</td>\n",
              "      <td>671</td>\n",
              "      <td>0.821162</td>\n",
              "      <td>0.744681</td>\n",
              "      <td>0.244755</td>\n",
              "      <td>0.368421</td>\n",
              "    </tr>\n",
              "    <tr>\n",
              "      <th>11</th>\n",
              "      <td>RandomForest Under</td>\n",
              "      <td>Under</td>\n",
              "      <td>Reserva</td>\n",
              "      <td>17833</td>\n",
              "      <td>0.961420</td>\n",
              "      <td>0.007788</td>\n",
              "      <td>0.089286</td>\n",
              "      <td>0.014327</td>\n",
              "    </tr>\n",
              "  </tbody>\n",
              "</table>\n",
              "</div>\n",
              "      <button class=\"colab-df-convert\" onclick=\"convertToInteractive('df-69221f1c-64d3-4231-ada9-3813d81b0454')\"\n",
              "              title=\"Convert this dataframe to an interactive table.\"\n",
              "              style=\"display:none;\">\n",
              "        \n",
              "  <svg xmlns=\"http://www.w3.org/2000/svg\" height=\"24px\"viewBox=\"0 0 24 24\"\n",
              "       width=\"24px\">\n",
              "    <path d=\"M0 0h24v24H0V0z\" fill=\"none\"/>\n",
              "    <path d=\"M18.56 5.44l.94 2.06.94-2.06 2.06-.94-2.06-.94-.94-2.06-.94 2.06-2.06.94zm-11 1L8.5 8.5l.94-2.06 2.06-.94-2.06-.94L8.5 2.5l-.94 2.06-2.06.94zm10 10l.94 2.06.94-2.06 2.06-.94-2.06-.94-.94-2.06-.94 2.06-2.06.94z\"/><path d=\"M17.41 7.96l-1.37-1.37c-.4-.4-.92-.59-1.43-.59-.52 0-1.04.2-1.43.59L10.3 9.45l-7.72 7.72c-.78.78-.78 2.05 0 2.83L4 21.41c.39.39.9.59 1.41.59.51 0 1.02-.2 1.41-.59l7.78-7.78 2.81-2.81c.8-.78.8-2.07 0-2.86zM5.41 20L4 18.59l7.72-7.72 1.47 1.35L5.41 20z\"/>\n",
              "  </svg>\n",
              "      </button>\n",
              "      \n",
              "  <style>\n",
              "    .colab-df-container {\n",
              "      display:flex;\n",
              "      flex-wrap:wrap;\n",
              "      gap: 12px;\n",
              "    }\n",
              "\n",
              "    .colab-df-convert {\n",
              "      background-color: #E8F0FE;\n",
              "      border: none;\n",
              "      border-radius: 50%;\n",
              "      cursor: pointer;\n",
              "      display: none;\n",
              "      fill: #1967D2;\n",
              "      height: 32px;\n",
              "      padding: 0 0 0 0;\n",
              "      width: 32px;\n",
              "    }\n",
              "\n",
              "    .colab-df-convert:hover {\n",
              "      background-color: #E2EBFA;\n",
              "      box-shadow: 0px 1px 2px rgba(60, 64, 67, 0.3), 0px 1px 3px 1px rgba(60, 64, 67, 0.15);\n",
              "      fill: #174EA6;\n",
              "    }\n",
              "\n",
              "    [theme=dark] .colab-df-convert {\n",
              "      background-color: #3B4455;\n",
              "      fill: #D2E3FC;\n",
              "    }\n",
              "\n",
              "    [theme=dark] .colab-df-convert:hover {\n",
              "      background-color: #434B5C;\n",
              "      box-shadow: 0px 1px 3px 1px rgba(0, 0, 0, 0.15);\n",
              "      filter: drop-shadow(0px 1px 2px rgba(0, 0, 0, 0.3));\n",
              "      fill: #FFFFFF;\n",
              "    }\n",
              "  </style>\n",
              "\n",
              "      <script>\n",
              "        const buttonEl =\n",
              "          document.querySelector('#df-69221f1c-64d3-4231-ada9-3813d81b0454 button.colab-df-convert');\n",
              "        buttonEl.style.display =\n",
              "          google.colab.kernel.accessAllowed ? 'block' : 'none';\n",
              "\n",
              "        async function convertToInteractive(key) {\n",
              "          const element = document.querySelector('#df-69221f1c-64d3-4231-ada9-3813d81b0454');\n",
              "          const dataTable =\n",
              "            await google.colab.kernel.invokeFunction('convertToInteractive',\n",
              "                                                     [key], {});\n",
              "          if (!dataTable) return;\n",
              "\n",
              "          const docLinkHtml = 'Like what you see? Visit the ' +\n",
              "            '<a target=\"_blank\" href=https://colab.research.google.com/notebooks/data_table.ipynb>data table notebook</a>'\n",
              "            + ' to learn more about interactive tables.';\n",
              "          element.innerHTML = '';\n",
              "          dataTable['output_type'] = 'display_data';\n",
              "          await google.colab.output.renderOutput(dataTable, element);\n",
              "          const docLink = document.createElement('div');\n",
              "          docLink.innerHTML = docLinkHtml;\n",
              "          element.appendChild(docLink);\n",
              "        }\n",
              "      </script>\n",
              "    </div>\n",
              "  </div>\n",
              "  "
            ],
            "text/plain": [
              "                Modelo MuestraTam  Muestra Tamaño  Accuracy  Precision  \\\n",
              "0         DecisionTree   Completa     Test  48148  0.993603   0.032086   \n",
              "1         DecisionTree   Completa  Reserva  17833  0.992654   0.000000   \n",
              "2              XGBoost   Completa     Test  48148  0.997196   0.000000   \n",
              "3              XGBoost   Completa  Reserva  17833  0.996860   0.000000   \n",
              "4         RandomForest   Completa     Test  48148  0.997155   0.000000   \n",
              "5         RandomForest   Completa  Reserva  17833  0.996860   0.000000   \n",
              "6   DecisionTree Under      Under     Test    671  0.706408   0.354839   \n",
              "7   DecisionTree Under      Under  Reserva  17833  0.809623   0.005919   \n",
              "8        XGBoost Under      Under     Test    671  0.785395   0.494382   \n",
              "9        XGBoost Under      Under  Reserva  17833  0.913475   0.009241   \n",
              "10  RandomForest Under      Under     Test    671  0.821162   0.744681   \n",
              "11  RandomForest Under      Under  Reserva  17833  0.961420   0.007788   \n",
              "\n",
              "      Recall   F1Score  \n",
              "0   0.045113  0.037500  \n",
              "1   0.000000  0.000000  \n",
              "2   0.000000  0.000000  \n",
              "3   0.000000  0.000000  \n",
              "4   0.000000  0.000000  \n",
              "5   0.000000  0.000000  \n",
              "6   0.461538  0.401216  \n",
              "7   0.357143  0.011645  \n",
              "8   0.307692  0.379310  \n",
              "9   0.250000  0.017823  \n",
              "10  0.244755  0.368421  \n",
              "11  0.089286  0.014327  "
            ]
          },
          "execution_count": 227,
          "metadata": {},
          "output_type": "execute_result"
        }
      ],
      "source": [
        "# Saving results to compare latery_real = df_unseen['target']\n",
        "Y_pred = rf.predict(df_unseen.drop(['target'], axis=1))\n",
        "U_pred = rf.predict_proba(df_unseen.drop(['target'], axis=1))[:,1]\n",
        "datos = np.hstack((df_unseen['target'].values.reshape(-1,1), U_pred.reshape(-1,1)))\n",
        "df_submmit = pd.DataFrame(datos, columns=['real','prob'])\n",
        "df_submmit.to_csv('under_rf.csv', index=False)\n",
        "\n",
        "print(\"Matriz confusion: Unseen\")\n",
        "print(confusion_matrix(y_real,Y_pred))\n",
        "\n",
        "ind = ind.append({'Modelo' : 'RandomForest Under', 'MuestraTam': 'Under','Muestra' : 'Reserva', 'Tamaño': len(Y_pred), 'Accuracy' : accuracy_score(y_real,Y_pred), \n",
        "                  'Precision' : precision_score(y_real,Y_pred), 'Recall' : recall_score(y_real,Y_pred), 'F1Score' : f1_score(y_real,Y_pred)}, ignore_index = True)\n",
        "ind"
      ]
    },
    {
      "attachments": {},
      "cell_type": "markdown",
      "metadata": {
        "id": "qL7UYmLl-goF"
      },
      "source": [
        "## Models with Oversampling"
      ]
    },
    {
      "cell_type": "code",
      "execution_count": 228,
      "metadata": {
        "id": "6nDM_CnCPkyr"
      },
      "outputs": [],
      "source": [
        "df_class_1_over = df_class_1.sample(round(count_class_0/4), replace=True)\n",
        "df_over = pd.concat([df_class_0, df_class_1_over], axis=0)"
      ]
    },
    {
      "cell_type": "code",
      "execution_count": 229,
      "metadata": {
        "colab": {
          "base_uri": "https://localhost:8080/"
        },
        "id": "ZVKYWTF2PqKf",
        "outputId": "2cd62032-2042-4eae-aeba-7239e5c8d1ea"
      },
      "outputs": [
        {
          "name": "stdout",
          "output_type": "stream",
          "text": [
            "Dimensión por tipo de clases generadas:\n",
            "dim df_class_1_over: (40012, 15)\n",
            "dim df_over: (200058, 15)\n"
          ]
        }
      ],
      "source": [
        "print('Dimensión por tipo de clases generadas:')\n",
        "print('dim df_class_1_over:',df_class_1_over.shape)\n",
        "print('dim df_over:',df_over.shape)"
      ]
    },
    {
      "cell_type": "code",
      "execution_count": 230,
      "metadata": {
        "colab": {
          "base_uri": "https://localhost:8080/"
        },
        "id": "sFZGMNDiPrjB",
        "outputId": "c4741cf4-7c38-4f03-82e9-f3dd7d12a5eb"
      },
      "outputs": [
        {
          "name": "stdout",
          "output_type": "stream",
          "text": [
            "Random over-sampling:\n",
            "0    160046\n",
            "1     40012\n",
            "Name: target, dtype: int64\n"
          ]
        }
      ],
      "source": [
        "print('Random over-sampling:')\n",
        "print(df_over.target.value_counts())"
      ]
    },
    {
      "cell_type": "code",
      "execution_count": 231,
      "metadata": {
        "colab": {
          "base_uri": "https://localhost:8080/",
          "height": 278
        },
        "id": "gfhBl32rPtBj",
        "outputId": "7ad439ac-bd43-4a5d-bd00-759516e72f58"
      },
      "outputs": [
        {
          "data": {
            "image/png": "[encoded data removed]",
            "text/plain": [
              "<Figure size 432x288 with 1 Axes>"
            ]
          },
          "metadata": {
            "needs_background": "light"
          },
          "output_type": "display_data"
        }
      ],
      "source": [
        "df_over.target.value_counts().plot(kind='bar', title='Count (target)');"
      ]
    },
    {
      "cell_type": "code",
      "execution_count": 232,
      "metadata": {
        "id": "v3tZ3tYwQk1X"
      },
      "outputs": [],
      "source": [
        "\n",
        "X = df_over.drop('target', axis=1)\n",
        "y = df_over['target']"
      ]
    },
    {
      "cell_type": "code",
      "execution_count": 233,
      "metadata": {
        "id": "52dzLvOmQmrH"
      },
      "outputs": [],
      "source": [
        "#Train and test split\n",
        "X_train, X_test, y_train, y_test = train_test_split(X, y, test_size=0.3, random_state=22)"
      ]
    },
    {
      "cell_type": "code",
      "execution_count": 233,
      "metadata": {
        "id": "XYPEzbUQQq1W"
      },
      "outputs": [],
      "source": []
    },
    {
      "attachments": {},
      "cell_type": "markdown",
      "metadata": {
        "id": "30L8pKSz8Dq0"
      },
      "source": [
        "### Decision Tree"
      ]
    },
    {
      "cell_type": "code",
      "execution_count": 234,
      "metadata": {
        "id": "xQCOqd_18Dq2"
      },
      "outputs": [],
      "source": [
        "tree = DecisionTreeClassifier()\n",
        "tree_model = tree.fit(X_train, y_train)\n",
        "Y_pred = tree_model.predict(X_test)"
      ]
    },
    {
      "cell_type": "code",
      "execution_count": 235,
      "metadata": {
        "colab": {
          "base_uri": "https://localhost:8080/"
        },
        "id": "RSR1H66t8Dq6",
        "outputId": "9ec7475a-ddff-4889-ec34-859e9cfd2df0"
      },
      "outputs": [
        {
          "name": "stdout",
          "output_type": "stream",
          "text": [
            "Matriz confusion: Test\n",
            "[[47720   244]\n",
            " [    0 12054]]\n"
          ]
        }
      ],
      "source": [
        "print(\"Matriz confusion: Test\")\n",
        "print(confusion_matrix(y_test,Y_pred))\n",
        "\n",
        "ind = ind.append({'Modelo' : 'DecisionTree Over', 'MuestraTam': 'Over', 'Muestra' : 'Test', 'Tamaño': len(Y_pred), 'Accuracy' : accuracy_score(y_test,Y_pred), \n",
        "                  'Precision' : precision_score(y_test,Y_pred), 'Recall' : recall_score(y_test,Y_pred), 'F1Score' : f1_score(y_test,Y_pred)}, ignore_index = True)"
      ]
    },
    {
      "cell_type": "code",
      "execution_count": 236,
      "metadata": {
        "colab": {
          "base_uri": "https://localhost:8080/",
          "height": 540
        },
        "id": "pD8_QHJu8Dq8",
        "outputId": "2ad142c0-94fa-4317-c98d-cb6ae17c5f5d"
      },
      "outputs": [
        {
          "name": "stdout",
          "output_type": "stream",
          "text": [
            "Matriz confusion: Unseen\n",
            "[[17697    80]\n",
            " [   55     1]]\n"
          ]
        },
        {
          "data": {
            "text/html": [
              "\n",
              "  <div id=\"df-4345d3d9-8572-408e-8374-fbbc19c87799\">\n",
              "    <div class=\"colab-df-container\">\n",
              "      <div>\n",
              "<style scoped>\n",
              "    .dataframe tbody tr th:only-of-type {\n",
              "        vertical-align: middle;\n",
              "    }\n",
              "\n",
              "    .dataframe tbody tr th {\n",
              "        vertical-align: top;\n",
              "    }\n",
              "\n",
              "    .dataframe thead th {\n",
              "        text-align: right;\n",
              "    }\n",
              "</style>\n",
              "<table border=\"1\" class=\"dataframe\">\n",
              "  <thead>\n",
              "    <tr style=\"text-align: right;\">\n",
              "      <th></th>\n",
              "      <th>Modelo</th>\n",
              "      <th>MuestraTam</th>\n",
              "      <th>Muestra</th>\n",
              "      <th>Tamaño</th>\n",
              "      <th>Accuracy</th>\n",
              "      <th>Precision</th>\n",
              "      <th>Recall</th>\n",
              "      <th>F1Score</th>\n",
              "    </tr>\n",
              "  </thead>\n",
              "  <tbody>\n",
              "    <tr>\n",
              "      <th>0</th>\n",
              "      <td>DecisionTree</td>\n",
              "      <td>Completa</td>\n",
              "      <td>Test</td>\n",
              "      <td>48148</td>\n",
              "      <td>0.993603</td>\n",
              "      <td>0.032086</td>\n",
              "      <td>0.045113</td>\n",
              "      <td>0.037500</td>\n",
              "    </tr>\n",
              "    <tr>\n",
              "      <th>1</th>\n",
              "      <td>DecisionTree</td>\n",
              "      <td>Completa</td>\n",
              "      <td>Reserva</td>\n",
              "      <td>17833</td>\n",
              "      <td>0.992654</td>\n",
              "      <td>0.000000</td>\n",
              "      <td>0.000000</td>\n",
              "      <td>0.000000</td>\n",
              "    </tr>\n",
              "    <tr>\n",
              "      <th>2</th>\n",
              "      <td>XGBoost</td>\n",
              "      <td>Completa</td>\n",
              "      <td>Test</td>\n",
              "      <td>48148</td>\n",
              "      <td>0.997196</td>\n",
              "      <td>0.000000</td>\n",
              "      <td>0.000000</td>\n",
              "      <td>0.000000</td>\n",
              "    </tr>\n",
              "    <tr>\n",
              "      <th>3</th>\n",
              "      <td>XGBoost</td>\n",
              "      <td>Completa</td>\n",
              "      <td>Reserva</td>\n",
              "      <td>17833</td>\n",
              "      <td>0.996860</td>\n",
              "      <td>0.000000</td>\n",
              "      <td>0.000000</td>\n",
              "      <td>0.000000</td>\n",
              "    </tr>\n",
              "    <tr>\n",
              "      <th>4</th>\n",
              "      <td>RandomForest</td>\n",
              "      <td>Completa</td>\n",
              "      <td>Test</td>\n",
              "      <td>48148</td>\n",
              "      <td>0.997155</td>\n",
              "      <td>0.000000</td>\n",
              "      <td>0.000000</td>\n",
              "      <td>0.000000</td>\n",
              "    </tr>\n",
              "    <tr>\n",
              "      <th>5</th>\n",
              "      <td>RandomForest</td>\n",
              "      <td>Completa</td>\n",
              "      <td>Reserva</td>\n",
              "      <td>17833</td>\n",
              "      <td>0.996860</td>\n",
              "      <td>0.000000</td>\n",
              "      <td>0.000000</td>\n",
              "      <td>0.000000</td>\n",
              "    </tr>\n",
              "    <tr>\n",
              "      <th>6</th>\n",
              "      <td>DecisionTree Under</td>\n",
              "      <td>Under</td>\n",
              "      <td>Test</td>\n",
              "      <td>671</td>\n",
              "      <td>0.706408</td>\n",
              "      <td>0.354839</td>\n",
              "      <td>0.461538</td>\n",
              "      <td>0.401216</td>\n",
              "    </tr>\n",
              "    <tr>\n",
              "      <th>7</th>\n",
              "      <td>DecisionTree Under</td>\n",
              "      <td>Under</td>\n",
              "      <td>Reserva</td>\n",
              "      <td>17833</td>\n",
              "      <td>0.809623</td>\n",
              "      <td>0.005919</td>\n",
              "      <td>0.357143</td>\n",
              "      <td>0.011645</td>\n",
              "    </tr>\n",
              "    <tr>\n",
              "      <th>8</th>\n",
              "      <td>XGBoost Under</td>\n",
              "      <td>Under</td>\n",
              "      <td>Test</td>\n",
              "      <td>671</td>\n",
              "      <td>0.785395</td>\n",
              "      <td>0.494382</td>\n",
              "      <td>0.307692</td>\n",
              "      <td>0.379310</td>\n",
              "    </tr>\n",
              "    <tr>\n",
              "      <th>9</th>\n",
              "      <td>XGBoost Under</td>\n",
              "      <td>Under</td>\n",
              "      <td>Reserva</td>\n",
              "      <td>17833</td>\n",
              "      <td>0.913475</td>\n",
              "      <td>0.009241</td>\n",
              "      <td>0.250000</td>\n",
              "      <td>0.017823</td>\n",
              "    </tr>\n",
              "    <tr>\n",
              "      <th>10</th>\n",
              "      <td>RandomForest Under</td>\n",
              "      <td>Under</td>\n",
              "      <td>Test</td>\n",
              "      <td>671</td>\n",
              "      <td>0.821162</td>\n",
              "      <td>0.744681</td>\n",
              "      <td>0.244755</td>\n",
              "      <td>0.368421</td>\n",
              "    </tr>\n",
              "    <tr>\n",
              "      <th>11</th>\n",
              "      <td>RandomForest Under</td>\n",
              "      <td>Under</td>\n",
              "      <td>Reserva</td>\n",
              "      <td>17833</td>\n",
              "      <td>0.961420</td>\n",
              "      <td>0.007788</td>\n",
              "      <td>0.089286</td>\n",
              "      <td>0.014327</td>\n",
              "    </tr>\n",
              "    <tr>\n",
              "      <th>12</th>\n",
              "      <td>DecisionTree Over</td>\n",
              "      <td>Over</td>\n",
              "      <td>Test</td>\n",
              "      <td>60018</td>\n",
              "      <td>0.995935</td>\n",
              "      <td>0.980159</td>\n",
              "      <td>1.000000</td>\n",
              "      <td>0.989980</td>\n",
              "    </tr>\n",
              "    <tr>\n",
              "      <th>13</th>\n",
              "      <td>DecisionTree Over</td>\n",
              "      <td>Over</td>\n",
              "      <td>Reserva</td>\n",
              "      <td>17833</td>\n",
              "      <td>0.992430</td>\n",
              "      <td>0.012346</td>\n",
              "      <td>0.017857</td>\n",
              "      <td>0.014599</td>\n",
              "    </tr>\n",
              "  </tbody>\n",
              "</table>\n",
              "</div>\n",
              "      <button class=\"colab-df-convert\" onclick=\"convertToInteractive('df-4345d3d9-8572-408e-8374-fbbc19c87799')\"\n",
              "              title=\"Convert this dataframe to an interactive table.\"\n",
              "              style=\"display:none;\">\n",
              "        \n",
              "  <svg xmlns=\"http://www.w3.org/2000/svg\" height=\"24px\"viewBox=\"0 0 24 24\"\n",
              "       width=\"24px\">\n",
              "    <path d=\"M0 0h24v24H0V0z\" fill=\"none\"/>\n",
              "    <path d=\"M18.56 5.44l.94 2.06.94-2.06 2.06-.94-2.06-.94-.94-2.06-.94 2.06-2.06.94zm-11 1L8.5 8.5l.94-2.06 2.06-.94-2.06-.94L8.5 2.5l-.94 2.06-2.06.94zm10 10l.94 2.06.94-2.06 2.06-.94-2.06-.94-.94-2.06-.94 2.06-2.06.94z\"/><path d=\"M17.41 7.96l-1.37-1.37c-.4-.4-.92-.59-1.43-.59-.52 0-1.04.2-1.43.59L10.3 9.45l-7.72 7.72c-.78.78-.78 2.05 0 2.83L4 21.41c.39.39.9.59 1.41.59.51 0 1.02-.2 1.41-.59l7.78-7.78 2.81-2.81c.8-.78.8-2.07 0-2.86zM5.41 20L4 18.59l7.72-7.72 1.47 1.35L5.41 20z\"/>\n",
              "  </svg>\n",
              "      </button>\n",
              "      \n",
              "  <style>\n",
              "    .colab-df-container {\n",
              "      display:flex;\n",
              "      flex-wrap:wrap;\n",
              "      gap: 12px;\n",
              "    }\n",
              "\n",
              "    .colab-df-convert {\n",
              "      background-color: #E8F0FE;\n",
              "      border: none;\n",
              "      border-radius: 50%;\n",
              "      cursor: pointer;\n",
              "      display: none;\n",
              "      fill: #1967D2;\n",
              "      height: 32px;\n",
              "      padding: 0 0 0 0;\n",
              "      width: 32px;\n",
              "    }\n",
              "\n",
              "    .colab-df-convert:hover {\n",
              "      background-color: #E2EBFA;\n",
              "      box-shadow: 0px 1px 2px rgba(60, 64, 67, 0.3), 0px 1px 3px 1px rgba(60, 64, 67, 0.15);\n",
              "      fill: #174EA6;\n",
              "    }\n",
              "\n",
              "    [theme=dark] .colab-df-convert {\n",
              "      background-color: #3B4455;\n",
              "      fill: #D2E3FC;\n",
              "    }\n",
              "\n",
              "    [theme=dark] .colab-df-convert:hover {\n",
              "      background-color: #434B5C;\n",
              "      box-shadow: 0px 1px 3px 1px rgba(0, 0, 0, 0.15);\n",
              "      filter: drop-shadow(0px 1px 2px rgba(0, 0, 0, 0.3));\n",
              "      fill: #FFFFFF;\n",
              "    }\n",
              "  </style>\n",
              "\n",
              "      <script>\n",
              "        const buttonEl =\n",
              "          document.querySelector('#df-4345d3d9-8572-408e-8374-fbbc19c87799 button.colab-df-convert');\n",
              "        buttonEl.style.display =\n",
              "          google.colab.kernel.accessAllowed ? 'block' : 'none';\n",
              "\n",
              "        async function convertToInteractive(key) {\n",
              "          const element = document.querySelector('#df-4345d3d9-8572-408e-8374-fbbc19c87799');\n",
              "          const dataTable =\n",
              "            await google.colab.kernel.invokeFunction('convertToInteractive',\n",
              "                                                     [key], {});\n",
              "          if (!dataTable) return;\n",
              "\n",
              "          const docLinkHtml = 'Like what you see? Visit the ' +\n",
              "            '<a target=\"_blank\" href=https://colab.research.google.com/notebooks/data_table.ipynb>data table notebook</a>'\n",
              "            + ' to learn more about interactive tables.';\n",
              "          element.innerHTML = '';\n",
              "          dataTable['output_type'] = 'display_data';\n",
              "          await google.colab.output.renderOutput(dataTable, element);\n",
              "          const docLink = document.createElement('div');\n",
              "          docLink.innerHTML = docLinkHtml;\n",
              "          element.appendChild(docLink);\n",
              "        }\n",
              "      </script>\n",
              "    </div>\n",
              "  </div>\n",
              "  "
            ],
            "text/plain": [
              "                Modelo MuestraTam  Muestra Tamaño  Accuracy  Precision  \\\n",
              "0         DecisionTree   Completa     Test  48148  0.993603   0.032086   \n",
              "1         DecisionTree   Completa  Reserva  17833  0.992654   0.000000   \n",
              "2              XGBoost   Completa     Test  48148  0.997196   0.000000   \n",
              "3              XGBoost   Completa  Reserva  17833  0.996860   0.000000   \n",
              "4         RandomForest   Completa     Test  48148  0.997155   0.000000   \n",
              "5         RandomForest   Completa  Reserva  17833  0.996860   0.000000   \n",
              "6   DecisionTree Under      Under     Test    671  0.706408   0.354839   \n",
              "7   DecisionTree Under      Under  Reserva  17833  0.809623   0.005919   \n",
              "8        XGBoost Under      Under     Test    671  0.785395   0.494382   \n",
              "9        XGBoost Under      Under  Reserva  17833  0.913475   0.009241   \n",
              "10  RandomForest Under      Under     Test    671  0.821162   0.744681   \n",
              "11  RandomForest Under      Under  Reserva  17833  0.961420   0.007788   \n",
              "12   DecisionTree Over       Over     Test  60018  0.995935   0.980159   \n",
              "13   DecisionTree Over       Over  Reserva  17833  0.992430   0.012346   \n",
              "\n",
              "      Recall   F1Score  \n",
              "0   0.045113  0.037500  \n",
              "1   0.000000  0.000000  \n",
              "2   0.000000  0.000000  \n",
              "3   0.000000  0.000000  \n",
              "4   0.000000  0.000000  \n",
              "5   0.000000  0.000000  \n",
              "6   0.461538  0.401216  \n",
              "7   0.357143  0.011645  \n",
              "8   0.307692  0.379310  \n",
              "9   0.250000  0.017823  \n",
              "10  0.244755  0.368421  \n",
              "11  0.089286  0.014327  \n",
              "12  1.000000  0.989980  \n",
              "13  0.017857  0.014599  "
            ]
          },
          "execution_count": 236,
          "metadata": {},
          "output_type": "execute_result"
        }
      ],
      "source": [
        "# Saving results to compare later\n",
        "y_real = df_unseen['target']\n",
        "Y_pred = tree_model.predict(df_unseen.drop(['target'], axis=1))\n",
        "U_pred = tree_model.predict_proba(df_unseen.drop(['target'], axis=1))[:,1]\n",
        "datos = np.hstack(( df_unseen['target'].values.reshape(-1,1), U_pred.reshape(-1,1)))\n",
        "df_submmit = pd.DataFrame(datos, columns=['real','prob'])\n",
        "df_submmit.to_csv('over_tree.csv', index=False)\n",
        "\n",
        "print(\"Matriz confusion: Unseen\")\n",
        "print(confusion_matrix(y_real,Y_pred))\n",
        "\n",
        "ind = ind.append({'Modelo' : 'DecisionTree Over', 'MuestraTam': 'Over','Muestra' : 'Reserva', 'Tamaño': len(Y_pred), 'Accuracy' : accuracy_score(y_real,Y_pred), \n",
        "                  'Precision' : precision_score(y_real,Y_pred), 'Recall' : recall_score(y_real,Y_pred), 'F1Score' : f1_score(y_real,Y_pred)}, ignore_index = True)\n",
        "ind"
      ]
    },
    {
      "attachments": {},
      "cell_type": "markdown",
      "metadata": {
        "id": "C-8Nau_F8Dq_"
      },
      "source": [
        "### XGBoost"
      ]
    },
    {
      "cell_type": "code",
      "execution_count": 237,
      "metadata": {
        "id": "P9xrRIoX8DrC"
      },
      "outputs": [],
      "source": [
        "xgb_mod=xgb.XGBClassifier()\n",
        "xgb_mod.fit(X_train, y_train)\n",
        "Y_pred= xgb_mod.predict(X_test)"
      ]
    },
    {
      "cell_type": "code",
      "execution_count": 238,
      "metadata": {
        "colab": {
          "base_uri": "https://localhost:8080/"
        },
        "id": "mTK3yYuP8DrF",
        "outputId": "0e16109b-fd0c-4447-e819-a43cbd0b9f76"
      },
      "outputs": [
        {
          "name": "stdout",
          "output_type": "stream",
          "text": [
            "Matriz confusion: Test\n",
            "[[47393   571]\n",
            " [  966 11088]]\n"
          ]
        }
      ],
      "source": [
        "print(\"Matriz confusion: Test\")\n",
        "print(confusion_matrix(y_test,Y_pred))\n",
        "\n",
        "ind = ind.append({'Modelo' : 'XGBoost Over', 'MuestraTam': 'Over', 'Muestra' : 'Test', 'Tamaño': len(Y_pred), 'Accuracy' : accuracy_score(y_test,Y_pred), \n",
        "                  'Precision' : precision_score(y_test,Y_pred), 'Recall' : recall_score(y_test,Y_pred), 'F1Score' : f1_score(y_test,Y_pred)}, ignore_index = True)"
      ]
    },
    {
      "cell_type": "code",
      "execution_count": 239,
      "metadata": {
        "colab": {
          "base_uri": "https://localhost:8080/",
          "height": 603
        },
        "id": "wXI9cFhW8DrI",
        "outputId": "01e9ae75-ba45-4f97-fe72-6c7f7d2dd147"
      },
      "outputs": [
        {
          "name": "stdout",
          "output_type": "stream",
          "text": [
            "Matriz confusion: Unseen\n",
            "[[17586   191]\n",
            " [   52     4]]\n"
          ]
        },
        {
          "data": {
            "text/html": [
              "\n",
              "  <div id=\"df-85f4d64e-2ece-42e4-ba18-9461e754b495\">\n",
              "    <div class=\"colab-df-container\">\n",
              "      <div>\n",
              "<style scoped>\n",
              "    .dataframe tbody tr th:only-of-type {\n",
              "        vertical-align: middle;\n",
              "    }\n",
              "\n",
              "    .dataframe tbody tr th {\n",
              "        vertical-align: top;\n",
              "    }\n",
              "\n",
              "    .dataframe thead th {\n",
              "        text-align: right;\n",
              "    }\n",
              "</style>\n",
              "<table border=\"1\" class=\"dataframe\">\n",
              "  <thead>\n",
              "    <tr style=\"text-align: right;\">\n",
              "      <th></th>\n",
              "      <th>Modelo</th>\n",
              "      <th>MuestraTam</th>\n",
              "      <th>Muestra</th>\n",
              "      <th>Tamaño</th>\n",
              "      <th>Accuracy</th>\n",
              "      <th>Precision</th>\n",
              "      <th>Recall</th>\n",
              "      <th>F1Score</th>\n",
              "    </tr>\n",
              "  </thead>\n",
              "  <tbody>\n",
              "    <tr>\n",
              "      <th>0</th>\n",
              "      <td>DecisionTree</td>\n",
              "      <td>Completa</td>\n",
              "      <td>Test</td>\n",
              "      <td>48148</td>\n",
              "      <td>0.993603</td>\n",
              "      <td>0.032086</td>\n",
              "      <td>0.045113</td>\n",
              "      <td>0.037500</td>\n",
              "    </tr>\n",
              "    <tr>\n",
              "      <th>1</th>\n",
              "      <td>DecisionTree</td>\n",
              "      <td>Completa</td>\n",
              "      <td>Reserva</td>\n",
              "      <td>17833</td>\n",
              "      <td>0.992654</td>\n",
              "      <td>0.000000</td>\n",
              "      <td>0.000000</td>\n",
              "      <td>0.000000</td>\n",
              "    </tr>\n",
              "    <tr>\n",
              "      <th>2</th>\n",
              "      <td>XGBoost</td>\n",
              "      <td>Completa</td>\n",
              "      <td>Test</td>\n",
              "      <td>48148</td>\n",
              "      <td>0.997196</td>\n",
              "      <td>0.000000</td>\n",
              "      <td>0.000000</td>\n",
              "      <td>0.000000</td>\n",
              "    </tr>\n",
              "    <tr>\n",
              "      <th>3</th>\n",
              "      <td>XGBoost</td>\n",
              "      <td>Completa</td>\n",
              "      <td>Reserva</td>\n",
              "      <td>17833</td>\n",
              "      <td>0.996860</td>\n",
              "      <td>0.000000</td>\n",
              "      <td>0.000000</td>\n",
              "      <td>0.000000</td>\n",
              "    </tr>\n",
              "    <tr>\n",
              "      <th>4</th>\n",
              "      <td>RandomForest</td>\n",
              "      <td>Completa</td>\n",
              "      <td>Test</td>\n",
              "      <td>48148</td>\n",
              "      <td>0.997155</td>\n",
              "      <td>0.000000</td>\n",
              "      <td>0.000000</td>\n",
              "      <td>0.000000</td>\n",
              "    </tr>\n",
              "    <tr>\n",
              "      <th>5</th>\n",
              "      <td>RandomForest</td>\n",
              "      <td>Completa</td>\n",
              "      <td>Reserva</td>\n",
              "      <td>17833</td>\n",
              "      <td>0.996860</td>\n",
              "      <td>0.000000</td>\n",
              "      <td>0.000000</td>\n",
              "      <td>0.000000</td>\n",
              "    </tr>\n",
              "    <tr>\n",
              "      <th>6</th>\n",
              "      <td>DecisionTree Under</td>\n",
              "      <td>Under</td>\n",
              "      <td>Test</td>\n",
              "      <td>671</td>\n",
              "      <td>0.706408</td>\n",
              "      <td>0.354839</td>\n",
              "      <td>0.461538</td>\n",
              "      <td>0.401216</td>\n",
              "    </tr>\n",
              "    <tr>\n",
              "      <th>7</th>\n",
              "      <td>DecisionTree Under</td>\n",
              "      <td>Under</td>\n",
              "      <td>Reserva</td>\n",
              "      <td>17833</td>\n",
              "      <td>0.809623</td>\n",
              "      <td>0.005919</td>\n",
              "      <td>0.357143</td>\n",
              "      <td>0.011645</td>\n",
              "    </tr>\n",
              "    <tr>\n",
              "      <th>8</th>\n",
              "      <td>XGBoost Under</td>\n",
              "      <td>Under</td>\n",
              "      <td>Test</td>\n",
              "      <td>671</td>\n",
              "      <td>0.785395</td>\n",
              "      <td>0.494382</td>\n",
              "      <td>0.307692</td>\n",
              "      <td>0.379310</td>\n",
              "    </tr>\n",
              "    <tr>\n",
              "      <th>9</th>\n",
              "      <td>XGBoost Under</td>\n",
              "      <td>Under</td>\n",
              "      <td>Reserva</td>\n",
              "      <td>17833</td>\n",
              "      <td>0.913475</td>\n",
              "      <td>0.009241</td>\n",
              "      <td>0.250000</td>\n",
              "      <td>0.017823</td>\n",
              "    </tr>\n",
              "    <tr>\n",
              "      <th>10</th>\n",
              "      <td>RandomForest Under</td>\n",
              "      <td>Under</td>\n",
              "      <td>Test</td>\n",
              "      <td>671</td>\n",
              "      <td>0.821162</td>\n",
              "      <td>0.744681</td>\n",
              "      <td>0.244755</td>\n",
              "      <td>0.368421</td>\n",
              "    </tr>\n",
              "    <tr>\n",
              "      <th>11</th>\n",
              "      <td>RandomForest Under</td>\n",
              "      <td>Under</td>\n",
              "      <td>Reserva</td>\n",
              "      <td>17833</td>\n",
              "      <td>0.961420</td>\n",
              "      <td>0.007788</td>\n",
              "      <td>0.089286</td>\n",
              "      <td>0.014327</td>\n",
              "    </tr>\n",
              "    <tr>\n",
              "      <th>12</th>\n",
              "      <td>DecisionTree Over</td>\n",
              "      <td>Over</td>\n",
              "      <td>Test</td>\n",
              "      <td>60018</td>\n",
              "      <td>0.995935</td>\n",
              "      <td>0.980159</td>\n",
              "      <td>1.000000</td>\n",
              "      <td>0.989980</td>\n",
              "    </tr>\n",
              "    <tr>\n",
              "      <th>13</th>\n",
              "      <td>DecisionTree Over</td>\n",
              "      <td>Over</td>\n",
              "      <td>Reserva</td>\n",
              "      <td>17833</td>\n",
              "      <td>0.992430</td>\n",
              "      <td>0.012346</td>\n",
              "      <td>0.017857</td>\n",
              "      <td>0.014599</td>\n",
              "    </tr>\n",
              "    <tr>\n",
              "      <th>14</th>\n",
              "      <td>XGBoost Over</td>\n",
              "      <td>Over</td>\n",
              "      <td>Test</td>\n",
              "      <td>60018</td>\n",
              "      <td>0.974391</td>\n",
              "      <td>0.951025</td>\n",
              "      <td>0.919861</td>\n",
              "      <td>0.935183</td>\n",
              "    </tr>\n",
              "    <tr>\n",
              "      <th>15</th>\n",
              "      <td>XGBoost Over</td>\n",
              "      <td>Over</td>\n",
              "      <td>Reserva</td>\n",
              "      <td>17833</td>\n",
              "      <td>0.986374</td>\n",
              "      <td>0.020513</td>\n",
              "      <td>0.071429</td>\n",
              "      <td>0.031873</td>\n",
              "    </tr>\n",
              "  </tbody>\n",
              "</table>\n",
              "</div>\n",
              "      <button class=\"colab-df-convert\" onclick=\"convertToInteractive('df-85f4d64e-2ece-42e4-ba18-9461e754b495')\"\n",
              "              title=\"Convert this dataframe to an interactive table.\"\n",
              "              style=\"display:none;\">\n",
              "        \n",
              "  <svg xmlns=\"http://www.w3.org/2000/svg\" height=\"24px\"viewBox=\"0 0 24 24\"\n",
              "       width=\"24px\">\n",
              "    <path d=\"M0 0h24v24H0V0z\" fill=\"none\"/>\n",
              "    <path d=\"M18.56 5.44l.94 2.06.94-2.06 2.06-.94-2.06-.94-.94-2.06-.94 2.06-2.06.94zm-11 1L8.5 8.5l.94-2.06 2.06-.94-2.06-.94L8.5 2.5l-.94 2.06-2.06.94zm10 10l.94 2.06.94-2.06 2.06-.94-2.06-.94-.94-2.06-.94 2.06-2.06.94z\"/><path d=\"M17.41 7.96l-1.37-1.37c-.4-.4-.92-.59-1.43-.59-.52 0-1.04.2-1.43.59L10.3 9.45l-7.72 7.72c-.78.78-.78 2.05 0 2.83L4 21.41c.39.39.9.59 1.41.59.51 0 1.02-.2 1.41-.59l7.78-7.78 2.81-2.81c.8-.78.8-2.07 0-2.86zM5.41 20L4 18.59l7.72-7.72 1.47 1.35L5.41 20z\"/>\n",
              "  </svg>\n",
              "      </button>\n",
              "      \n",
              "  <style>\n",
              "    .colab-df-container {\n",
              "      display:flex;\n",
              "      flex-wrap:wrap;\n",
              "      gap: 12px;\n",
              "    }\n",
              "\n",
              "    .colab-df-convert {\n",
              "      background-color: #E8F0FE;\n",
              "      border: none;\n",
              "      border-radius: 50%;\n",
              "      cursor: pointer;\n",
              "      display: none;\n",
              "      fill: #1967D2;\n",
              "      height: 32px;\n",
              "      padding: 0 0 0 0;\n",
              "      width: 32px;\n",
              "    }\n",
              "\n",
              "    .colab-df-convert:hover {\n",
              "      background-color: #E2EBFA;\n",
              "      box-shadow: 0px 1px 2px rgba(60, 64, 67, 0.3), 0px 1px 3px 1px rgba(60, 64, 67, 0.15);\n",
              "      fill: #174EA6;\n",
              "    }\n",
              "\n",
              "    [theme=dark] .colab-df-convert {\n",
              "      background-color: #3B4455;\n",
              "      fill: #D2E3FC;\n",
              "    }\n",
              "\n",
              "    [theme=dark] .colab-df-convert:hover {\n",
              "      background-color: #434B5C;\n",
              "      box-shadow: 0px 1px 3px 1px rgba(0, 0, 0, 0.15);\n",
              "      filter: drop-shadow(0px 1px 2px rgba(0, 0, 0, 0.3));\n",
              "      fill: #FFFFFF;\n",
              "    }\n",
              "  </style>\n",
              "\n",
              "      <script>\n",
              "        const buttonEl =\n",
              "          document.querySelector('#df-85f4d64e-2ece-42e4-ba18-9461e754b495 button.colab-df-convert');\n",
              "        buttonEl.style.display =\n",
              "          google.colab.kernel.accessAllowed ? 'block' : 'none';\n",
              "\n",
              "        async function convertToInteractive(key) {\n",
              "          const element = document.querySelector('#df-85f4d64e-2ece-42e4-ba18-9461e754b495');\n",
              "          const dataTable =\n",
              "            await google.colab.kernel.invokeFunction('convertToInteractive',\n",
              "                                                     [key], {});\n",
              "          if (!dataTable) return;\n",
              "\n",
              "          const docLinkHtml = 'Like what you see? Visit the ' +\n",
              "            '<a target=\"_blank\" href=https://colab.research.google.com/notebooks/data_table.ipynb>data table notebook</a>'\n",
              "            + ' to learn more about interactive tables.';\n",
              "          element.innerHTML = '';\n",
              "          dataTable['output_type'] = 'display_data';\n",
              "          await google.colab.output.renderOutput(dataTable, element);\n",
              "          const docLink = document.createElement('div');\n",
              "          docLink.innerHTML = docLinkHtml;\n",
              "          element.appendChild(docLink);\n",
              "        }\n",
              "      </script>\n",
              "    </div>\n",
              "  </div>\n",
              "  "
            ],
            "text/plain": [
              "                Modelo MuestraTam  Muestra Tamaño  Accuracy  Precision  \\\n",
              "0         DecisionTree   Completa     Test  48148  0.993603   0.032086   \n",
              "1         DecisionTree   Completa  Reserva  17833  0.992654   0.000000   \n",
              "2              XGBoost   Completa     Test  48148  0.997196   0.000000   \n",
              "3              XGBoost   Completa  Reserva  17833  0.996860   0.000000   \n",
              "4         RandomForest   Completa     Test  48148  0.997155   0.000000   \n",
              "5         RandomForest   Completa  Reserva  17833  0.996860   0.000000   \n",
              "6   DecisionTree Under      Under     Test    671  0.706408   0.354839   \n",
              "7   DecisionTree Under      Under  Reserva  17833  0.809623   0.005919   \n",
              "8        XGBoost Under      Under     Test    671  0.785395   0.494382   \n",
              "9        XGBoost Under      Under  Reserva  17833  0.913475   0.009241   \n",
              "10  RandomForest Under      Under     Test    671  0.821162   0.744681   \n",
              "11  RandomForest Under      Under  Reserva  17833  0.961420   0.007788   \n",
              "12   DecisionTree Over       Over     Test  60018  0.995935   0.980159   \n",
              "13   DecisionTree Over       Over  Reserva  17833  0.992430   0.012346   \n",
              "14        XGBoost Over       Over     Test  60018  0.974391   0.951025   \n",
              "15        XGBoost Over       Over  Reserva  17833  0.986374   0.020513   \n",
              "\n",
              "      Recall   F1Score  \n",
              "0   0.045113  0.037500  \n",
              "1   0.000000  0.000000  \n",
              "2   0.000000  0.000000  \n",
              "3   0.000000  0.000000  \n",
              "4   0.000000  0.000000  \n",
              "5   0.000000  0.000000  \n",
              "6   0.461538  0.401216  \n",
              "7   0.357143  0.011645  \n",
              "8   0.307692  0.379310  \n",
              "9   0.250000  0.017823  \n",
              "10  0.244755  0.368421  \n",
              "11  0.089286  0.014327  \n",
              "12  1.000000  0.989980  \n",
              "13  0.017857  0.014599  \n",
              "14  0.919861  0.935183  \n",
              "15  0.071429  0.031873  "
            ]
          },
          "execution_count": 239,
          "metadata": {},
          "output_type": "execute_result"
        }
      ],
      "source": [
        "# Saving results to compare later\n",
        "y_real = df_unseen['target']\n",
        "Y_pred = xgb_mod.predict(df_unseen.drop(['target'], axis=1))\n",
        "U_pred = xgb_mod.predict_proba(df_unseen.drop(['target'], axis=1))[:,1]\n",
        "datos = np.hstack((df_unseen['target'].values.reshape(-1,1), U_pred.reshape(-1,1)))\n",
        "df_submmit = pd.DataFrame(datos, columns=['real','prob'])\n",
        "df_submmit.to_csv('over_xgb.csv', index=False)\n",
        "\n",
        "print(\"Matriz confusion: Unseen\")\n",
        "print(confusion_matrix(y_real,Y_pred))\n",
        "\n",
        "ind = ind.append({'Modelo' : 'XGBoost Over','MuestraTam': 'Over',  'Muestra' : 'Reserva', 'Tamaño': len(Y_pred), 'Accuracy' : accuracy_score(y_real,Y_pred), \n",
        "                  'Precision' : precision_score(y_real,Y_pred), 'Recall' : recall_score(y_real,Y_pred), 'F1Score' : f1_score(y_real,Y_pred)}, ignore_index = True)\n",
        "ind"
      ]
    },
    {
      "attachments": {},
      "cell_type": "markdown",
      "metadata": {
        "id": "AvQtaCyb8DrL"
      },
      "source": [
        "### RandomForest"
      ]
    },
    {
      "cell_type": "code",
      "execution_count": 240,
      "metadata": {
        "id": "WT9kM-ca8DrM"
      },
      "outputs": [],
      "source": [
        "rf = RandomForestClassifier()\n",
        "rf.fit(X_train, y_train)\n",
        "Y_pred=rf.predict(X_test)"
      ]
    },
    {
      "cell_type": "code",
      "execution_count": 241,
      "metadata": {
        "colab": {
          "base_uri": "https://localhost:8080/"
        },
        "id": "QjU1RU6W8DrO",
        "outputId": "8509e549-1878-4957-f90c-9b38d1d7938b"
      },
      "outputs": [
        {
          "name": "stdout",
          "output_type": "stream",
          "text": [
            "Matriz confusion: Test\n",
            "[[47909    55]\n",
            " [    0 12054]]\n"
          ]
        }
      ],
      "source": [
        "print(\"Matriz confusion: Test\")\n",
        "print(confusion_matrix(y_test,Y_pred))\n",
        "\n",
        "ind = ind.append({'Modelo' : 'RandomForest Over', 'MuestraTam': 'Over', 'Muestra' : 'Test', 'Tamaño': len(Y_pred), 'Accuracy' : accuracy_score(y_test,Y_pred), \n",
        "                  'Precision' : precision_score(y_test,Y_pred), 'Recall' : recall_score(y_test,Y_pred), 'F1Score' : f1_score(y_test,Y_pred)}, ignore_index = True)"
      ]
    },
    {
      "cell_type": "code",
      "execution_count": 242,
      "metadata": {
        "colab": {
          "base_uri": "https://localhost:8080/",
          "height": 666
        },
        "id": "5ps_qh0Q8DrQ",
        "outputId": "ed97918b-a7cd-4377-9d5b-ef68dae486cd"
      },
      "outputs": [
        {
          "name": "stdout",
          "output_type": "stream",
          "text": [
            "Matriz confusion: Unseen\n",
            "[[17755    22]\n",
            " [   56     0]]\n"
          ]
        },
        {
          "data": {
            "text/html": [
              "\n",
              "  <div id=\"df-3424a478-327d-4f49-9d61-f1f9135ab250\">\n",
              "    <div class=\"colab-df-container\">\n",
              "      <div>\n",
              "<style scoped>\n",
              "    .dataframe tbody tr th:only-of-type {\n",
              "        vertical-align: middle;\n",
              "    }\n",
              "\n",
              "    .dataframe tbody tr th {\n",
              "        vertical-align: top;\n",
              "    }\n",
              "\n",
              "    .dataframe thead th {\n",
              "        text-align: right;\n",
              "    }\n",
              "</style>\n",
              "<table border=\"1\" class=\"dataframe\">\n",
              "  <thead>\n",
              "    <tr style=\"text-align: right;\">\n",
              "      <th></th>\n",
              "      <th>Modelo</th>\n",
              "      <th>MuestraTam</th>\n",
              "      <th>Muestra</th>\n",
              "      <th>Tamaño</th>\n",
              "      <th>Accuracy</th>\n",
              "      <th>Precision</th>\n",
              "      <th>Recall</th>\n",
              "      <th>F1Score</th>\n",
              "    </tr>\n",
              "  </thead>\n",
              "  <tbody>\n",
              "    <tr>\n",
              "      <th>0</th>\n",
              "      <td>DecisionTree</td>\n",
              "      <td>Completa</td>\n",
              "      <td>Test</td>\n",
              "      <td>48148</td>\n",
              "      <td>0.993603</td>\n",
              "      <td>0.032086</td>\n",
              "      <td>0.045113</td>\n",
              "      <td>0.037500</td>\n",
              "    </tr>\n",
              "    <tr>\n",
              "      <th>1</th>\n",
              "      <td>DecisionTree</td>\n",
              "      <td>Completa</td>\n",
              "      <td>Reserva</td>\n",
              "      <td>17833</td>\n",
              "      <td>0.992654</td>\n",
              "      <td>0.000000</td>\n",
              "      <td>0.000000</td>\n",
              "      <td>0.000000</td>\n",
              "    </tr>\n",
              "    <tr>\n",
              "      <th>2</th>\n",
              "      <td>XGBoost</td>\n",
              "      <td>Completa</td>\n",
              "      <td>Test</td>\n",
              "      <td>48148</td>\n",
              "      <td>0.997196</td>\n",
              "      <td>0.000000</td>\n",
              "      <td>0.000000</td>\n",
              "      <td>0.000000</td>\n",
              "    </tr>\n",
              "    <tr>\n",
              "      <th>3</th>\n",
              "      <td>XGBoost</td>\n",
              "      <td>Completa</td>\n",
              "      <td>Reserva</td>\n",
              "      <td>17833</td>\n",
              "      <td>0.996860</td>\n",
              "      <td>0.000000</td>\n",
              "      <td>0.000000</td>\n",
              "      <td>0.000000</td>\n",
              "    </tr>\n",
              "    <tr>\n",
              "      <th>4</th>\n",
              "      <td>RandomForest</td>\n",
              "      <td>Completa</td>\n",
              "      <td>Test</td>\n",
              "      <td>48148</td>\n",
              "      <td>0.997155</td>\n",
              "      <td>0.000000</td>\n",
              "      <td>0.000000</td>\n",
              "      <td>0.000000</td>\n",
              "    </tr>\n",
              "    <tr>\n",
              "      <th>5</th>\n",
              "      <td>RandomForest</td>\n",
              "      <td>Completa</td>\n",
              "      <td>Reserva</td>\n",
              "      <td>17833</td>\n",
              "      <td>0.996860</td>\n",
              "      <td>0.000000</td>\n",
              "      <td>0.000000</td>\n",
              "      <td>0.000000</td>\n",
              "    </tr>\n",
              "    <tr>\n",
              "      <th>6</th>\n",
              "      <td>DecisionTree Under</td>\n",
              "      <td>Under</td>\n",
              "      <td>Test</td>\n",
              "      <td>671</td>\n",
              "      <td>0.706408</td>\n",
              "      <td>0.354839</td>\n",
              "      <td>0.461538</td>\n",
              "      <td>0.401216</td>\n",
              "    </tr>\n",
              "    <tr>\n",
              "      <th>7</th>\n",
              "      <td>DecisionTree Under</td>\n",
              "      <td>Under</td>\n",
              "      <td>Reserva</td>\n",
              "      <td>17833</td>\n",
              "      <td>0.809623</td>\n",
              "      <td>0.005919</td>\n",
              "      <td>0.357143</td>\n",
              "      <td>0.011645</td>\n",
              "    </tr>\n",
              "    <tr>\n",
              "      <th>8</th>\n",
              "      <td>XGBoost Under</td>\n",
              "      <td>Under</td>\n",
              "      <td>Test</td>\n",
              "      <td>671</td>\n",
              "      <td>0.785395</td>\n",
              "      <td>0.494382</td>\n",
              "      <td>0.307692</td>\n",
              "      <td>0.379310</td>\n",
              "    </tr>\n",
              "    <tr>\n",
              "      <th>9</th>\n",
              "      <td>XGBoost Under</td>\n",
              "      <td>Under</td>\n",
              "      <td>Reserva</td>\n",
              "      <td>17833</td>\n",
              "      <td>0.913475</td>\n",
              "      <td>0.009241</td>\n",
              "      <td>0.250000</td>\n",
              "      <td>0.017823</td>\n",
              "    </tr>\n",
              "    <tr>\n",
              "      <th>10</th>\n",
              "      <td>RandomForest Under</td>\n",
              "      <td>Under</td>\n",
              "      <td>Test</td>\n",
              "      <td>671</td>\n",
              "      <td>0.821162</td>\n",
              "      <td>0.744681</td>\n",
              "      <td>0.244755</td>\n",
              "      <td>0.368421</td>\n",
              "    </tr>\n",
              "    <tr>\n",
              "      <th>11</th>\n",
              "      <td>RandomForest Under</td>\n",
              "      <td>Under</td>\n",
              "      <td>Reserva</td>\n",
              "      <td>17833</td>\n",
              "      <td>0.961420</td>\n",
              "      <td>0.007788</td>\n",
              "      <td>0.089286</td>\n",
              "      <td>0.014327</td>\n",
              "    </tr>\n",
              "    <tr>\n",
              "      <th>12</th>\n",
              "      <td>DecisionTree Over</td>\n",
              "      <td>Over</td>\n",
              "      <td>Test</td>\n",
              "      <td>60018</td>\n",
              "      <td>0.995935</td>\n",
              "      <td>0.980159</td>\n",
              "      <td>1.000000</td>\n",
              "      <td>0.989980</td>\n",
              "    </tr>\n",
              "    <tr>\n",
              "      <th>13</th>\n",
              "      <td>DecisionTree Over</td>\n",
              "      <td>Over</td>\n",
              "      <td>Reserva</td>\n",
              "      <td>17833</td>\n",
              "      <td>0.992430</td>\n",
              "      <td>0.012346</td>\n",
              "      <td>0.017857</td>\n",
              "      <td>0.014599</td>\n",
              "    </tr>\n",
              "    <tr>\n",
              "      <th>14</th>\n",
              "      <td>XGBoost Over</td>\n",
              "      <td>Over</td>\n",
              "      <td>Test</td>\n",
              "      <td>60018</td>\n",
              "      <td>0.974391</td>\n",
              "      <td>0.951025</td>\n",
              "      <td>0.919861</td>\n",
              "      <td>0.935183</td>\n",
              "    </tr>\n",
              "    <tr>\n",
              "      <th>15</th>\n",
              "      <td>XGBoost Over</td>\n",
              "      <td>Over</td>\n",
              "      <td>Reserva</td>\n",
              "      <td>17833</td>\n",
              "      <td>0.986374</td>\n",
              "      <td>0.020513</td>\n",
              "      <td>0.071429</td>\n",
              "      <td>0.031873</td>\n",
              "    </tr>\n",
              "    <tr>\n",
              "      <th>16</th>\n",
              "      <td>RandomForest Over</td>\n",
              "      <td>Over</td>\n",
              "      <td>Test</td>\n",
              "      <td>60018</td>\n",
              "      <td>0.999084</td>\n",
              "      <td>0.995458</td>\n",
              "      <td>1.000000</td>\n",
              "      <td>0.997724</td>\n",
              "    </tr>\n",
              "    <tr>\n",
              "      <th>17</th>\n",
              "      <td>RandomForest Over</td>\n",
              "      <td>Over</td>\n",
              "      <td>Reserva</td>\n",
              "      <td>17833</td>\n",
              "      <td>0.995626</td>\n",
              "      <td>0.000000</td>\n",
              "      <td>0.000000</td>\n",
              "      <td>0.000000</td>\n",
              "    </tr>\n",
              "  </tbody>\n",
              "</table>\n",
              "</div>\n",
              "      <button class=\"colab-df-convert\" onclick=\"convertToInteractive('df-3424a478-327d-4f49-9d61-f1f9135ab250')\"\n",
              "              title=\"Convert this dataframe to an interactive table.\"\n",
              "              style=\"display:none;\">\n",
              "        \n",
              "  <svg xmlns=\"http://www.w3.org/2000/svg\" height=\"24px\"viewBox=\"0 0 24 24\"\n",
              "       width=\"24px\">\n",
              "    <path d=\"M0 0h24v24H0V0z\" fill=\"none\"/>\n",
              "    <path d=\"M18.56 5.44l.94 2.06.94-2.06 2.06-.94-2.06-.94-.94-2.06-.94 2.06-2.06.94zm-11 1L8.5 8.5l.94-2.06 2.06-.94-2.06-.94L8.5 2.5l-.94 2.06-2.06.94zm10 10l.94 2.06.94-2.06 2.06-.94-2.06-.94-.94-2.06-.94 2.06-2.06.94z\"/><path d=\"M17.41 7.96l-1.37-1.37c-.4-.4-.92-.59-1.43-.59-.52 0-1.04.2-1.43.59L10.3 9.45l-7.72 7.72c-.78.78-.78 2.05 0 2.83L4 21.41c.39.39.9.59 1.41.59.51 0 1.02-.2 1.41-.59l7.78-7.78 2.81-2.81c.8-.78.8-2.07 0-2.86zM5.41 20L4 18.59l7.72-7.72 1.47 1.35L5.41 20z\"/>\n",
              "  </svg>\n",
              "      </button>\n",
              "      \n",
              "  <style>\n",
              "    .colab-df-container {\n",
              "      display:flex;\n",
              "      flex-wrap:wrap;\n",
              "      gap: 12px;\n",
              "    }\n",
              "\n",
              "    .colab-df-convert {\n",
              "      background-color: #E8F0FE;\n",
              "      border: none;\n",
              "      border-radius: 50%;\n",
              "      cursor: pointer;\n",
              "      display: none;\n",
              "      fill: #1967D2;\n",
              "      height: 32px;\n",
              "      padding: 0 0 0 0;\n",
              "      width: 32px;\n",
              "    }\n",
              "\n",
              "    .colab-df-convert:hover {\n",
              "      background-color: #E2EBFA;\n",
              "      box-shadow: 0px 1px 2px rgba(60, 64, 67, 0.3), 0px 1px 3px 1px rgba(60, 64, 67, 0.15);\n",
              "      fill: #174EA6;\n",
              "    }\n",
              "\n",
              "    [theme=dark] .colab-df-convert {\n",
              "      background-color: #3B4455;\n",
              "      fill: #D2E3FC;\n",
              "    }\n",
              "\n",
              "    [theme=dark] .colab-df-convert:hover {\n",
              "      background-color: #434B5C;\n",
              "      box-shadow: 0px 1px 3px 1px rgba(0, 0, 0, 0.15);\n",
              "      filter: drop-shadow(0px 1px 2px rgba(0, 0, 0, 0.3));\n",
              "      fill: #FFFFFF;\n",
              "    }\n",
              "  </style>\n",
              "\n",
              "      <script>\n",
              "        const buttonEl =\n",
              "          document.querySelector('#df-3424a478-327d-4f49-9d61-f1f9135ab250 button.colab-df-convert');\n",
              "        buttonEl.style.display =\n",
              "          google.colab.kernel.accessAllowed ? 'block' : 'none';\n",
              "\n",
              "        async function convertToInteractive(key) {\n",
              "          const element = document.querySelector('#df-3424a478-327d-4f49-9d61-f1f9135ab250');\n",
              "          const dataTable =\n",
              "            await google.colab.kernel.invokeFunction('convertToInteractive',\n",
              "                                                     [key], {});\n",
              "          if (!dataTable) return;\n",
              "\n",
              "          const docLinkHtml = 'Like what you see? Visit the ' +\n",
              "            '<a target=\"_blank\" href=https://colab.research.google.com/notebooks/data_table.ipynb>data table notebook</a>'\n",
              "            + ' to learn more about interactive tables.';\n",
              "          element.innerHTML = '';\n",
              "          dataTable['output_type'] = 'display_data';\n",
              "          await google.colab.output.renderOutput(dataTable, element);\n",
              "          const docLink = document.createElement('div');\n",
              "          docLink.innerHTML = docLinkHtml;\n",
              "          element.appendChild(docLink);\n",
              "        }\n",
              "      </script>\n",
              "    </div>\n",
              "  </div>\n",
              "  "
            ],
            "text/plain": [
              "                Modelo MuestraTam  Muestra Tamaño  Accuracy  Precision  \\\n",
              "0         DecisionTree   Completa     Test  48148  0.993603   0.032086   \n",
              "1         DecisionTree   Completa  Reserva  17833  0.992654   0.000000   \n",
              "2              XGBoost   Completa     Test  48148  0.997196   0.000000   \n",
              "3              XGBoost   Completa  Reserva  17833  0.996860   0.000000   \n",
              "4         RandomForest   Completa     Test  48148  0.997155   0.000000   \n",
              "5         RandomForest   Completa  Reserva  17833  0.996860   0.000000   \n",
              "6   DecisionTree Under      Under     Test    671  0.706408   0.354839   \n",
              "7   DecisionTree Under      Under  Reserva  17833  0.809623   0.005919   \n",
              "8        XGBoost Under      Under     Test    671  0.785395   0.494382   \n",
              "9        XGBoost Under      Under  Reserva  17833  0.913475   0.009241   \n",
              "10  RandomForest Under      Under     Test    671  0.821162   0.744681   \n",
              "11  RandomForest Under      Under  Reserva  17833  0.961420   0.007788   \n",
              "12   DecisionTree Over       Over     Test  60018  0.995935   0.980159   \n",
              "13   DecisionTree Over       Over  Reserva  17833  0.992430   0.012346   \n",
              "14        XGBoost Over       Over     Test  60018  0.974391   0.951025   \n",
              "15        XGBoost Over       Over  Reserva  17833  0.986374   0.020513   \n",
              "16   RandomForest Over       Over     Test  60018  0.999084   0.995458   \n",
              "17   RandomForest Over       Over  Reserva  17833  0.995626   0.000000   \n",
              "\n",
              "      Recall   F1Score  \n",
              "0   0.045113  0.037500  \n",
              "1   0.000000  0.000000  \n",
              "2   0.000000  0.000000  \n",
              "3   0.000000  0.000000  \n",
              "4   0.000000  0.000000  \n",
              "5   0.000000  0.000000  \n",
              "6   0.461538  0.401216  \n",
              "7   0.357143  0.011645  \n",
              "8   0.307692  0.379310  \n",
              "9   0.250000  0.017823  \n",
              "10  0.244755  0.368421  \n",
              "11  0.089286  0.014327  \n",
              "12  1.000000  0.989980  \n",
              "13  0.017857  0.014599  \n",
              "14  0.919861  0.935183  \n",
              "15  0.071429  0.031873  \n",
              "16  1.000000  0.997724  \n",
              "17  0.000000  0.000000  "
            ]
          },
          "execution_count": 242,
          "metadata": {},
          "output_type": "execute_result"
        }
      ],
      "source": [
        "# Saving results to compare later\n",
        "y_real = df_unseen['target']\n",
        "Y_pred = rf.predict(df_unseen.drop(['target'], axis=1))\n",
        "U_pred = rf.predict_proba(df_unseen.drop(['target'], axis=1))[:,1]\n",
        "datos = np.hstack((df_unseen['target'].values.reshape(-1,1), U_pred.reshape(-1,1)))\n",
        "df_submmit = pd.DataFrame(datos, columns=['real','prob'])\n",
        "df_submmit.to_csv('over_rf.csv', index=False)\n",
        "\n",
        "print(\"Matriz confusion: Unseen\")\n",
        "print(confusion_matrix(y_real,Y_pred))\n",
        "\n",
        "ind = ind.append({'Modelo' : 'RandomForest Over','MuestraTam': 'Over', 'Muestra' : 'Reserva', 'Tamaño': len(Y_pred), 'Accuracy' : accuracy_score(y_real,Y_pred), \n",
        "                  'Precision' : precision_score(y_real,Y_pred), 'Recall' : recall_score(y_real,Y_pred), 'F1Score' : f1_score(y_real,Y_pred)}, ignore_index = True)\n",
        "ind"
      ]
    },
    {
      "attachments": {},
      "cell_type": "markdown",
      "metadata": {},
      "source": [
        "Result:\n",
        "\n",
        "XGBoost model combined with Oversamplnig yielded the best results.\n",
        "\n",
        "Hyperparameter tuning is possible to better the results further.\n",
        "\n"
      ]
    },
    {
      "attachments": {},
      "cell_type": "markdown",
      "metadata": {},
      "source": [
        "This project represented a challange to me since the data was not very easy to work with and many variables were useless for the objective, the target variable was extremely small so the use of resampling methods was necessary.\n",
        "\n",
        "Truthfully i enjoyed every part and i hope to keep improving in the future."
      ]
    }
  ],
  "metadata": {
    "colab": {
      "collapsed_sections": [
        "0t9-SZOEdYS4"
      ],
      "provenance": [],
      "toc_visible": true
    },
    "kernelspec": {
      "display_name": "Python 3",
      "name": "python3"
    },
    "language_info": {
      "name": "python"
    }
  },
  "nbformat": 4,
  "nbformat_minor": 0
}
